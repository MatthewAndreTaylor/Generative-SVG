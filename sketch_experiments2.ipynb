{
 "cells": [
  {
   "cell_type": "markdown",
   "id": "632aa9ac",
   "metadata": {},
   "source": [
    "# Initial experiments Part 2"
   ]
  },
  {
   "cell_type": "code",
   "execution_count": 1,
   "id": "651fca9d",
   "metadata": {},
   "outputs": [],
   "source": [
    "import torch\n",
    "import torch.nn as nn\n",
    "import torch.nn.functional as F\n",
    "from torch.utils.data import Dataset\n",
    "from torch.utils.data import DataLoader\n",
    "\n",
    "from dataset import QuickDrawDataset\n",
    "from utils import AbsolutePenPositionTokenizer\n",
    "from prepare_data import stroke_to_rdp\n",
    "from tqdm import tqdm\n",
    "import pickle"
   ]
  },
  {
   "cell_type": "code",
   "execution_count": 2,
   "id": "d0c0017c",
   "metadata": {},
   "outputs": [
    {
     "name": "stdout",
     "output_type": "stream",
     "text": [
      "Using device: cuda\n"
     ]
    }
   ],
   "source": [
    "device = torch.device(\"cuda\" if torch.cuda.is_available() else \"cpu\")\n",
    "print(\"Using device:\", device)\n",
    "\n",
    "seed = 42\n",
    "torch.manual_seed(seed)\n",
    "if device == \"cuda\":\n",
    "    torch.cuda.manual_seed_all(seed)"
   ]
  },
  {
   "cell_type": "code",
   "execution_count": null,
   "id": "2d0dd2b3",
   "metadata": {},
   "outputs": [
    {
     "name": "stderr",
     "output_type": "stream",
     "text": [
      "Loading QuickDraw files: 100%|██████████| 1/1 [00:03<00:00,  3.24s/it]\n",
      "Tokenizing SVGs: 100%|██████████| 103031/103031 [02:01<00:00, 845.89it/s]\n"
     ]
    },
    {
     "name": "stdout",
     "output_type": "stream",
     "text": [
      "Saved tokenized data to sketch_rdp_tokenized_dataset.pkl\n"
     ]
    }
   ],
   "source": [
    "labels = [\"cat\"]\n",
    "\n",
    "training_data = QuickDrawDataset(\n",
    "    labels=labels,\n",
    ")\n",
    "\n",
    "tokenizer = AbsolutePenPositionTokenizer(bins=64)\n",
    "\n",
    "\n",
    "class SketchDataset(Dataset):\n",
    "    def __init__(\n",
    "        self,\n",
    "        svg_list,\n",
    "        tokenizer,\n",
    "        max_len=200,\n",
    "        cache_file=\"sketch_rdp_tokenized_200_dataset.pkl\",\n",
    "    ):\n",
    "        self.data = []\n",
    "        self.tokenizer = tokenizer\n",
    "        self.max_len = max_len\n",
    "        self.pad_id = tokenizer.vocab[\"PAD\"]\n",
    "\n",
    "        # Try to load from cache\n",
    "        try:\n",
    "            with open(cache_file, \"rb\") as f:\n",
    "                self.data = pickle.load(f)\n",
    "            print(f\"Loaded tokenized data from {cache_file}\")\n",
    "        except FileNotFoundError:\n",
    "            try:\n",
    "                for svg in tqdm(svg_list, desc=\"Tokenizing SVGs\"):\n",
    "                    # use RDP to reduce number of points in SVG\n",
    "                    svg = stroke_to_rdp(svg, epsilon=2.0)  # tuning\n",
    "                    tokens = tokenizer.encode(svg)\n",
    "                    # Truncate + Pad\n",
    "                    tokens = tokens[:max_len]\n",
    "                    tokens = tokens + [self.pad_id] * (max_len - len(tokens))\n",
    "                    self.data.append(tokens)\n",
    "\n",
    "            except Exception as e:\n",
    "                print(f\"Error processing SVG: {e}\")\n",
    "                pass\n",
    "\n",
    "            # Save to cache\n",
    "            with open(cache_file, \"wb\") as f:\n",
    "                pickle.dump(self.data, f)\n",
    "            print(f\"Saved tokenized data to {cache_file}\")\n",
    "\n",
    "    def __getitem__(self, idx):\n",
    "        seq = self.data[idx]\n",
    "        input_ids = torch.tensor(seq[:-1])\n",
    "        target_ids = torch.tensor(seq[1:])\n",
    "        return input_ids, target_ids\n",
    "\n",
    "    def __len__(self):\n",
    "        return len(self.data)\n",
    "\n",
    "\n",
    "dataset = SketchDataset(training_data, tokenizer)"
   ]
  },
  {
   "cell_type": "code",
   "execution_count": null,
   "id": "a5d81d15",
   "metadata": {},
   "outputs": [
    {
     "name": "stderr",
     "output_type": "stream",
     "text": [
      "c:\\Users\\matth\\AppData\\Local\\Programs\\Python\\Python313\\Lib\\site-packages\\torch\\nn\\modules\\transformer.py:392: UserWarning: enable_nested_tensor is True, but self.use_nested_tensor is False because encoder_layer.self_attn.batch_first was not True(use batch_first for better inference performance)\n",
      "  warnings.warn(\n",
      "Epoch 1/40: 100%|██████████| 805/805 [01:10<00:00, 11.41it/s]\n"
     ]
    },
    {
     "name": "stdout",
     "output_type": "stream",
     "text": [
      "Epoch 1 Loss: 3.2771\n"
     ]
    },
    {
     "name": "stderr",
     "output_type": "stream",
     "text": [
      "Epoch 2/40: 100%|██████████| 805/805 [01:11<00:00, 11.27it/s]\n"
     ]
    },
    {
     "name": "stdout",
     "output_type": "stream",
     "text": [
      "Epoch 2 Loss: 2.8960\n"
     ]
    },
    {
     "name": "stderr",
     "output_type": "stream",
     "text": [
      "Epoch 3/40: 100%|██████████| 805/805 [01:11<00:00, 11.27it/s]\n"
     ]
    },
    {
     "name": "stdout",
     "output_type": "stream",
     "text": [
      "Epoch 3 Loss: 2.5386\n"
     ]
    },
    {
     "name": "stderr",
     "output_type": "stream",
     "text": [
      "Epoch 4/40: 100%|██████████| 805/805 [01:11<00:00, 11.32it/s]\n"
     ]
    },
    {
     "name": "stdout",
     "output_type": "stream",
     "text": [
      "Epoch 4 Loss: 2.3577\n"
     ]
    },
    {
     "name": "stderr",
     "output_type": "stream",
     "text": [
      "Epoch 5/40: 100%|██████████| 805/805 [01:11<00:00, 11.33it/s]\n"
     ]
    },
    {
     "name": "stdout",
     "output_type": "stream",
     "text": [
      "Epoch 5 Loss: 2.2640\n"
     ]
    },
    {
     "name": "stderr",
     "output_type": "stream",
     "text": [
      "Epoch 6/40: 100%|██████████| 805/805 [01:10<00:00, 11.37it/s]\n"
     ]
    },
    {
     "name": "stdout",
     "output_type": "stream",
     "text": [
      "Epoch 6 Loss: 2.2048\n"
     ]
    },
    {
     "name": "stderr",
     "output_type": "stream",
     "text": [
      "Epoch 7/40: 100%|██████████| 805/805 [01:10<00:00, 11.35it/s]\n"
     ]
    },
    {
     "name": "stdout",
     "output_type": "stream",
     "text": [
      "Epoch 7 Loss: 2.1625\n"
     ]
    },
    {
     "name": "stderr",
     "output_type": "stream",
     "text": [
      "Epoch 8/40: 100%|██████████| 805/805 [01:10<00:00, 11.38it/s]\n"
     ]
    },
    {
     "name": "stdout",
     "output_type": "stream",
     "text": [
      "Epoch 8 Loss: 2.1299\n"
     ]
    },
    {
     "name": "stderr",
     "output_type": "stream",
     "text": [
      "Epoch 9/40: 100%|██████████| 805/805 [01:10<00:00, 11.40it/s]\n"
     ]
    },
    {
     "name": "stdout",
     "output_type": "stream",
     "text": [
      "Epoch 9 Loss: 2.1039\n"
     ]
    },
    {
     "name": "stderr",
     "output_type": "stream",
     "text": [
      "Epoch 10/40: 100%|██████████| 805/805 [01:10<00:00, 11.38it/s]\n"
     ]
    },
    {
     "name": "stdout",
     "output_type": "stream",
     "text": [
      "Epoch 10 Loss: 2.0823\n"
     ]
    },
    {
     "name": "stderr",
     "output_type": "stream",
     "text": [
      "Epoch 11/40:   7%|▋         | 54/805 [00:04<01:07, 11.11it/s]\n"
     ]
    },
    {
     "ename": "KeyboardInterrupt",
     "evalue": "",
     "output_type": "error",
     "traceback": [
      "\u001b[31m---------------------------------------------------------------------------\u001b[39m",
      "\u001b[31mKeyboardInterrupt\u001b[39m                         Traceback (most recent call last)",
      "\u001b[36mCell\u001b[39m\u001b[36m \u001b[39m\u001b[32mIn[4]\u001b[39m\u001b[32m, line 68\u001b[39m\n\u001b[32m     66\u001b[39m dataloader = DataLoader(dataset, batch_size=\u001b[32m128\u001b[39m, shuffle=\u001b[38;5;28;01mTrue\u001b[39;00m, pin_memory=\u001b[38;5;28;01mTrue\u001b[39;00m)\n\u001b[32m     67\u001b[39m model = SketchTransformer(vocab_size=\u001b[38;5;28mlen\u001b[39m(tokenizer.vocab), d_model=\u001b[32m256\u001b[39m, nhead=\u001b[32m8\u001b[39m, num_layers=\u001b[32m6\u001b[39m)\n\u001b[32m---> \u001b[39m\u001b[32m68\u001b[39m \u001b[43mtrain_model\u001b[49m\u001b[43m(\u001b[49m\u001b[43mmodel\u001b[49m\u001b[43m,\u001b[49m\u001b[43m \u001b[49m\u001b[43mdataloader\u001b[49m\u001b[43m,\u001b[49m\u001b[43m \u001b[49m\u001b[43mvocab_size\u001b[49m\u001b[43m=\u001b[49m\u001b[38;5;28;43mlen\u001b[39;49m\u001b[43m(\u001b[49m\u001b[43mtokenizer\u001b[49m\u001b[43m.\u001b[49m\u001b[43mvocab\u001b[49m\u001b[43m)\u001b[49m\u001b[43m,\u001b[49m\u001b[43m \u001b[49m\u001b[43mepochs\u001b[49m\u001b[43m=\u001b[49m\u001b[32;43m40\u001b[39;49m\u001b[43m,\u001b[49m\u001b[43m \u001b[49m\u001b[43mlr\u001b[49m\u001b[43m=\u001b[49m\u001b[32;43m1e-4\u001b[39;49m\u001b[43m,\u001b[49m\u001b[43m \u001b[49m\u001b[43mdevice\u001b[49m\u001b[43m=\u001b[49m\u001b[43mdevice\u001b[49m\u001b[43m)\u001b[49m\n",
      "\u001b[36mCell\u001b[39m\u001b[36m \u001b[39m\u001b[32mIn[4]\u001b[39m\u001b[32m, line 61\u001b[39m, in \u001b[36mtrain_model\u001b[39m\u001b[34m(model, dataloader, vocab_size, epochs, lr, device)\u001b[39m\n\u001b[32m     58\u001b[39m     loss.backward()\n\u001b[32m     59\u001b[39m     optimizer.step()\n\u001b[32m---> \u001b[39m\u001b[32m61\u001b[39m     total_loss += \u001b[43mloss\u001b[49m\u001b[43m.\u001b[49m\u001b[43mitem\u001b[49m\u001b[43m(\u001b[49m\u001b[43m)\u001b[49m\n\u001b[32m     63\u001b[39m \u001b[38;5;28mprint\u001b[39m(\u001b[33mf\u001b[39m\u001b[33m\"\u001b[39m\u001b[33mEpoch \u001b[39m\u001b[38;5;132;01m{\u001b[39;00mepoch+\u001b[32m1\u001b[39m\u001b[38;5;132;01m}\u001b[39;00m\u001b[33m Loss: \u001b[39m\u001b[38;5;132;01m{\u001b[39;00mtotal_loss/\u001b[38;5;28mlen\u001b[39m(dataloader)\u001b[38;5;132;01m:\u001b[39;00m\u001b[33m.4f\u001b[39m\u001b[38;5;132;01m}\u001b[39;00m\u001b[33m\"\u001b[39m)\n",
      "\u001b[31mKeyboardInterrupt\u001b[39m: "
     ]
    }
   ],
   "source": [
    "def generate_square_subsequent_mask(sz: int):\n",
    "    \"\"\"Causal mask to stop attention to future positions\"\"\"\n",
    "    return torch.triu(torch.ones(sz, sz), diagonal=1).bool()\n",
    "\n",
    "\n",
    "class SketchTransformer(nn.Module):\n",
    "    def __init__(self, vocab_size, d_model=256, nhead=8, num_layers=6, max_len=200):\n",
    "        super().__init__()\n",
    "        self.vocab_size = vocab_size\n",
    "        self.d_model = d_model\n",
    "        self.max_len = max_len\n",
    "\n",
    "        self.embed = nn.Embedding(vocab_size, d_model)\n",
    "        self.pos_embed = nn.Embedding(max_len, d_model)\n",
    "\n",
    "        encoder_layer = nn.TransformerEncoderLayer(\n",
    "            d_model=d_model, nhead=nhead, dim_feedforward=4 * d_model\n",
    "        )\n",
    "        self.transformer = nn.TransformerEncoder(encoder_layer, num_layers=num_layers)\n",
    "\n",
    "        self.fc_out = nn.Linear(d_model, vocab_size)\n",
    "\n",
    "    def forward(self, x):\n",
    "        \"\"\"\n",
    "        x: (batch, seq_len) input tokens\n",
    "        Returns: (batch, seq_len, vocab_size) logits\n",
    "        \"\"\"\n",
    "        batch_size, seq_len = x.shape\n",
    "        positions = torch.arange(0, seq_len, device=x.device).unsqueeze(0)\n",
    "\n",
    "        x = self.embed(x) + self.pos_embed(positions)  # (batch, seq_len, d_model)\n",
    "        x = x.transpose(0, 1)  # -> (seq_len, batch, d_model)\n",
    "\n",
    "        # causal mask (seq_len, seq_len)\n",
    "        mask = generate_square_subsequent_mask(seq_len).to(x.device)\n",
    "\n",
    "        x = self.transformer(x, mask=mask)  # (seq_len, batch, d_model)\n",
    "        x = x.transpose(0, 1)  # back to (batch, seq_len, d_model)\n",
    "\n",
    "        logits = self.fc_out(x)  # (batch, seq_len, vocab_size)\n",
    "        return logits\n",
    "\n",
    "\n",
    "def train_model(model, dataloader, vocab_size, epochs=10, lr=1e-4, device=\"cuda\"):\n",
    "    model = model.to(device)\n",
    "    optimizer = torch.optim.AdamW(model.parameters(), lr=lr)\n",
    "    criterion = nn.CrossEntropyLoss(ignore_index=0)  # ignore pad token\n",
    "\n",
    "    for epoch in range(epochs):\n",
    "        model.train()\n",
    "        total_loss = 0\n",
    "        for input_ids, target_ids in tqdm(dataloader, desc=f\"Epoch {epoch+1}/{epochs}\"):\n",
    "            input_ids, target_ids = input_ids.to(device), target_ids.to(device)\n",
    "\n",
    "            # Transformer expects shape (seq_len, batch, d_model)\n",
    "            logits = model(input_ids)  # (seq_len, batch, vocab_size)\n",
    "            loss = criterion(logits.view(-1, vocab_size), target_ids.view(-1))\n",
    "\n",
    "            optimizer.zero_grad()\n",
    "            loss.backward()\n",
    "            optimizer.step()\n",
    "\n",
    "            total_loss += loss.item()\n",
    "\n",
    "        print(f\"Epoch {epoch+1} Loss: {total_loss/len(dataloader):.4f}\")\n",
    "\n",
    "\n",
    "dataloader = DataLoader(dataset, batch_size=128, shuffle=True, pin_memory=True)\n",
    "model = SketchTransformer(\n",
    "    vocab_size=len(tokenizer.vocab), d_model=256, nhead=8, num_layers=6\n",
    ")\n",
    "train_model(\n",
    "    model,\n",
    "    dataloader,\n",
    "    vocab_size=len(tokenizer.vocab),\n",
    "    epochs=40,\n",
    "    lr=1e-4,\n",
    "    device=device,\n",
    ")"
   ]
  },
  {
   "cell_type": "code",
   "execution_count": 5,
   "id": "e85165ab",
   "metadata": {},
   "outputs": [],
   "source": [
    "torch.save(model, \"sketch_transformer_model_cat.pth\")"
   ]
  },
  {
   "cell_type": "code",
   "execution_count": null,
   "id": "97b7ba66",
   "metadata": {},
   "outputs": [
    {
     "name": "stdout",
     "output_type": "stream",
     "text": [
      "Generated token sequence: [4098, 4096, 1045, 919, 732, 544, 423, 493, 818, 948, 2106, 2679, 2997, 3310, 3371, 3361, 3164, 2968, 2583, 1875, 1365, 4096, 1044, 712, 640, 961, 1413, 1612, 4096, 2385, 2766, 3271, 3650, 3852, 3734, 4096, 1959, 1960, 2087, 4096, 1959, 1574, 743, 4096, 1895, 1324, 688, 4096, 1960, 1005, 4096, 2154, 2984, 4096, 2094, 2161, 2357, 4096, 1501, 1245, 4096, 2204, 2207, 4099]\n",
      "Decoded sketch: <svg viewBox=\"0 0 64 64\"><g stroke-width=\"0.4\">\n",
      "<path d=\"M 16 21 L 14 23 L 11 28 L 8 32 L 6 39 L 7 45 L 12 50 L 14 52 L 32 58 L 41 55 L 46 53 L 51 46 L 52 43 L 52 33 L 49 28 L 46 24 L 40 23 L 29 19 L 21 21\" stroke=\"black\" fill=\"none\"/>\n",
      "<path d=\"M 16 20 L 11 8 L 10 0 L 15 1 L 22 5 L 25 12\" stroke=\"black\" fill=\"none\"/>\n",
      "<path d=\"M 37 17 L 43 14 L 51 7 L 57 2 L 60 12 L 58 22\" stroke=\"black\" fill=\"none\"/>\n",
      "<path d=\"M 30 39 L 30 40 L 32 39\" stroke=\"black\" fill=\"none\"/>\n",
      "<path d=\"M 30 39 L 24 38 L 11 39\" stroke=\"black\" fill=\"none\"/>\n",
      "<path d=\"M 29 39 L 20 44 L 10 48\" stroke=\"black\" fill=\"none\"/>\n",
      "<path d=\"M 30 40 L 15 45\" stroke=\"black\" fill=\"none\"/>\n",
      "<path d=\"M 33 42 L 46 40\" stroke=\"black\" fill=\"none\"/>\n",
      "<path d=\"M 32 46 L 33 49 L 36 53\" stroke=\"black\" fill=\"none\"/>\n",
      "<path d=\"M 23 29 L 19 29\" stroke=\"black\" fill=\"none\"/>\n",
      "<path d=\"M 34 28 L 34 31\" stroke=\"black\" fill=\"none\"/>\n",
      "</g></svg>\n"
     ]
    },
    {
     "data": {
      "text/html": [
       "<div style=\"display:inline-block; width: 150px; background-color: white; margin-right:10px;\"><b>Generated</b><br><svg viewBox=\"0 0 64 64\"><g stroke-width=\"0.4\">\n",
       "<path d=\"M 16 21 L 14 23 L 11 28 L 8 32 L 6 39 L 7 45 L 12 50 L 14 52 L 32 58 L 41 55 L 46 53 L 51 46 L 52 43 L 52 33 L 49 28 L 46 24 L 40 23 L 29 19 L 21 21\" stroke=\"black\" fill=\"none\"/>\n",
       "<path d=\"M 16 20 L 11 8 L 10 0 L 15 1 L 22 5 L 25 12\" stroke=\"black\" fill=\"none\"/>\n",
       "<path d=\"M 37 17 L 43 14 L 51 7 L 57 2 L 60 12 L 58 22\" stroke=\"black\" fill=\"none\"/>\n",
       "<path d=\"M 30 39 L 30 40 L 32 39\" stroke=\"black\" fill=\"none\"/>\n",
       "<path d=\"M 30 39 L 24 38 L 11 39\" stroke=\"black\" fill=\"none\"/>\n",
       "<path d=\"M 29 39 L 20 44 L 10 48\" stroke=\"black\" fill=\"none\"/>\n",
       "<path d=\"M 30 40 L 15 45\" stroke=\"black\" fill=\"none\"/>\n",
       "<path d=\"M 33 42 L 46 40\" stroke=\"black\" fill=\"none\"/>\n",
       "<path d=\"M 32 46 L 33 49 L 36 53\" stroke=\"black\" fill=\"none\"/>\n",
       "<path d=\"M 23 29 L 19 29\" stroke=\"black\" fill=\"none\"/>\n",
       "<path d=\"M 34 28 L 34 31\" stroke=\"black\" fill=\"none\"/>\n",
       "</g></svg></div>"
      ],
      "text/plain": [
       "<IPython.core.display.HTML object>"
      ]
     },
     "metadata": {},
     "output_type": "display_data"
    }
   ],
   "source": [
    "# model = torch.load(\"sketch_transformer_cat_decoder_checkpoint.pth\", map_location=device, weights_only=False)\n",
    "\n",
    "\n",
    "def sample_sequence(\n",
    "    model,\n",
    "    start_token,\n",
    "    max_len=200,\n",
    "    temperature=1.0,\n",
    "    greedy=False,\n",
    "    eos_id=None,\n",
    "    device=\"cuda\",\n",
    "):\n",
    "    model.eval()\n",
    "\n",
    "    tokens = [start_token]\n",
    "    tokens_tensor = torch.tensor([tokens], device=device)  # (1, 1)\n",
    "\n",
    "    for _ in range(max_len - 1):\n",
    "        with torch.no_grad():\n",
    "            logits = model(tokens_tensor)  # (batch=1, seq_len, vocab_size)\n",
    "            next_logits = logits[:, -1, :] / temperature  # take last step\n",
    "            probs = F.softmax(next_logits, dim=-1)\n",
    "\n",
    "            if greedy:\n",
    "                next_token = torch.argmax(probs, dim=-1).item()\n",
    "            else:\n",
    "                next_token = torch.multinomial(probs, num_samples=1).item()\n",
    "\n",
    "        tokens.append(next_token)\n",
    "\n",
    "        # stop if EOS reached\n",
    "        if eos_id is not None and next_token == eos_id:\n",
    "            break\n",
    "\n",
    "        next_token_tensor = torch.tensor([[next_token]], device=device)\n",
    "        tokens_tensor = torch.cat([tokens_tensor, next_token_tensor], dim=1)\n",
    "\n",
    "    return tokens\n",
    "\n",
    "\n",
    "# TODO Top-k filtering, Top-p filtering (nucleus)\n",
    "\n",
    "start_token = tokenizer.vocab[\"START\"]\n",
    "eos_token = tokenizer.vocab.get(\"END\", None)\n",
    "\n",
    "generated = sample_sequence(\n",
    "    model,\n",
    "    start_token,\n",
    "    max_len=200,\n",
    "    temperature=0.5,\n",
    "    greedy=False,\n",
    "    eos_id=eos_token,\n",
    "    device=device,\n",
    ")\n",
    "\n",
    "print(\"Generated token sequence:\", generated)\n",
    "decoded_sketch = tokenizer.decode(generated, stroke_width=0.4)\n",
    "print(\"Decoded sketch:\", decoded_sketch)\n",
    "\n",
    "from IPython.display import HTML, display\n",
    "\n",
    "display(\n",
    "    HTML(\n",
    "        f'<div style=\"display:inline-block; width: 150px; background-color: white; margin-right:10px;\"><b>Generated</b><br>{decoded_sketch}</div>'\n",
    "    )\n",
    ")"
   ]
  },
  {
   "cell_type": "code",
   "execution_count": null,
   "id": "c1502569",
   "metadata": {},
   "outputs": [
    {
     "name": "stdout",
     "output_type": "stream",
     "text": [
      "Generated token sequence: [4098, 4096, 658, 597, 602, 673, 933, 1257, 1772, 2283, 2475, 2918, 3039, 3035, 3027, 2832, 2254, 1932, 1420, 783, 592, 403, 4096, 786, 657, 523, 512, 836, 1421, 4096, 2315, 2950, 3392, 3713, 3653, 3215, 4096, 1755, 1883, 4096, 1885, 2016, 2016, 1825, 1567, 4096, 2016, 1891, 4096, 1887, 2016, 2144, 4096, 2142, 2268, 2779, 4060, 4096, 2082, 2467, 3044, 4096, 2014, 1629, 1054, 31, 4096, 1759, 1568, 994, 739, 232, 4099]\n",
      "Decoded sketch: <svg viewBox=\"0 0 64 64\"><g stroke-width=\"0.4\">\n",
      "<path d=\"M 10 18 L 9 21 L 9 26 L 10 33 L 14 37 L 19 41 L 27 44 L 35 43 L 38 43 L 45 38 L 47 31 L 47 27 L 47 19 L 44 16 L 35 14 L 30 12 L 22 12 L 12 15 L 9 16 L 6 19\" stroke=\"black\" fill=\"none\"/>\n",
      "<path d=\"M 12 18 L 10 17 L 8 11 L 8 0 L 13 4 L 22 13\" stroke=\"black\" fill=\"none\"/>\n",
      "<path d=\"M 36 11 L 46 6 L 53 0 L 58 1 L 57 5 L 50 15\" stroke=\"black\" fill=\"none\"/>\n",
      "<path d=\"M 27 27 L 29 27\" stroke=\"black\" fill=\"none\"/>\n",
      "<path d=\"M 29 29 L 31 32 L 31 32 L 28 33 L 24 31\" stroke=\"black\" fill=\"none\"/>\n",
      "<path d=\"M 31 32 L 29 35\" stroke=\"black\" fill=\"none\"/>\n",
      "<path d=\"M 29 31 L 31 32 L 33 32\" stroke=\"black\" fill=\"none\"/>\n",
      "<path d=\"M 33 30 L 35 28 L 43 27 L 63 28\" stroke=\"black\" fill=\"none\"/>\n",
      "<path d=\"M 32 34 L 38 35 L 47 36\" stroke=\"black\" fill=\"none\"/>\n",
      "<path d=\"M 31 30 L 25 29 L 16 30 L 0 31\" stroke=\"black\" fill=\"none\"/>\n",
      "<path d=\"M 27 31 L 24 32 L 15 34 L 11 35 L 3 40\" stroke=\"black\" fill=\"none\"/>\n",
      "</g></svg>\n"
     ]
    },
    {
     "data": {
      "text/html": [
       "<div style=\"display:inline-block; width: 150px; background-color: white; margin-right:10px;\"><b>Generated</b><br><svg viewBox=\"0 0 64 64\"><g stroke-width=\"0.4\">\n",
       "<path d=\"M 10 18 L 9 21 L 9 26 L 10 33 L 14 37 L 19 41 L 27 44 L 35 43 L 38 43 L 45 38 L 47 31 L 47 27 L 47 19 L 44 16 L 35 14 L 30 12 L 22 12 L 12 15 L 9 16 L 6 19\" stroke=\"black\" fill=\"none\"/>\n",
       "<path d=\"M 12 18 L 10 17 L 8 11 L 8 0 L 13 4 L 22 13\" stroke=\"black\" fill=\"none\"/>\n",
       "<path d=\"M 36 11 L 46 6 L 53 0 L 58 1 L 57 5 L 50 15\" stroke=\"black\" fill=\"none\"/>\n",
       "<path d=\"M 27 27 L 29 27\" stroke=\"black\" fill=\"none\"/>\n",
       "<path d=\"M 29 29 L 31 32 L 31 32 L 28 33 L 24 31\" stroke=\"black\" fill=\"none\"/>\n",
       "<path d=\"M 31 32 L 29 35\" stroke=\"black\" fill=\"none\"/>\n",
       "<path d=\"M 29 31 L 31 32 L 33 32\" stroke=\"black\" fill=\"none\"/>\n",
       "<path d=\"M 33 30 L 35 28 L 43 27 L 63 28\" stroke=\"black\" fill=\"none\"/>\n",
       "<path d=\"M 32 34 L 38 35 L 47 36\" stroke=\"black\" fill=\"none\"/>\n",
       "<path d=\"M 31 30 L 25 29 L 16 30 L 0 31\" stroke=\"black\" fill=\"none\"/>\n",
       "<path d=\"M 27 31 L 24 32 L 15 34 L 11 35 L 3 40\" stroke=\"black\" fill=\"none\"/>\n",
       "</g></svg></div>"
      ],
      "text/plain": [
       "<IPython.core.display.HTML object>"
      ]
     },
     "metadata": {},
     "output_type": "display_data"
    }
   ],
   "source": [
    "def top_p_filtering(logits, p=0.9):\n",
    "    sorted_logits, sorted_indices = torch.sort(logits, descending=True)\n",
    "    cumulative_probs = torch.cumsum(F.softmax(sorted_logits, dim=-1), dim=-1)\n",
    "\n",
    "    sorted_indices_to_remove = cumulative_probs > p\n",
    "    sorted_indices_to_remove[..., 1:] = sorted_indices_to_remove[..., :-1].clone()\n",
    "    sorted_indices_to_remove[..., 0] = False\n",
    "\n",
    "    indices_to_remove = sorted_indices[sorted_indices_to_remove]\n",
    "    logits[:, indices_to_remove] = -float(\"Inf\")\n",
    "    return logits\n",
    "\n",
    "\n",
    "def top_k_filtering(logits, k):\n",
    "    if k <= 0:\n",
    "        return logits\n",
    "    top_k = min(k, logits.size(-1))\n",
    "    values, _ = torch.topk(logits, top_k)\n",
    "    min_values = values[:, -1].unsqueeze(-1)\n",
    "    logits[logits < min_values] = -float(\"Inf\")\n",
    "    return logits\n",
    "\n",
    "\n",
    "def sample_sequence_feat(\n",
    "    model,\n",
    "    start_token,\n",
    "    max_len=200,\n",
    "    temperature=1.0,\n",
    "    top_k=60,\n",
    "    top_p=0.9,\n",
    "    greedy=False,\n",
    "    eos_id=None,\n",
    "    device=\"cuda\",\n",
    "):\n",
    "    model.eval()\n",
    "    tokens = [start_token]\n",
    "    tokens_tensor = torch.tensor([tokens], device=device)\n",
    "\n",
    "    for _ in range(max_len - 1):\n",
    "        with torch.no_grad():\n",
    "            logits = model(tokens_tensor)\n",
    "            next_logits = logits[:, -1, :] / temperature\n",
    "\n",
    "            # top-k / top-p filtering\n",
    "            next_logits = top_k_filtering(next_logits, top_k)\n",
    "            next_logits = top_p_filtering(next_logits, top_p)\n",
    "\n",
    "            probs = F.softmax(next_logits, dim=-1)\n",
    "\n",
    "            if greedy:\n",
    "                next_token = torch.argmax(probs, dim=-1).item()\n",
    "            else:\n",
    "                next_token = torch.multinomial(probs, num_samples=1).item()\n",
    "\n",
    "        tokens.append(next_token)\n",
    "\n",
    "        if eos_id is not None and next_token == eos_id:\n",
    "            break\n",
    "\n",
    "        next_token_tensor = torch.tensor([[next_token]], device=device)\n",
    "        tokens_tensor = torch.cat([tokens_tensor, next_token_tensor], dim=1)\n",
    "\n",
    "    return tokens\n",
    "\n",
    "\n",
    "start_token = tokenizer.vocab[\"START\"]\n",
    "eos_token = tokenizer.vocab.get(\"END\", None)\n",
    "\n",
    "generated = sample_sequence_feat(\n",
    "    model,\n",
    "    start_token,\n",
    "    max_len=200,\n",
    "    temperature=1.0,\n",
    "    greedy=False,\n",
    "    eos_id=eos_token,\n",
    "    device=device,\n",
    ")\n",
    "\n",
    "print(\"Generated token sequence:\", generated)\n",
    "decoded_sketch = tokenizer.decode(generated, stroke_width=0.4)\n",
    "print(\"Decoded sketch:\", decoded_sketch)\n",
    "\n",
    "from IPython.display import HTML, display\n",
    "\n",
    "display(\n",
    "    HTML(\n",
    "        f'<div style=\"display:inline-block; width: 150px; background-color: white; margin-right:10px;\"><b>Generated</b><br>{decoded_sketch}</div>'\n",
    "    )\n",
    ")"
   ]
  }
 ],
 "metadata": {
  "kernelspec": {
   "display_name": "Python 3",
   "language": "python",
   "name": "python3"
  },
  "language_info": {
   "codemirror_mode": {
    "name": "ipython",
    "version": 3
   },
   "file_extension": ".py",
   "mimetype": "text/x-python",
   "name": "python",
   "nbconvert_exporter": "python",
   "pygments_lexer": "ipython3",
   "version": "3.13.7"
  }
 },
 "nbformat": 4,
 "nbformat_minor": 5
}
