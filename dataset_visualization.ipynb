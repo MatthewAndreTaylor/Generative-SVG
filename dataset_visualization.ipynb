{
 "cells": [
  {
   "cell_type": "code",
   "execution_count": 1,
   "id": "bd3d6bcf",
   "metadata": {},
   "outputs": [
    {
     "name": "stderr",
     "output_type": "stream",
     "text": [
      "Loading TUBerlin files: 100%|██████████| 1/1 [00:00<00:00, 131.42it/s]\n"
     ]
    },
    {
     "data": {
      "text/html": [
       "<div style=\"width: 200px; background-color: white;\"> <?xml version=\"1.0\" encoding=\"utf-8\"?>\n",
       "<!DOCTYPE svg PUBLIC \"-//W3C//DTD SVG 1.1//EN\" \"http://www.w3.org/Graphics/SVG/1.1/DTD/svg11.dtd\">\n",
       "<svg viewBox=\"0 0 800 800\" preserveAspectRatio=\"xMinYMin meet\" xmlns=\"http://www.w3.org/2000/svg\" version=\"1.1\">\n",
       "<g fill=\"none\" stroke=\"black\" stroke-linecap=\"round\" stroke-linejoin=\"round\" stroke-width=\"1.0417\">\n",
       "<g transform=\"translate(124.96,87.52) scale(2.88) translate(-175,-125)\">\n",
       "<path id=\"0\" d=\"M217 158 C217 158 227.4332 151.9248 238 148 C244.4622 145.5997 244.9721 145.9371 252 145 C267.3247 142.9567 267.5775 142.3808 283 142 C307.8035 141.3876 321.4405 137.9427 333 143 C338.9158 145.5882 341.9785 156.1908 347 170 C353.6717 188.3471 352.9715 189.4329 357 209 C359.9262 223.2128 360.0378 223.5677 361 238 C362.0191 253.287 361 269 361 269 \"/>\n",
       "<path id=\"1\" d=\"M219 161 C219 161 220.1782 172.3174 223 183 C227.1173 198.5868 232.1352 199.2983 233 214 C234.9374 246.9352 227.9258 252.058 229 285 C229.3218 294.8674 230.9927 297.0285 236 306 C242.3305 317.3421 243.5233 320.4617 253 328 C263.257 336.159 266.9654 338.0085 280 341 C294.8803 344.4152 297.4343 342.6626 314 342 C321.8633 341.6855 323.8212 342.0894 330 339 C337.9442 335.0279 340.8061 331.8049 346 326 C347.311 324.5348 345.7603 322.2315 347 320 C350.2148 314.2133 352.103 314.2353 356 308 C359.4825 302.4281 360.5311 302.0223 362 296 C365.2704 282.5916 364.7726 280.0927 366 267 C366.1214 265.7047 365.2022 264.0168 365 264 C363.2479 263.854 359.3904 264.6362 354 266 C318.017 275.1041 317.5513 278.8705 282 285 C261.1383 288.5969 243.735 285.609 238 286 C237.9823 286.0012 238.1 287.95 238 288 C237.6 288.2 234.32 288.24 234 288 C233.82 287.865 234 285 234 285 \"/>\n",
       "<path id=\"2\" d=\"M235 216 C235 216 248.5834 218.6728 262 219 C289.2443 219.6645 291.2837 221.2145 317 218 C329.1875 216.4766 330.3499 214.5603 342 209 C351.8334 204.3068 361 197 361 197 \"/>\n",
       "<path id=\"3\" d=\"M276 223 C276 223 274.5226 234.596 275 235 C275.6861 235.5805 287.7714 235.0531 289 234 C289.7797 233.3317 289 223 289 223 \"/>\n",
       "<path id=\"4\" d=\"M318 220 C318 220 318.3367 227.621 319 228 C320.5477 228.8844 330.2395 229.2104 332 228 C333.4304 227.0166 335 217 335 217 \"/>\n",
       "<path id=\"5\" d=\"M240 289 C240 289 239.1353 301.9912 240 303 C240.6353 303.7412 246.7622 303.873 252 303 C254.8371 302.5271 257.7283 300.8829 258 300 C258.5261 298.2903 256 290 256 290 \"/>\n",
       "<path id=\"6\" d=\"M223 157 C223 157 224.3496 150.5057 227 146 C228.8915 142.7845 229.6497 142.0795 233 140 C243.4903 133.4888 244.7667 130.553 256 128 C275.0728 123.6653 279.9334 123.9965 299 125 C305.3711 125.3353 308.6671 127.3512 313 131 C316.0522 133.5703 318 141 318 141 \"/>\n",
       "<path id=\"7\" d=\"M226 152 C226 152 208.9573 149.4991 201 152 C196.7167 153.3462 194.6176 157.2118 191 163 C187.6183 168.4107 189.0666 170.4801 186 176 C184.4883 178.7211 181.7625 178.5046 181 181 C177.1648 193.5514 176.3552 196.6408 175 212 C173.4096 230.0241 171.6343 233.725 175 249 C177.2618 259.265 180.6598 261.1189 188 271 C193.2534 278.0719 193.9609 278.9407 201 284 C209.25 289.9297 210.7724 290.828 220 294 C225.4878 295.8864 230.4922 295.6687 233 295 C233.6565 294.8249 235 290 235 290 \"/>\n",
       "<path id=\"8\" d=\"M221 159 C221 159 215.3128 162.1776 212 166 C209.4333 168.9615 208.5217 170.1243 208 174 C205.2868 194.1553 204.0388 197.4951 205 218 C205.4445 227.4818 207.2643 228.5171 211 238 C213.6322 244.6817 214.1019 244.8745 218 251 C221.0048 255.7218 222.2837 257.5553 225 260 C225.5397 260.4857 228 260 228 260 \"/>\n",
       "<path id=\"9\" d=\"M286 144 C286 144 284.0232 151.7485 285 158 C286.3362 166.5517 289.7012 167.0526 291 176 C294.0583 197.0684 294 220 294 220 \"/>\n",
       "<path id=\"10\" d=\"M226 183 C226 183 234.0581 183.6932 241 182 C253.8398 178.8683 254.3492 175.2771 267 173 C277.9927 171.0213 291 173 291 173 \"/>\n",
       "<path id=\"11\" d=\"M254 167 C254 167 253.6858 164.6283 254 164 C254.2094 163.5811 255.9941 162.9912 256 163 C256.0705 163.1058 255.76 166.68 256 167 C256.135 167.18 258.8125 167.1875 259 167 C259.1875 166.8125 259.0786 164.0262 259 164 C258.5549 163.8516 253 165 253 165 \"/>\n",
       "<path id=\"12\" d=\"M296 173 C296 173 295.9365 174.9853 296 175 C297.8203 175.4201 302.5109 175.8455 309 176 C323.4491 176.344 324.4949 177.3505 338 176 C343.3089 175.4691 349 172 349 172 \"/>\n",
       "<path id=\"13\" d=\"M317 164 C317 164 320.5618 165.2055 322 165 C322.6768 164.9033 324 163.1169 324 163 C324 162.9416 322 162 322 162 \"/>\n",
       "</g>\n",
       "</g>\n",
       "</svg>\n",
       " </div>"
      ],
      "text/plain": [
       "<IPython.core.display.HTML object>"
      ]
     },
     "metadata": {},
     "output_type": "display_data"
    },
    {
     "name": "stdout",
     "output_type": "stream",
     "text": [
      "4341\n"
     ]
    },
    {
     "data": {
      "text/html": [
       "<div style=\"width: 200px; background-color: white;\"> <svg viewBox=\"49.04015277777778 32.74570833333333 74.16969444444445 83.70302777777778\" xmlns=\"http://www.w3.org/2000/svg\"><g stroke-width=\"0.4\"><defs/><path d=\"M69,50C69,50 72,48 76,47C78,46 78,47 80,46C85,46 85,45 90,45C98,45 102,44 106,46C108,46 109,50 111,54C113,60 113,60 114,67C115,71 115,71 115,76C115,81 115,86 115,86\" fill=\"none\" stroke=\"#000000\" /><path d=\"M70,51C70,51 70,55 71,58C72,63 74,64 74,68C75,79 73,80 73,91C73,94 74,95 75,98C77,101 78,102 81,105C84,107 85,108 89,109C94,110 95,109 100,109C103,109 103,109 105,108C108,107 109,106 110,104C111,103 110,103 111,102C112,100 112,100 113,98C115,96 115,96 115,94C116,90 116,89 117,85C117,85 116,84 116,84C116,84 115,84 113,85C101,88 101,89 90,91C83,92 78,91 76,91C76,91 76,92 76,92C76,92 75,92 75,92C75,92 75,91 75,91\" fill=\"none\" stroke=\"#000000\" /><path d=\"M75,69C75,69 79,70 84,70C92,70 93,71 101,69C105,69 105,68 109,67C112,65 115,63 115,63\" fill=\"none\" stroke=\"#000000\" /><path d=\"M88,71C88,71 88,75 88,75C88,75 92,75 92,75C92,74 92,71 92,71\" fill=\"none\" stroke=\"#000000\" /><path d=\"M101,70C101,70 101,73 102,73C102,73 105,73 106,73C106,72 107,69 107,69\" fill=\"none\" stroke=\"#000000\" /><path d=\"M76,92C76,92 76,96 76,97C77,97 79,97 80,97C81,96 82,96 82,96C82,95 82,92 82,92\" fill=\"none\" stroke=\"#000000\" /><path d=\"M71,50C71,50 72,48 72,47C73,46 73,45 74,45C78,43 78,42 82,41C88,39 89,40 95,40C97,40 98,41 100,42C101,43 101,45 101,45\" fill=\"none\" stroke=\"#000000\" /><path d=\"M72,48C72,48 67,48 64,48C63,49 62,50 61,52C60,54 60,54 59,56C59,57 58,57 58,58C56,62 56,63 56,68C55,73 55,74 56,79C57,83 58,83 60,86C62,89 62,89 64,91C67,92 67,93 70,94C72,94 73,94 74,94C74,94 75,92 75,92\" fill=\"none\" stroke=\"#000000\" /><path d=\"M70,51C70,51 69,52 68,53C67,54 66,54 66,55C65,62 65,63 65,69C65,73 66,73 67,76C68,78 68,78 69,80C70,82 71,82 72,83C72,83 73,83 73,83\" fill=\"none\" stroke=\"#000000\" /><path d=\"M91,46C91,46 91,48 91,50C91,53 92,53 93,56C94,63 94,70 94,70\" fill=\"none\" stroke=\"#000000\" /><path d=\"M72,58C72,58 75,59 77,58C81,57 81,56 85,55C89,55 93,55 93,55\" fill=\"none\" stroke=\"#000000\" /><path d=\"M81,53C81,53 81,52 81,52C81,52 82,52 82,52C82,52 82,53 82,53C82,53 82,53 83,53C83,53 83,52 83,52C82,52 81,53 81,53\" fill=\"none\" stroke=\"#000000\" /><path d=\"M94,55C94,55 94,56 94,56C95,56 96,56 98,56C103,56 103,57 108,56C109,56 111,55 111,55\" fill=\"none\" stroke=\"#000000\" /><path d=\"M101,52C101,52 102,53 103,53C103,53 103,52 103,52C103,52 103,52 103,52\" fill=\"none\" stroke=\"#000000\" /></g></svg> </div>"
      ],
      "text/plain": [
       "<IPython.core.display.HTML object>"
      ]
     },
     "metadata": {},
     "output_type": "display_data"
    },
    {
     "name": "stdout",
     "output_type": "stream",
     "text": [
      "2461\n"
     ]
    }
   ],
   "source": [
    "from IPython.display import  HTML\n",
    "from dataset import TUBerlinDataset\n",
    "from prepare_data import convert_and_quantize_svg\n",
    "\n",
    "labels = [ \"backpack\" ]\n",
    "dataset = TUBerlinDataset(labels)\n",
    "\n",
    "for svg_content in dataset[0:1]:\n",
    "    display(HTML(f'<div style=\"width: 200px; background-color: white;\"> {svg_content} </div>'))\n",
    "    print(len(svg_content))\n",
    "\n",
    "    output = convert_and_quantize_svg(svg_content, bins=256)\n",
    "    display(HTML(f'<div style=\"width: 200px; background-color: white;\"> {output} </div>'))\n",
    "    print(len(output))"
   ]
  },
  {
   "cell_type": "code",
   "execution_count": 2,
   "id": "ce7065c3",
   "metadata": {},
   "outputs": [
    {
     "name": "stderr",
     "output_type": "stream",
     "text": [
      "Loading QuickDraw files: 100%|██████████| 1/1 [00:05<00:00,  5.30s/it]\n"
     ]
    },
    {
     "data": {
      "text/html": [
       "<div style=\"width: 256px; background-color: white;\"> <svg xmlns=\"http://www.w3.org/2000/svg\" width=\"256\" height=\"256\" viewBox=\"0 0 256 256\"><g stroke-width=\"0.6\">\n",
       "<path d=\"M 26 22 L 32 50 L 33 84\" stroke=\"black\" fill=\"none\" stroke-linecap=\"round\" stroke-linejoin=\"round\"/>\n",
       "<path d=\"M 24 24 L 56 16 L 114 7 L 113 75 L 111 82 L 105 86\" stroke=\"black\" fill=\"none\" stroke-linecap=\"round\" stroke-linejoin=\"round\"/>\n",
       "<path d=\"M 8 101 L 26 96 L 130 84\" stroke=\"black\" fill=\"none\" stroke-linecap=\"round\" stroke-linejoin=\"round\"/>\n",
       "<path d=\"M 7 103 L 6 153 L 11 156 L 24 157 L 59 150 L 127 147\" stroke=\"black\" fill=\"none\" stroke-linecap=\"round\" stroke-linejoin=\"round\"/>\n",
       "<path d=\"M 138 86 L 132 142 L 134 148\" stroke=\"black\" fill=\"none\" stroke-linecap=\"round\" stroke-linejoin=\"round\"/>\n",
       "<path d=\"M 133 85 L 133 78 L 157 18 L 173 0 L 189 24 L 203 57 L 207 91 L 196 106 L 195 126 L 203 134 L 214 138 L 229 139 L 237 136 L 247 128 L 240 105 L 226 89 L 209 87 L 204 92\" stroke=\"black\" fill=\"none\" stroke-linecap=\"round\" stroke-linejoin=\"round\"/>\n",
       "<path d=\"M 202 140 L 209 147 L 211 146 L 215 127 L 221 141 L 225 140 L 232 130 L 238 137 L 247 124 L 255 121\" stroke=\"black\" fill=\"none\" stroke-linecap=\"round\" stroke-linejoin=\"round\"/>\n",
       "<path d=\"M 201 141 L 201 141\" stroke=\"black\" fill=\"none\" stroke-linecap=\"round\" stroke-linejoin=\"round\"/>\n",
       "<path d=\"M 200 128 L 204 137\" stroke=\"black\" fill=\"none\" stroke-linecap=\"round\" stroke-linejoin=\"round\"/>\n",
       "<path d=\"M 2 163 L 38 150 L 155 137 L 163 139 L 166 149 L 166 156 L 158 166 L 148 173 L 121 180 L 41 191 L 23 191 L 7 185 L 1 176 L 1 160 L 14 152\" stroke=\"black\" fill=\"none\" stroke-linecap=\"round\" stroke-linejoin=\"round\"/>\n",
       "</g></svg> </div>"
      ],
      "text/plain": [
       "<IPython.core.display.HTML object>"
      ]
     },
     "metadata": {},
     "output_type": "display_data"
    },
    {
     "name": "stdout",
     "output_type": "stream",
     "text": [
      "1609\n"
     ]
    },
    {
     "data": {
      "text/html": [
       "<div style=\"width: 200px; background-color: white;\"> <svg viewBox=\"-24.4265 -19.1265 303.853 228.253\" xmlns=\"http://www.w3.org/2000/svg\"><g stroke-width=\"0.4\"><defs/><path d=\"M26,22L32,50L33,84\" fill=\"none\" stroke=\"#000000\" /><path d=\"M24,24L56,16L114,7L113,75L111,82L105,86\" fill=\"none\" stroke=\"#000000\" /><path d=\"M8,101L26,96L129,84\" fill=\"none\" stroke=\"#000000\" /><path d=\"M7,103L6,152L11,155L24,156L59,149L127,146\" fill=\"none\" stroke=\"#000000\" /><path d=\"M137,86L131,141L133,147\" fill=\"none\" stroke=\"#000000\" /><path d=\"M132,85L132,78L156,18L172,0L188,24L202,57L206,91L195,106L194,126L202,133L213,137L228,138L236,135L246,128L239,105L225,89L208,87L203,92\" fill=\"none\" stroke=\"#000000\" /><path d=\"M201,139L208,146L210,145L214,127L220,140L224,139L231,129L237,136L246,124L254,121\" fill=\"none\" stroke=\"#000000\" /><path d=\"M200,140L200,140\" fill=\"none\" stroke=\"#000000\" /><path d=\"M199,128L203,136\" fill=\"none\" stroke=\"#000000\" /><path d=\"M2,162L38,149L154,136L162,138L165,148L165,155L157,165L147,172L121,179L41,190L23,190L7,184L1,175L1,159L14,151\" fill=\"none\" stroke=\"#000000\" /></g></svg> </div>"
      ],
      "text/plain": [
       "<IPython.core.display.HTML object>"
      ]
     },
     "metadata": {},
     "output_type": "display_data"
    },
    {
     "name": "stdout",
     "output_type": "stream",
     "text": [
      "1036\n"
     ]
    }
   ],
   "source": [
    "from IPython.display import  HTML\n",
    "from dataset import QuickDrawDataset\n",
    "from prepare_data import convert_and_quantize_svg\n",
    "\n",
    "labels = [ \"bulldozer\" ]\n",
    "dataset = QuickDrawDataset(labels)\n",
    "\n",
    "for svg_content in dataset[0:1]:\n",
    "    display(HTML(f'<div style=\"width: 256px; background-color: white;\"> {svg_content} </div>'))\n",
    "    print(len(svg_content))\n",
    "\n",
    "    output = convert_and_quantize_svg(svg_content, bins=256)\n",
    "    display(HTML(f'<div style=\"width: 200px; background-color: white;\"> {output} </div>'))\n",
    "    print(len(output))"
   ]
  },
  {
   "cell_type": "code",
   "execution_count": 3,
   "id": "fab19b8a",
   "metadata": {},
   "outputs": [
    {
     "name": "stdout",
     "output_type": "stream",
     "text": [
      "original svg\n"
     ]
    },
    {
     "data": {
      "text/html": [
       "<div style=\"width: 256px; background-color: white;\"> <svg xmlns=\"http://www.w3.org/2000/svg\" width=\"256\" height=\"256\" viewBox=\"0 0 256 256\"><g stroke-width=\"0.6\">\n",
       "<path d=\"M 26 22 L 32 50 L 33 84\" stroke=\"black\" fill=\"none\" stroke-linecap=\"round\" stroke-linejoin=\"round\"/>\n",
       "<path d=\"M 24 24 L 56 16 L 114 7 L 113 75 L 111 82 L 105 86\" stroke=\"black\" fill=\"none\" stroke-linecap=\"round\" stroke-linejoin=\"round\"/>\n",
       "<path d=\"M 8 101 L 26 96 L 130 84\" stroke=\"black\" fill=\"none\" stroke-linecap=\"round\" stroke-linejoin=\"round\"/>\n",
       "<path d=\"M 7 103 L 6 153 L 11 156 L 24 157 L 59 150 L 127 147\" stroke=\"black\" fill=\"none\" stroke-linecap=\"round\" stroke-linejoin=\"round\"/>\n",
       "<path d=\"M 138 86 L 132 142 L 134 148\" stroke=\"black\" fill=\"none\" stroke-linecap=\"round\" stroke-linejoin=\"round\"/>\n",
       "<path d=\"M 133 85 L 133 78 L 157 18 L 173 0 L 189 24 L 203 57 L 207 91 L 196 106 L 195 126 L 203 134 L 214 138 L 229 139 L 237 136 L 247 128 L 240 105 L 226 89 L 209 87 L 204 92\" stroke=\"black\" fill=\"none\" stroke-linecap=\"round\" stroke-linejoin=\"round\"/>\n",
       "<path d=\"M 202 140 L 209 147 L 211 146 L 215 127 L 221 141 L 225 140 L 232 130 L 238 137 L 247 124 L 255 121\" stroke=\"black\" fill=\"none\" stroke-linecap=\"round\" stroke-linejoin=\"round\"/>\n",
       "<path d=\"M 201 141 L 201 141\" stroke=\"black\" fill=\"none\" stroke-linecap=\"round\" stroke-linejoin=\"round\"/>\n",
       "<path d=\"M 200 128 L 204 137\" stroke=\"black\" fill=\"none\" stroke-linecap=\"round\" stroke-linejoin=\"round\"/>\n",
       "<path d=\"M 2 163 L 38 150 L 155 137 L 163 139 L 166 149 L 166 156 L 158 166 L 148 173 L 121 180 L 41 191 L 23 191 L 7 185 L 1 176 L 1 160 L 14 152\" stroke=\"black\" fill=\"none\" stroke-linecap=\"round\" stroke-linejoin=\"round\"/>\n",
       "</g></svg>\n",
       "         </div>"
      ],
      "text/plain": [
       "<IPython.core.display.HTML object>"
      ]
     },
     "metadata": {},
     "output_type": "display_data"
    },
    {
     "name": "stdout",
     "output_type": "stream",
     "text": [
      "svg -> tensor -> svg\n"
     ]
    },
    {
     "data": {
      "text/html": [
       "<div style=\"width: 256px; background-color: white;\"> <svg xmlns=\"http://www.w3.org/2000/svg\" width=\"256\" height=\"256\" viewBox=\"0 0 256 256\"><g stroke-width=\"0.8\">\n",
       "<path d=\"M 26.0 22.0 L 32.0 50.0 L 33.0 84.0\" stroke=\"black\" fill=\"none\" stroke-linecap=\"round\" stroke-linejoin=\"round\"/>\n",
       "<path d=\"M 24.0 24.0 L 56.0 16.0 L 114.0 7.0 L 113.0 75.0 L 111.0 82.0 L 105.0 86.0\" stroke=\"black\" fill=\"none\" stroke-linecap=\"round\" stroke-linejoin=\"round\"/>\n",
       "<path d=\"M 8.0 101.0 L 26.0 96.0 L 130.0 84.0\" stroke=\"black\" fill=\"none\" stroke-linecap=\"round\" stroke-linejoin=\"round\"/>\n",
       "<path d=\"M 7.0 103.0 L 6.0 153.0 L 11.0 156.0 L 24.0 157.0 L 59.0 150.0 L 127.0 147.0\" stroke=\"black\" fill=\"none\" stroke-linecap=\"round\" stroke-linejoin=\"round\"/>\n",
       "<path d=\"M 138.0 86.0 L 132.0 142.0 L 134.0 148.0\" stroke=\"black\" fill=\"none\" stroke-linecap=\"round\" stroke-linejoin=\"round\"/>\n",
       "<path d=\"M 133.0 85.0 L 133.0 78.0 L 157.0 18.0 L 173.0 0.0 L 189.0 24.0 L 203.0 57.0 L 207.0 91.0 L 196.0 106.0 L 195.0 126.0 L 203.0 134.0 L 214.0 138.0 L 229.0 139.0 L 237.0 136.0 L 247.0 128.0 L 240.0 105.0 L 226.0 89.0 L 209.0 87.0 L 204.0 92.0\" stroke=\"black\" fill=\"none\" stroke-linecap=\"round\" stroke-linejoin=\"round\"/>\n",
       "<path d=\"M 202.0 140.0 L 209.0 147.0 L 211.0 146.0 L 215.0 127.0 L 221.0 141.0 L 225.0 140.0 L 232.0 130.0 L 238.0 137.0 L 247.0 124.0 L 255.0 121.0\" stroke=\"black\" fill=\"none\" stroke-linecap=\"round\" stroke-linejoin=\"round\"/>\n",
       "<path d=\"M 201.0 141.0 L 201.0 141.0\" stroke=\"black\" fill=\"none\" stroke-linecap=\"round\" stroke-linejoin=\"round\"/>\n",
       "<path d=\"M 200.0 128.0 L 204.0 137.0\" stroke=\"black\" fill=\"none\" stroke-linecap=\"round\" stroke-linejoin=\"round\"/>\n",
       "<path d=\"M 2.0 163.0 L 38.0 150.0 L 155.0 137.0 L 163.0 139.0 L 166.0 149.0 L 166.0 156.0 L 158.0 166.0 L 148.0 173.0 L 121.0 180.0 L 41.0 191.0 L 23.0 191.0 L 7.0 185.0 L 1.0 176.0 L 1.0 160.0 L 14.0 152.0\" stroke=\"black\" fill=\"none\" stroke-linecap=\"round\" stroke-linejoin=\"round\"/>\n",
       "</g></svg> </div>"
      ],
      "text/plain": [
       "<IPython.core.display.HTML object>"
      ]
     },
     "metadata": {},
     "output_type": "display_data"
    }
   ],
   "source": [
    "from IPython.display import  HTML\n",
    "from utils import svg_to_tensor, tensor_to_svg\n",
    "\n",
    "original_svg = \"\"\"<svg xmlns=\"http://www.w3.org/2000/svg\" width=\"256\" height=\"256\" viewBox=\"0 0 256 256\"><g stroke-width=\"0.6\">\n",
    "<path d=\"M 26 22 L 32 50 L 33 84\" stroke=\"black\" fill=\"none\" stroke-linecap=\"round\" stroke-linejoin=\"round\"/>\n",
    "<path d=\"M 24 24 L 56 16 L 114 7 L 113 75 L 111 82 L 105 86\" stroke=\"black\" fill=\"none\" stroke-linecap=\"round\" stroke-linejoin=\"round\"/>\n",
    "<path d=\"M 8 101 L 26 96 L 130 84\" stroke=\"black\" fill=\"none\" stroke-linecap=\"round\" stroke-linejoin=\"round\"/>\n",
    "<path d=\"M 7 103 L 6 153 L 11 156 L 24 157 L 59 150 L 127 147\" stroke=\"black\" fill=\"none\" stroke-linecap=\"round\" stroke-linejoin=\"round\"/>\n",
    "<path d=\"M 138 86 L 132 142 L 134 148\" stroke=\"black\" fill=\"none\" stroke-linecap=\"round\" stroke-linejoin=\"round\"/>\n",
    "<path d=\"M 133 85 L 133 78 L 157 18 L 173 0 L 189 24 L 203 57 L 207 91 L 196 106 L 195 126 L 203 134 L 214 138 L 229 139 L 237 136 L 247 128 L 240 105 L 226 89 L 209 87 L 204 92\" stroke=\"black\" fill=\"none\" stroke-linecap=\"round\" stroke-linejoin=\"round\"/>\n",
    "<path d=\"M 202 140 L 209 147 L 211 146 L 215 127 L 221 141 L 225 140 L 232 130 L 238 137 L 247 124 L 255 121\" stroke=\"black\" fill=\"none\" stroke-linecap=\"round\" stroke-linejoin=\"round\"/>\n",
    "<path d=\"M 201 141 L 201 141\" stroke=\"black\" fill=\"none\" stroke-linecap=\"round\" stroke-linejoin=\"round\"/>\n",
    "<path d=\"M 200 128 L 204 137\" stroke=\"black\" fill=\"none\" stroke-linecap=\"round\" stroke-linejoin=\"round\"/>\n",
    "<path d=\"M 2 163 L 38 150 L 155 137 L 163 139 L 166 149 L 166 156 L 158 166 L 148 173 L 121 180 L 41 191 L 23 191 L 7 185 L 1 176 L 1 160 L 14 152\" stroke=\"black\" fill=\"none\" stroke-linecap=\"round\" stroke-linejoin=\"round\"/>\n",
    "</g></svg>\n",
    "        \"\"\"\n",
    "tensor = svg_to_tensor(original_svg)\n",
    "reconstructed_svg = tensor_to_svg(tensor)\n",
    "\n",
    "print(\"original svg\")\n",
    "display(HTML(f'<div style=\"width: 256px; background-color: white;\"> {original_svg} </div>'))\n",
    "\n",
    "print(\"svg -> tensor -> svg\")\n",
    "display(HTML(f'<div style=\"width: 256px; background-color: white;\"> {reconstructed_svg} </div>'))"
   ]
  }
 ],
 "metadata": {
  "kernelspec": {
   "display_name": "Python 3",
   "language": "python",
   "name": "python3"
  },
  "language_info": {
   "codemirror_mode": {
    "name": "ipython",
    "version": 3
   },
   "file_extension": ".py",
   "mimetype": "text/x-python",
   "name": "python",
   "nbconvert_exporter": "python",
   "pygments_lexer": "ipython3",
   "version": "3.13.7"
  }
 },
 "nbformat": 4,
 "nbformat_minor": 5
}
