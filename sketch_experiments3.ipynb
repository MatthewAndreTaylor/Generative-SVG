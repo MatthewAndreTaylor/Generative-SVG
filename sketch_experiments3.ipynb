{
 "cells": [
  {
   "cell_type": "markdown",
   "id": "632aa9ac",
   "metadata": {},
   "source": [
    "# Initial experiments Part 3"
   ]
  },
  {
   "cell_type": "code",
   "execution_count": 1,
   "id": "651fca9d",
   "metadata": {},
   "outputs": [],
   "source": [
    "import torch\n",
    "import torch.nn as nn\n",
    "import torch.nn.functional as F\n",
    "from torch.utils.data import Dataset\n",
    "from torch.utils.data import DataLoader\n",
    "\n",
    "from dataset import TUBerlinDataset, SketchyDataset\n",
    "from utils import AbsoluteBezierPenPositionTokenizer\n",
    "from prepare_data import stroke_to_bezier, convert_and_quantize_svg\n",
    "from tqdm import tqdm\n",
    "import pickle"
   ]
  },
  {
   "cell_type": "code",
   "execution_count": 2,
   "id": "d0c0017c",
   "metadata": {},
   "outputs": [
    {
     "name": "stdout",
     "output_type": "stream",
     "text": [
      "Using device: cuda\n"
     ]
    }
   ],
   "source": [
    "device = torch.device(\"cuda\" if torch.cuda.is_available() else \"cpu\")\n",
    "print(\"Using device:\", device)\n",
    "\n",
    "seed = 42\n",
    "torch.manual_seed(seed)\n",
    "if device == \"cuda\":\n",
    "    torch.cuda.manual_seed_all(seed)\n",
    "    torch.cuda.empty_cache()"
   ]
  },
  {
   "cell_type": "code",
   "execution_count": 3,
   "id": "2d0dd2b3",
   "metadata": {},
   "outputs": [
    {
     "name": "stdout",
     "output_type": "stream",
     "text": [
      "Downloading TUBerlin files\n"
     ]
    },
    {
     "name": "stderr",
     "output_type": "stream",
     "text": [
      "Loading TUBerlin files: 100%|██████████| 1/1 [00:00<00:00, 90.45it/s]\n"
     ]
    },
    {
     "name": "stdout",
     "output_type": "stream",
     "text": [
      "Downloading Sketchy files\n"
     ]
    },
    {
     "name": "stderr",
     "output_type": "stream",
     "text": [
      "Loading Sketchy files: 100%|██████████| 1/1 [00:03<00:00,  3.06s/it]\n",
      "Tokenizing SVGs: 100%|██████████| 80/80 [00:09<00:00,  8.55it/s]\n",
      "Tokenizing SVGs: 100%|██████████| 508/508 [01:22<00:00,  6.15it/s]"
     ]
    },
    {
     "name": "stdout",
     "output_type": "stream",
     "text": [
      "Max number of tokens in a sequence: 920\n",
      "Saved tokenized data to sketch_bezier_dataset.pkl\n"
     ]
    },
    {
     "name": "stderr",
     "output_type": "stream",
     "text": [
      "\n"
     ]
    }
   ],
   "source": [
    "labels = [\"cat\"]\n",
    "training_data0 = TUBerlinDataset(labels, download=True)\n",
    "training_data1 = SketchyDataset(labels, download=True)\n",
    "tokenizer = AbsoluteBezierPenPositionTokenizer(bins=32)\n",
    "\n",
    "class BezierSketchDataset(Dataset):\n",
    "    def __init__(\n",
    "        self,\n",
    "        svg_lists,\n",
    "        tokenizer,\n",
    "        max_len=400,\n",
    "        cache_file=\"sketch_bezier_dataset.pkl\",\n",
    "    ):\n",
    "        self.data = []\n",
    "        self.tokenizer = tokenizer\n",
    "        self.max_len = max_len\n",
    "        self.pad_id = tokenizer.vocab[\"PAD\"]\n",
    "        max_num_tokens = 0\n",
    "\n",
    "        # Try to load from cache\n",
    "        try:\n",
    "            with open(cache_file, \"rb\") as f:\n",
    "                self.data = pickle.load(f)\n",
    "            print(f\"Loaded tokenized data from {cache_file}\")\n",
    "        except FileNotFoundError:\n",
    "            for svg_list in svg_lists:\n",
    "                for svg in tqdm(svg_list, desc=\"Tokenizing SVGs\"):\n",
    "                    svg = stroke_to_bezier(svg, num_samples=100, maxError=15.0)\n",
    "                    q = convert_and_quantize_svg(svg, bins=256)\n",
    "                    tokens = tokenizer.encode(q)\n",
    "\n",
    "                    max_num_tokens = max(max_num_tokens, len(tokens))\n",
    "\n",
    "                    # Truncate + Pad\n",
    "                    tokens = tokens[:max_len]\n",
    "                    tokens = tokens + [self.pad_id] * (max_len - len(tokens))\n",
    "                    self.data.append(tokens)\n",
    "                    \n",
    "            print(f\"Max number of tokens in a sequence: {max_num_tokens}\")\n",
    "\n",
    "            with open(cache_file, \"wb\") as f:\n",
    "                pickle.dump(self.data, f)\n",
    "            print(f\"Saved tokenized data to {cache_file}\")\n",
    "\n",
    "    def __getitem__(self, idx):\n",
    "        seq = self.data[idx]\n",
    "        input_ids = torch.tensor(seq[:-1])\n",
    "        target_ids = torch.tensor(seq[1:])\n",
    "        return input_ids, target_ids\n",
    "\n",
    "    def __len__(self):\n",
    "        return len(self.data)\n",
    "\n",
    "\n",
    "dataset = BezierSketchDataset(\n",
    "    svg_lists=[training_data0, training_data1],\n",
    "    tokenizer=tokenizer,\n",
    ")"
   ]
  },
  {
   "cell_type": "code",
   "execution_count": 4,
   "id": "34a4290a",
   "metadata": {},
   "outputs": [],
   "source": [
    "# from IPython.display import HTML, display\n",
    "\n",
    "# svg_inline = \"\"\n",
    "# for i in range(len(dataset)):\n",
    "#     input_ids, target_ids, seq = dataset[i]\n",
    "    \n",
    "#     if len(seq) > 300:\n",
    "#         svg = tokenizer.decode(seq)\n",
    "#         svg_inline += f'<div style=\"display:inline-block; width: 150px; background-color: white; margin-right:10px;\"><b>Length: {len(seq)}</b><br>{svg}</div>'\n",
    "\n",
    "# display(HTML(svg_inline))"
   ]
  },
  {
   "cell_type": "code",
   "execution_count": 5,
   "id": "a357ae18",
   "metadata": {},
   "outputs": [
    {
     "name": "stderr",
     "output_type": "stream",
     "text": [
      "c:\\Users\\matth\\AppData\\Local\\Programs\\Python\\Python313\\Lib\\site-packages\\torch\\nn\\modules\\transformer.py:392: UserWarning: enable_nested_tensor is True, but self.use_nested_tensor is False because encoder_layer.self_attn.batch_first was not True(use batch_first for better inference performance)\n",
      "  warnings.warn(\n",
      "Epoch 1/100: 100%|██████████| 5/5 [00:02<00:00,  2.44it/s]\n"
     ]
    },
    {
     "name": "stdout",
     "output_type": "stream",
     "text": [
      "Epoch 1 Loss: 5.0324\n"
     ]
    },
    {
     "name": "stderr",
     "output_type": "stream",
     "text": [
      "Epoch 2/100: 100%|██████████| 5/5 [00:01<00:00,  2.96it/s]\n"
     ]
    },
    {
     "name": "stdout",
     "output_type": "stream",
     "text": [
      "Epoch 2 Loss: 3.5292\n"
     ]
    },
    {
     "name": "stderr",
     "output_type": "stream",
     "text": [
      "Epoch 3/100: 100%|██████████| 5/5 [00:01<00:00,  3.01it/s]\n"
     ]
    },
    {
     "name": "stdout",
     "output_type": "stream",
     "text": [
      "Epoch 3 Loss: 3.2469\n"
     ]
    },
    {
     "name": "stderr",
     "output_type": "stream",
     "text": [
      "Epoch 4/100: 100%|██████████| 5/5 [00:01<00:00,  2.99it/s]\n"
     ]
    },
    {
     "name": "stdout",
     "output_type": "stream",
     "text": [
      "Epoch 4 Loss: 3.0555\n"
     ]
    },
    {
     "name": "stderr",
     "output_type": "stream",
     "text": [
      "Epoch 5/100: 100%|██████████| 5/5 [00:01<00:00,  3.00it/s]\n"
     ]
    },
    {
     "name": "stdout",
     "output_type": "stream",
     "text": [
      "Epoch 5 Loss: 3.0129\n"
     ]
    },
    {
     "name": "stderr",
     "output_type": "stream",
     "text": [
      "Epoch 6/100: 100%|██████████| 5/5 [00:01<00:00,  2.92it/s]\n"
     ]
    },
    {
     "name": "stdout",
     "output_type": "stream",
     "text": [
      "Epoch 6 Loss: 2.9547\n"
     ]
    },
    {
     "name": "stderr",
     "output_type": "stream",
     "text": [
      "Epoch 7/100: 100%|██████████| 5/5 [00:01<00:00,  2.93it/s]\n"
     ]
    },
    {
     "name": "stdout",
     "output_type": "stream",
     "text": [
      "Epoch 7 Loss: 2.9319\n"
     ]
    },
    {
     "name": "stderr",
     "output_type": "stream",
     "text": [
      "Epoch 8/100: 100%|██████████| 5/5 [00:01<00:00,  2.92it/s]\n"
     ]
    },
    {
     "name": "stdout",
     "output_type": "stream",
     "text": [
      "Epoch 8 Loss: 2.9435\n"
     ]
    },
    {
     "name": "stderr",
     "output_type": "stream",
     "text": [
      "Epoch 9/100: 100%|██████████| 5/5 [00:01<00:00,  2.91it/s]\n"
     ]
    },
    {
     "name": "stdout",
     "output_type": "stream",
     "text": [
      "Epoch 9 Loss: 2.8890\n"
     ]
    },
    {
     "name": "stderr",
     "output_type": "stream",
     "text": [
      "Epoch 10/100: 100%|██████████| 5/5 [00:01<00:00,  2.91it/s]\n"
     ]
    },
    {
     "name": "stdout",
     "output_type": "stream",
     "text": [
      "Epoch 10 Loss: 2.8759\n"
     ]
    },
    {
     "name": "stderr",
     "output_type": "stream",
     "text": [
      "Epoch 11/100: 100%|██████████| 5/5 [00:01<00:00,  2.92it/s]\n"
     ]
    },
    {
     "name": "stdout",
     "output_type": "stream",
     "text": [
      "Epoch 11 Loss: 2.8867\n"
     ]
    },
    {
     "name": "stderr",
     "output_type": "stream",
     "text": [
      "Epoch 12/100: 100%|██████████| 5/5 [00:01<00:00,  2.92it/s]\n"
     ]
    },
    {
     "name": "stdout",
     "output_type": "stream",
     "text": [
      "Epoch 12 Loss: 2.8921\n"
     ]
    },
    {
     "name": "stderr",
     "output_type": "stream",
     "text": [
      "Epoch 13/100: 100%|██████████| 5/5 [00:01<00:00,  2.92it/s]\n"
     ]
    },
    {
     "name": "stdout",
     "output_type": "stream",
     "text": [
      "Epoch 13 Loss: 2.8740\n"
     ]
    },
    {
     "name": "stderr",
     "output_type": "stream",
     "text": [
      "Epoch 14/100: 100%|██████████| 5/5 [00:01<00:00,  2.91it/s]\n"
     ]
    },
    {
     "name": "stdout",
     "output_type": "stream",
     "text": [
      "Epoch 14 Loss: 2.8697\n"
     ]
    },
    {
     "name": "stderr",
     "output_type": "stream",
     "text": [
      "Epoch 15/100: 100%|██████████| 5/5 [00:01<00:00,  2.94it/s]\n"
     ]
    },
    {
     "name": "stdout",
     "output_type": "stream",
     "text": [
      "Epoch 15 Loss: 2.8683\n"
     ]
    },
    {
     "name": "stderr",
     "output_type": "stream",
     "text": [
      "Epoch 16/100: 100%|██████████| 5/5 [00:01<00:00,  2.89it/s]\n"
     ]
    },
    {
     "name": "stdout",
     "output_type": "stream",
     "text": [
      "Epoch 16 Loss: 2.8531\n"
     ]
    },
    {
     "name": "stderr",
     "output_type": "stream",
     "text": [
      "Epoch 17/100: 100%|██████████| 5/5 [00:01<00:00,  2.90it/s]\n"
     ]
    },
    {
     "name": "stdout",
     "output_type": "stream",
     "text": [
      "Epoch 17 Loss: 2.8615\n"
     ]
    },
    {
     "name": "stderr",
     "output_type": "stream",
     "text": [
      "Epoch 18/100: 100%|██████████| 5/5 [00:01<00:00,  2.92it/s]\n"
     ]
    },
    {
     "name": "stdout",
     "output_type": "stream",
     "text": [
      "Epoch 18 Loss: 2.8283\n"
     ]
    },
    {
     "name": "stderr",
     "output_type": "stream",
     "text": [
      "Epoch 19/100: 100%|██████████| 5/5 [00:01<00:00,  2.91it/s]\n"
     ]
    },
    {
     "name": "stdout",
     "output_type": "stream",
     "text": [
      "Epoch 19 Loss: 2.8443\n"
     ]
    },
    {
     "name": "stderr",
     "output_type": "stream",
     "text": [
      "Epoch 20/100: 100%|██████████| 5/5 [00:01<00:00,  2.91it/s]\n"
     ]
    },
    {
     "name": "stdout",
     "output_type": "stream",
     "text": [
      "Epoch 20 Loss: 2.8330\n"
     ]
    },
    {
     "name": "stderr",
     "output_type": "stream",
     "text": [
      "Epoch 21/100: 100%|██████████| 5/5 [00:01<00:00,  2.91it/s]\n"
     ]
    },
    {
     "name": "stdout",
     "output_type": "stream",
     "text": [
      "Epoch 21 Loss: 2.8156\n"
     ]
    },
    {
     "name": "stderr",
     "output_type": "stream",
     "text": [
      "Epoch 22/100: 100%|██████████| 5/5 [00:01<00:00,  2.94it/s]\n"
     ]
    },
    {
     "name": "stdout",
     "output_type": "stream",
     "text": [
      "Epoch 22 Loss: 2.8193\n"
     ]
    },
    {
     "name": "stderr",
     "output_type": "stream",
     "text": [
      "Epoch 23/100: 100%|██████████| 5/5 [00:01<00:00,  2.93it/s]\n"
     ]
    },
    {
     "name": "stdout",
     "output_type": "stream",
     "text": [
      "Epoch 23 Loss: 2.8133\n"
     ]
    },
    {
     "name": "stderr",
     "output_type": "stream",
     "text": [
      "Epoch 24/100: 100%|██████████| 5/5 [00:01<00:00,  2.93it/s]\n"
     ]
    },
    {
     "name": "stdout",
     "output_type": "stream",
     "text": [
      "Epoch 24 Loss: 2.7968\n"
     ]
    },
    {
     "name": "stderr",
     "output_type": "stream",
     "text": [
      "Epoch 25/100: 100%|██████████| 5/5 [00:01<00:00,  2.93it/s]\n"
     ]
    },
    {
     "name": "stdout",
     "output_type": "stream",
     "text": [
      "Epoch 25 Loss: 2.7873\n"
     ]
    },
    {
     "name": "stderr",
     "output_type": "stream",
     "text": [
      "Epoch 26/100: 100%|██████████| 5/5 [00:01<00:00,  2.93it/s]\n"
     ]
    },
    {
     "name": "stdout",
     "output_type": "stream",
     "text": [
      "Epoch 26 Loss: 2.7884\n"
     ]
    },
    {
     "name": "stderr",
     "output_type": "stream",
     "text": [
      "Epoch 27/100: 100%|██████████| 5/5 [00:01<00:00,  2.93it/s]\n"
     ]
    },
    {
     "name": "stdout",
     "output_type": "stream",
     "text": [
      "Epoch 27 Loss: 2.7860\n"
     ]
    },
    {
     "name": "stderr",
     "output_type": "stream",
     "text": [
      "Epoch 28/100: 100%|██████████| 5/5 [00:01<00:00,  2.93it/s]\n"
     ]
    },
    {
     "name": "stdout",
     "output_type": "stream",
     "text": [
      "Epoch 28 Loss: 2.7727\n"
     ]
    },
    {
     "name": "stderr",
     "output_type": "stream",
     "text": [
      "Epoch 29/100: 100%|██████████| 5/5 [00:01<00:00,  2.92it/s]\n"
     ]
    },
    {
     "name": "stdout",
     "output_type": "stream",
     "text": [
      "Epoch 29 Loss: 2.7741\n"
     ]
    },
    {
     "name": "stderr",
     "output_type": "stream",
     "text": [
      "Epoch 30/100: 100%|██████████| 5/5 [00:01<00:00,  2.92it/s]\n"
     ]
    },
    {
     "name": "stdout",
     "output_type": "stream",
     "text": [
      "Epoch 30 Loss: 2.7463\n"
     ]
    },
    {
     "name": "stderr",
     "output_type": "stream",
     "text": [
      "Epoch 31/100: 100%|██████████| 5/5 [00:01<00:00,  2.93it/s]\n"
     ]
    },
    {
     "name": "stdout",
     "output_type": "stream",
     "text": [
      "Epoch 31 Loss: 2.7375\n"
     ]
    },
    {
     "name": "stderr",
     "output_type": "stream",
     "text": [
      "Epoch 32/100: 100%|██████████| 5/5 [00:01<00:00,  2.92it/s]\n"
     ]
    },
    {
     "name": "stdout",
     "output_type": "stream",
     "text": [
      "Epoch 32 Loss: 2.7410\n"
     ]
    },
    {
     "name": "stderr",
     "output_type": "stream",
     "text": [
      "Epoch 33/100: 100%|██████████| 5/5 [00:01<00:00,  2.90it/s]\n"
     ]
    },
    {
     "name": "stdout",
     "output_type": "stream",
     "text": [
      "Epoch 33 Loss: 2.7147\n"
     ]
    },
    {
     "name": "stderr",
     "output_type": "stream",
     "text": [
      "Epoch 34/100: 100%|██████████| 5/5 [00:01<00:00,  2.93it/s]\n"
     ]
    },
    {
     "name": "stdout",
     "output_type": "stream",
     "text": [
      "Epoch 34 Loss: 2.6982\n"
     ]
    },
    {
     "name": "stderr",
     "output_type": "stream",
     "text": [
      "Epoch 35/100: 100%|██████████| 5/5 [00:01<00:00,  2.92it/s]\n"
     ]
    },
    {
     "name": "stdout",
     "output_type": "stream",
     "text": [
      "Epoch 35 Loss: 2.6784\n"
     ]
    },
    {
     "name": "stderr",
     "output_type": "stream",
     "text": [
      "Epoch 36/100: 100%|██████████| 5/5 [00:01<00:00,  2.92it/s]\n"
     ]
    },
    {
     "name": "stdout",
     "output_type": "stream",
     "text": [
      "Epoch 36 Loss: 2.6557\n"
     ]
    },
    {
     "name": "stderr",
     "output_type": "stream",
     "text": [
      "Epoch 37/100: 100%|██████████| 5/5 [00:01<00:00,  2.91it/s]\n"
     ]
    },
    {
     "name": "stdout",
     "output_type": "stream",
     "text": [
      "Epoch 37 Loss: 2.6612\n"
     ]
    },
    {
     "name": "stderr",
     "output_type": "stream",
     "text": [
      "Epoch 38/100: 100%|██████████| 5/5 [00:01<00:00,  2.92it/s]\n"
     ]
    },
    {
     "name": "stdout",
     "output_type": "stream",
     "text": [
      "Epoch 38 Loss: 2.6271\n"
     ]
    },
    {
     "name": "stderr",
     "output_type": "stream",
     "text": [
      "Epoch 39/100: 100%|██████████| 5/5 [00:01<00:00,  2.90it/s]\n"
     ]
    },
    {
     "name": "stdout",
     "output_type": "stream",
     "text": [
      "Epoch 39 Loss: 2.6202\n"
     ]
    },
    {
     "name": "stderr",
     "output_type": "stream",
     "text": [
      "Epoch 40/100: 100%|██████████| 5/5 [00:01<00:00,  2.91it/s]\n"
     ]
    },
    {
     "name": "stdout",
     "output_type": "stream",
     "text": [
      "Epoch 40 Loss: 2.5851\n"
     ]
    },
    {
     "name": "stderr",
     "output_type": "stream",
     "text": [
      "Epoch 41/100: 100%|██████████| 5/5 [00:01<00:00,  2.91it/s]\n"
     ]
    },
    {
     "name": "stdout",
     "output_type": "stream",
     "text": [
      "Epoch 41 Loss: 2.5707\n"
     ]
    },
    {
     "name": "stderr",
     "output_type": "stream",
     "text": [
      "Epoch 42/100: 100%|██████████| 5/5 [00:01<00:00,  2.91it/s]\n"
     ]
    },
    {
     "name": "stdout",
     "output_type": "stream",
     "text": [
      "Epoch 42 Loss: 2.5383\n"
     ]
    },
    {
     "name": "stderr",
     "output_type": "stream",
     "text": [
      "Epoch 43/100: 100%|██████████| 5/5 [00:01<00:00,  2.90it/s]\n"
     ]
    },
    {
     "name": "stdout",
     "output_type": "stream",
     "text": [
      "Epoch 43 Loss: 2.5242\n"
     ]
    },
    {
     "name": "stderr",
     "output_type": "stream",
     "text": [
      "Epoch 44/100: 100%|██████████| 5/5 [00:01<00:00,  2.90it/s]\n"
     ]
    },
    {
     "name": "stdout",
     "output_type": "stream",
     "text": [
      "Epoch 44 Loss: 2.5004\n"
     ]
    },
    {
     "name": "stderr",
     "output_type": "stream",
     "text": [
      "Epoch 45/100: 100%|██████████| 5/5 [00:01<00:00,  2.91it/s]\n"
     ]
    },
    {
     "name": "stdout",
     "output_type": "stream",
     "text": [
      "Epoch 45 Loss: 2.4733\n"
     ]
    },
    {
     "name": "stderr",
     "output_type": "stream",
     "text": [
      "Epoch 46/100: 100%|██████████| 5/5 [00:01<00:00,  2.91it/s]\n"
     ]
    },
    {
     "name": "stdout",
     "output_type": "stream",
     "text": [
      "Epoch 46 Loss: 2.4477\n"
     ]
    },
    {
     "name": "stderr",
     "output_type": "stream",
     "text": [
      "Epoch 47/100: 100%|██████████| 5/5 [00:01<00:00,  2.90it/s]\n"
     ]
    },
    {
     "name": "stdout",
     "output_type": "stream",
     "text": [
      "Epoch 47 Loss: 2.4264\n"
     ]
    },
    {
     "name": "stderr",
     "output_type": "stream",
     "text": [
      "Epoch 48/100: 100%|██████████| 5/5 [00:01<00:00,  2.91it/s]\n"
     ]
    },
    {
     "name": "stdout",
     "output_type": "stream",
     "text": [
      "Epoch 48 Loss: 2.4018\n"
     ]
    },
    {
     "name": "stderr",
     "output_type": "stream",
     "text": [
      "Epoch 49/100: 100%|██████████| 5/5 [00:01<00:00,  2.91it/s]\n"
     ]
    },
    {
     "name": "stdout",
     "output_type": "stream",
     "text": [
      "Epoch 49 Loss: 2.3955\n"
     ]
    },
    {
     "name": "stderr",
     "output_type": "stream",
     "text": [
      "Epoch 50/100: 100%|██████████| 5/5 [00:01<00:00,  2.90it/s]\n"
     ]
    },
    {
     "name": "stdout",
     "output_type": "stream",
     "text": [
      "Epoch 50 Loss: 2.3576\n"
     ]
    },
    {
     "name": "stderr",
     "output_type": "stream",
     "text": [
      "Epoch 51/100: 100%|██████████| 5/5 [00:01<00:00,  2.90it/s]\n"
     ]
    },
    {
     "name": "stdout",
     "output_type": "stream",
     "text": [
      "Epoch 51 Loss: 2.3318\n"
     ]
    },
    {
     "name": "stderr",
     "output_type": "stream",
     "text": [
      "Epoch 52/100: 100%|██████████| 5/5 [00:01<00:00,  2.90it/s]\n"
     ]
    },
    {
     "name": "stdout",
     "output_type": "stream",
     "text": [
      "Epoch 52 Loss: 2.3069\n"
     ]
    },
    {
     "name": "stderr",
     "output_type": "stream",
     "text": [
      "Epoch 53/100: 100%|██████████| 5/5 [00:01<00:00,  2.89it/s]\n"
     ]
    },
    {
     "name": "stdout",
     "output_type": "stream",
     "text": [
      "Epoch 53 Loss: 2.2942\n"
     ]
    },
    {
     "name": "stderr",
     "output_type": "stream",
     "text": [
      "Epoch 54/100: 100%|██████████| 5/5 [00:01<00:00,  2.89it/s]\n"
     ]
    },
    {
     "name": "stdout",
     "output_type": "stream",
     "text": [
      "Epoch 54 Loss: 2.2698\n"
     ]
    },
    {
     "name": "stderr",
     "output_type": "stream",
     "text": [
      "Epoch 55/100: 100%|██████████| 5/5 [00:01<00:00,  2.89it/s]\n"
     ]
    },
    {
     "name": "stdout",
     "output_type": "stream",
     "text": [
      "Epoch 55 Loss: 2.2358\n"
     ]
    },
    {
     "name": "stderr",
     "output_type": "stream",
     "text": [
      "Epoch 56/100: 100%|██████████| 5/5 [00:01<00:00,  2.91it/s]\n"
     ]
    },
    {
     "name": "stdout",
     "output_type": "stream",
     "text": [
      "Epoch 56 Loss: 2.2261\n"
     ]
    },
    {
     "name": "stderr",
     "output_type": "stream",
     "text": [
      "Epoch 57/100: 100%|██████████| 5/5 [00:01<00:00,  2.90it/s]\n"
     ]
    },
    {
     "name": "stdout",
     "output_type": "stream",
     "text": [
      "Epoch 57 Loss: 2.1959\n"
     ]
    },
    {
     "name": "stderr",
     "output_type": "stream",
     "text": [
      "Epoch 58/100: 100%|██████████| 5/5 [00:01<00:00,  2.90it/s]\n"
     ]
    },
    {
     "name": "stdout",
     "output_type": "stream",
     "text": [
      "Epoch 58 Loss: 2.1791\n"
     ]
    },
    {
     "name": "stderr",
     "output_type": "stream",
     "text": [
      "Epoch 59/100: 100%|██████████| 5/5 [00:01<00:00,  2.89it/s]\n"
     ]
    },
    {
     "name": "stdout",
     "output_type": "stream",
     "text": [
      "Epoch 59 Loss: 2.1607\n"
     ]
    },
    {
     "name": "stderr",
     "output_type": "stream",
     "text": [
      "Epoch 60/100: 100%|██████████| 5/5 [00:01<00:00,  2.90it/s]\n"
     ]
    },
    {
     "name": "stdout",
     "output_type": "stream",
     "text": [
      "Epoch 60 Loss: 2.1355\n"
     ]
    },
    {
     "name": "stderr",
     "output_type": "stream",
     "text": [
      "Epoch 61/100: 100%|██████████| 5/5 [00:01<00:00,  2.86it/s]\n"
     ]
    },
    {
     "name": "stdout",
     "output_type": "stream",
     "text": [
      "Epoch 61 Loss: 2.1168\n"
     ]
    },
    {
     "name": "stderr",
     "output_type": "stream",
     "text": [
      "Epoch 62/100: 100%|██████████| 5/5 [00:01<00:00,  2.89it/s]\n"
     ]
    },
    {
     "name": "stdout",
     "output_type": "stream",
     "text": [
      "Epoch 62 Loss: 2.0913\n"
     ]
    },
    {
     "name": "stderr",
     "output_type": "stream",
     "text": [
      "Epoch 63/100: 100%|██████████| 5/5 [00:01<00:00,  2.89it/s]\n"
     ]
    },
    {
     "name": "stdout",
     "output_type": "stream",
     "text": [
      "Epoch 63 Loss: 2.0673\n"
     ]
    },
    {
     "name": "stderr",
     "output_type": "stream",
     "text": [
      "Epoch 64/100: 100%|██████████| 5/5 [00:01<00:00,  2.89it/s]\n"
     ]
    },
    {
     "name": "stdout",
     "output_type": "stream",
     "text": [
      "Epoch 64 Loss: 2.0457\n"
     ]
    },
    {
     "name": "stderr",
     "output_type": "stream",
     "text": [
      "Epoch 65/100: 100%|██████████| 5/5 [00:01<00:00,  2.90it/s]\n"
     ]
    },
    {
     "name": "stdout",
     "output_type": "stream",
     "text": [
      "Epoch 65 Loss: 2.0293\n"
     ]
    },
    {
     "name": "stderr",
     "output_type": "stream",
     "text": [
      "Epoch 66/100: 100%|██████████| 5/5 [00:01<00:00,  2.89it/s]\n"
     ]
    },
    {
     "name": "stdout",
     "output_type": "stream",
     "text": [
      "Epoch 66 Loss: 2.0139\n"
     ]
    },
    {
     "name": "stderr",
     "output_type": "stream",
     "text": [
      "Epoch 67/100: 100%|██████████| 5/5 [00:01<00:00,  2.90it/s]\n"
     ]
    },
    {
     "name": "stdout",
     "output_type": "stream",
     "text": [
      "Epoch 67 Loss: 1.9875\n"
     ]
    },
    {
     "name": "stderr",
     "output_type": "stream",
     "text": [
      "Epoch 68/100: 100%|██████████| 5/5 [00:01<00:00,  2.90it/s]\n"
     ]
    },
    {
     "name": "stdout",
     "output_type": "stream",
     "text": [
      "Epoch 68 Loss: 1.9840\n"
     ]
    },
    {
     "name": "stderr",
     "output_type": "stream",
     "text": [
      "Epoch 69/100: 100%|██████████| 5/5 [00:01<00:00,  2.88it/s]\n"
     ]
    },
    {
     "name": "stdout",
     "output_type": "stream",
     "text": [
      "Epoch 69 Loss: 1.9612\n"
     ]
    },
    {
     "name": "stderr",
     "output_type": "stream",
     "text": [
      "Epoch 70/100: 100%|██████████| 5/5 [00:01<00:00,  2.88it/s]\n"
     ]
    },
    {
     "name": "stdout",
     "output_type": "stream",
     "text": [
      "Epoch 70 Loss: 1.9340\n"
     ]
    },
    {
     "name": "stderr",
     "output_type": "stream",
     "text": [
      "Epoch 71/100: 100%|██████████| 5/5 [00:01<00:00,  2.89it/s]\n"
     ]
    },
    {
     "name": "stdout",
     "output_type": "stream",
     "text": [
      "Epoch 71 Loss: 1.9274\n"
     ]
    },
    {
     "name": "stderr",
     "output_type": "stream",
     "text": [
      "Epoch 72/100: 100%|██████████| 5/5 [00:01<00:00,  2.89it/s]\n"
     ]
    },
    {
     "name": "stdout",
     "output_type": "stream",
     "text": [
      "Epoch 72 Loss: 1.9063\n"
     ]
    },
    {
     "name": "stderr",
     "output_type": "stream",
     "text": [
      "Epoch 73/100: 100%|██████████| 5/5 [00:01<00:00,  2.87it/s]\n"
     ]
    },
    {
     "name": "stdout",
     "output_type": "stream",
     "text": [
      "Epoch 73 Loss: 1.8843\n"
     ]
    },
    {
     "name": "stderr",
     "output_type": "stream",
     "text": [
      "Epoch 74/100: 100%|██████████| 5/5 [00:01<00:00,  2.89it/s]\n"
     ]
    },
    {
     "name": "stdout",
     "output_type": "stream",
     "text": [
      "Epoch 74 Loss: 1.8856\n"
     ]
    },
    {
     "name": "stderr",
     "output_type": "stream",
     "text": [
      "Epoch 75/100: 100%|██████████| 5/5 [00:01<00:00,  2.89it/s]\n"
     ]
    },
    {
     "name": "stdout",
     "output_type": "stream",
     "text": [
      "Epoch 75 Loss: 1.8625\n"
     ]
    },
    {
     "name": "stderr",
     "output_type": "stream",
     "text": [
      "Epoch 76/100: 100%|██████████| 5/5 [00:01<00:00,  2.90it/s]\n"
     ]
    },
    {
     "name": "stdout",
     "output_type": "stream",
     "text": [
      "Epoch 76 Loss: 1.8483\n"
     ]
    },
    {
     "name": "stderr",
     "output_type": "stream",
     "text": [
      "Epoch 77/100: 100%|██████████| 5/5 [00:01<00:00,  2.89it/s]\n"
     ]
    },
    {
     "name": "stdout",
     "output_type": "stream",
     "text": [
      "Epoch 77 Loss: 1.8373\n"
     ]
    },
    {
     "name": "stderr",
     "output_type": "stream",
     "text": [
      "Epoch 78/100: 100%|██████████| 5/5 [00:01<00:00,  2.88it/s]\n"
     ]
    },
    {
     "name": "stdout",
     "output_type": "stream",
     "text": [
      "Epoch 78 Loss: 1.8315\n"
     ]
    },
    {
     "name": "stderr",
     "output_type": "stream",
     "text": [
      "Epoch 79/100: 100%|██████████| 5/5 [00:01<00:00,  2.88it/s]\n"
     ]
    },
    {
     "name": "stdout",
     "output_type": "stream",
     "text": [
      "Epoch 79 Loss: 1.8119\n"
     ]
    },
    {
     "name": "stderr",
     "output_type": "stream",
     "text": [
      "Epoch 80/100: 100%|██████████| 5/5 [00:01<00:00,  2.88it/s]\n"
     ]
    },
    {
     "name": "stdout",
     "output_type": "stream",
     "text": [
      "Epoch 80 Loss: 1.7943\n"
     ]
    },
    {
     "name": "stderr",
     "output_type": "stream",
     "text": [
      "Epoch 81/100: 100%|██████████| 5/5 [00:01<00:00,  2.88it/s]\n"
     ]
    },
    {
     "name": "stdout",
     "output_type": "stream",
     "text": [
      "Epoch 81 Loss: 1.7798\n"
     ]
    },
    {
     "name": "stderr",
     "output_type": "stream",
     "text": [
      "Epoch 82/100: 100%|██████████| 5/5 [00:01<00:00,  2.88it/s]\n"
     ]
    },
    {
     "name": "stdout",
     "output_type": "stream",
     "text": [
      "Epoch 82 Loss: 1.7769\n"
     ]
    },
    {
     "name": "stderr",
     "output_type": "stream",
     "text": [
      "Epoch 83/100: 100%|██████████| 5/5 [00:01<00:00,  2.88it/s]\n"
     ]
    },
    {
     "name": "stdout",
     "output_type": "stream",
     "text": [
      "Epoch 83 Loss: 1.7685\n"
     ]
    },
    {
     "name": "stderr",
     "output_type": "stream",
     "text": [
      "Epoch 84/100: 100%|██████████| 5/5 [00:01<00:00,  2.89it/s]\n"
     ]
    },
    {
     "name": "stdout",
     "output_type": "stream",
     "text": [
      "Epoch 84 Loss: 1.7494\n"
     ]
    },
    {
     "name": "stderr",
     "output_type": "stream",
     "text": [
      "Epoch 85/100: 100%|██████████| 5/5 [00:01<00:00,  2.89it/s]\n"
     ]
    },
    {
     "name": "stdout",
     "output_type": "stream",
     "text": [
      "Epoch 85 Loss: 1.7495\n"
     ]
    },
    {
     "name": "stderr",
     "output_type": "stream",
     "text": [
      "Epoch 86/100: 100%|██████████| 5/5 [00:01<00:00,  2.88it/s]\n"
     ]
    },
    {
     "name": "stdout",
     "output_type": "stream",
     "text": [
      "Epoch 86 Loss: 1.7304\n"
     ]
    },
    {
     "name": "stderr",
     "output_type": "stream",
     "text": [
      "Epoch 87/100: 100%|██████████| 5/5 [00:01<00:00,  2.89it/s]\n"
     ]
    },
    {
     "name": "stdout",
     "output_type": "stream",
     "text": [
      "Epoch 87 Loss: 1.7274\n"
     ]
    },
    {
     "name": "stderr",
     "output_type": "stream",
     "text": [
      "Epoch 88/100: 100%|██████████| 5/5 [00:01<00:00,  2.90it/s]\n"
     ]
    },
    {
     "name": "stdout",
     "output_type": "stream",
     "text": [
      "Epoch 88 Loss: 1.7146\n"
     ]
    },
    {
     "name": "stderr",
     "output_type": "stream",
     "text": [
      "Epoch 89/100: 100%|██████████| 5/5 [00:01<00:00,  2.88it/s]\n"
     ]
    },
    {
     "name": "stdout",
     "output_type": "stream",
     "text": [
      "Epoch 89 Loss: 1.6962\n"
     ]
    },
    {
     "name": "stderr",
     "output_type": "stream",
     "text": [
      "Epoch 90/100: 100%|██████████| 5/5 [00:01<00:00,  2.90it/s]\n"
     ]
    },
    {
     "name": "stdout",
     "output_type": "stream",
     "text": [
      "Epoch 90 Loss: 1.6958\n"
     ]
    },
    {
     "name": "stderr",
     "output_type": "stream",
     "text": [
      "Epoch 91/100: 100%|██████████| 5/5 [00:01<00:00,  2.87it/s]\n"
     ]
    },
    {
     "name": "stdout",
     "output_type": "stream",
     "text": [
      "Epoch 91 Loss: 1.6858\n"
     ]
    },
    {
     "name": "stderr",
     "output_type": "stream",
     "text": [
      "Epoch 92/100: 100%|██████████| 5/5 [00:01<00:00,  2.88it/s]\n"
     ]
    },
    {
     "name": "stdout",
     "output_type": "stream",
     "text": [
      "Epoch 92 Loss: 1.6759\n"
     ]
    },
    {
     "name": "stderr",
     "output_type": "stream",
     "text": [
      "Epoch 93/100: 100%|██████████| 5/5 [00:01<00:00,  2.89it/s]\n"
     ]
    },
    {
     "name": "stdout",
     "output_type": "stream",
     "text": [
      "Epoch 93 Loss: 1.6654\n"
     ]
    },
    {
     "name": "stderr",
     "output_type": "stream",
     "text": [
      "Epoch 94/100: 100%|██████████| 5/5 [00:01<00:00,  2.87it/s]\n"
     ]
    },
    {
     "name": "stdout",
     "output_type": "stream",
     "text": [
      "Epoch 94 Loss: 1.6560\n"
     ]
    },
    {
     "name": "stderr",
     "output_type": "stream",
     "text": [
      "Epoch 95/100: 100%|██████████| 5/5 [00:01<00:00,  2.89it/s]\n"
     ]
    },
    {
     "name": "stdout",
     "output_type": "stream",
     "text": [
      "Epoch 95 Loss: 1.6556\n"
     ]
    },
    {
     "name": "stderr",
     "output_type": "stream",
     "text": [
      "Epoch 96/100: 100%|██████████| 5/5 [00:01<00:00,  2.88it/s]\n"
     ]
    },
    {
     "name": "stdout",
     "output_type": "stream",
     "text": [
      "Epoch 96 Loss: 1.6527\n"
     ]
    },
    {
     "name": "stderr",
     "output_type": "stream",
     "text": [
      "Epoch 97/100: 100%|██████████| 5/5 [00:01<00:00,  2.86it/s]\n"
     ]
    },
    {
     "name": "stdout",
     "output_type": "stream",
     "text": [
      "Epoch 97 Loss: 1.6428\n"
     ]
    },
    {
     "name": "stderr",
     "output_type": "stream",
     "text": [
      "Epoch 98/100: 100%|██████████| 5/5 [00:01<00:00,  2.88it/s]\n"
     ]
    },
    {
     "name": "stdout",
     "output_type": "stream",
     "text": [
      "Epoch 98 Loss: 1.6276\n"
     ]
    },
    {
     "name": "stderr",
     "output_type": "stream",
     "text": [
      "Epoch 99/100: 100%|██████████| 5/5 [00:01<00:00,  2.90it/s]\n"
     ]
    },
    {
     "name": "stdout",
     "output_type": "stream",
     "text": [
      "Epoch 99 Loss: 1.6174\n"
     ]
    },
    {
     "name": "stderr",
     "output_type": "stream",
     "text": [
      "Epoch 100/100: 100%|██████████| 5/5 [00:01<00:00,  2.89it/s]"
     ]
    },
    {
     "name": "stdout",
     "output_type": "stream",
     "text": [
      "Epoch 100 Loss: 1.6209\n"
     ]
    },
    {
     "name": "stderr",
     "output_type": "stream",
     "text": [
      "\n"
     ]
    }
   ],
   "source": [
    "def generate_square_subsequent_mask(sz: int):\n",
    "    \"\"\"Causal mask to stop attention to future positions\"\"\"\n",
    "    return torch.triu(torch.ones(sz, sz), diagonal=1).bool()\n",
    "\n",
    "\n",
    "class SketchTransformer(nn.Module):\n",
    "    def __init__(self, vocab_size, d_model=384, nhead=8, num_layers=6, max_len=400):\n",
    "        super().__init__()\n",
    "        self.vocab_size = vocab_size\n",
    "        self.d_model = d_model\n",
    "        self.max_len = max_len\n",
    "\n",
    "        self.embed = nn.Embedding(vocab_size, d_model)\n",
    "        self.pos_embed = nn.Embedding(max_len, d_model)\n",
    "        encoder_layer = nn.TransformerEncoderLayer(\n",
    "            d_model=d_model, nhead=nhead, dim_feedforward=4 * d_model\n",
    "        )\n",
    "        self.transformer = nn.TransformerEncoder(encoder_layer, num_layers=num_layers)\n",
    "        self.fc_out = nn.Linear(d_model, vocab_size)\n",
    "\n",
    "    def forward(self, x):\n",
    "        \"\"\"\n",
    "        x: (batch, seq_len) input tokens\n",
    "        Returns: (batch, seq_len, vocab_size) logits\n",
    "        \"\"\"\n",
    "        batch_size, seq_len = x.shape\n",
    "        positions = torch.arange(0, seq_len, device=x.device).unsqueeze(0)\n",
    "        x = self.embed(x) + self.pos_embed(positions)  # (batch, seq_len, d_model)\n",
    "        x = x.transpose(0, 1)  # -> (seq_len, batch, d_model)\n",
    "        mask = generate_square_subsequent_mask(seq_len).to(x.device)  # causal mask (seq_len, seq_len)\n",
    "        x = self.transformer(x, mask=mask)  # (seq_len, batch, d_model)\n",
    "        x = x.transpose(0, 1)  # back to (batch, seq_len, d_model)\n",
    "        logits = self.fc_out(x)  # (batch, seq_len, vocab_size)\n",
    "        return logits\n",
    "\n",
    "\n",
    "def train_model(model, dataloader, vocab_size, epochs=10, lr=1e-4, device=\"cuda\"):\n",
    "    model = model.to(device)\n",
    "    optimizer = torch.optim.AdamW(model.parameters(), lr=lr)\n",
    "    criterion = nn.CrossEntropyLoss()\n",
    "\n",
    "    for epoch in range(epochs):\n",
    "        model.train()\n",
    "        total_loss = 0\n",
    "        for input_ids, target_ids in tqdm(dataloader, desc=f\"Epoch {epoch+1}/{epochs}\"):\n",
    "            input_ids, target_ids = input_ids.to(device), target_ids.to(device)\n",
    "\n",
    "            # Transformer expects shape (seq_len, batch, d_model)\n",
    "            logits = model(input_ids)  # (seq_len, batch, vocab_size)\n",
    "            loss = criterion(logits.view(-1, vocab_size), target_ids.view(-1))\n",
    "\n",
    "            optimizer.zero_grad()\n",
    "            loss.backward()\n",
    "            optimizer.step()\n",
    "            total_loss += loss.item()\n",
    "\n",
    "        print(f\"Epoch {epoch+1} Loss: {total_loss/len(dataloader):.4f}\")\n",
    "\n",
    "\n",
    "dataloader = DataLoader(dataset, batch_size=128, shuffle=True, pin_memory=True)\n",
    "model = SketchTransformer(\n",
    "    vocab_size=len(tokenizer.vocab), d_model=384, nhead=8, num_layers=6\n",
    ")\n",
    "\n",
    "# d_model => model capacity (types of drawing features it can learn)\n",
    "# nhead => model can attend to more positions in parallel\n",
    "# num layers => model learns more hierarchical abstractions (patterns, shapes , layouts)\n",
    "\n",
    "train_model(\n",
    "    model,\n",
    "    dataloader,\n",
    "    vocab_size=len(tokenizer.vocab),\n",
    "    epochs=100,\n",
    "    lr=1e-4,\n",
    "    device=device,\n",
    ")"
   ]
  },
  {
   "cell_type": "code",
   "execution_count": 14,
   "id": "5b604387",
   "metadata": {},
   "outputs": [
    {
     "data": {
      "text/html": [
       "<div style=\"display:inline-block; width: 150px; background-color: white; margin-right:10px;\"><b>Generated</b><br><svg viewBox=\"0 0 32 32\"><g stroke-width=\"0.3\">\n",
       "<path d=\"M 11 8 C 10 6, 7 7, 8 7 C 7 7, 5 6, 5 10\" stroke=\"black\" fill=\"none\"/>\n",
       "<path d=\"M 8 9\" stroke=\"black\" fill=\"none\"/>\n",
       "<path d=\"M 5 9\" stroke=\"black\" fill=\"none\"/>\n",
       "<path d=\"M 10 11\" stroke=\"black\" fill=\"none\"/>\n",
       "<path d=\"M 5 11\" stroke=\"black\" fill=\"none\"/>\n",
       "<path d=\"M 10 7\" stroke=\"black\" fill=\"none\"/>\n",
       "<path d=\"M 7 14 C 7 14, 7 14, 5 15\" stroke=\"black\" fill=\"none\"/>\n",
       "<path d=\"M 8 16 C 10 17, 10 15, 9 16 C 9 16, 11 16, 12 16\" stroke=\"black\" fill=\"none\"/>\n",
       "<path d=\"M 12 15 C 12 14, 12 13, 12 14\" stroke=\"black\" fill=\"none\"/>\n",
       "<path d=\"M 14 13 C 16 15, 14 13, 14 13 C 15 14, 15 14, 16 14 C 16 14, 15 13, 15 13\" stroke=\"black\" fill=\"none\"/>\n",
       "<path d=\"M 14 15 C 15 15, 14 15, 14 15 C 15 15, 15 16, 13 16\" stroke=\"black\" fill=\"none\"/>\n",
       "<path d=\"M 16 17\" stroke=\"black\" fill=\"none\"/>\n",
       "<path d=\"M 13 15\" stroke=\"black\" fill=\"none\"/>\n",
       "<path d=\"M 13 18\" stroke=\"black\" fill=\"none\"/>\n",
       "<path d=\"M 9 14 C 9 14, 8 14, 8 14\" stroke=\"black\" fill=\"none\"/>\n",
       "<path d=\"M 10 13 C 9 13, 8 14, 8 14\" stroke=\"black\" fill=\"none\"/>\n",
       "<path d=\"M 8 13\" stroke=\"black\" fill=\"none\"/>\n",
       "<path d=\"M 12 13 C 12 11, 12 11, 12 11 C 12 11, 12 11, 13 11 C 12 12, 12 13, 15 13 C 17 15, 17 15, 16 13\" stroke=\"black\" fill=\"none\"/>\n",
       "<path d=\"M 12 16\" stroke=\"black\" fill=\"none\"/>\n",
       "<path d=\"M 12 8\" stroke=\"black\" fill=\"none\"/>\n",
       "<path d=\"M 12 15\" stroke=\"black\" fill=\"none\"/>\n",
       "<path d=\"M 15 13\" stroke=\"black\" fill=\"none\"/>\n",
       "<path d=\"M 14 15 C 14 15, 14 15, 15 14 C 14 16, 14 16, 15 16 C 15 17, 15 16, 14 17 C 14 17, 14 17, 14 17\" stroke=\"black\" fill=\"none\"/>\n",
       "<path d=\"M 14 17 C 12 14, 14 16, 14 15 C 16 14, 16 14, 18 13\" stroke=\"black\" fill=\"none\"/>\n",
       "<path d=\"M 14 16 C 14 17, 13 18, 13 18\" stroke=\"black\" fill=\"none\"/>\n",
       "<path d=\"M 9 16\" stroke=\"black\" fill=\"none\"/>\n",
       "<path d=\"M 14 15 C 14 16, 14 17, 14 17 C 14 18, 13 19, 14 19\" stroke=\"black\" fill=\"none\"/>\n",
       "<path d=\"M 11 14\" stroke=\"black\" fill=\"none\"/>\n",
       "<path d=\"M 16 14\" stroke=\"black\" fill=\"none\"/>\n",
       "<path d=\"M 13 15\" stroke=\"black\" fill=\"none\"/>\n",
       "<path d=\"M 14 16 C 14 17, 14 17, 12 19 C 14 19, 14 19, 15 20 C 15 20, 15 20, 15 20 C 16 20, 16 21, 17 21 C 17 21, 17 21, 18 22 C 16 24, 16 22, 16 21 C 16 21, 16 21, 17 21 C 17 21, 16 19, 16 17\" stroke=\"black\" fill=\"none\"/>\n",
       "<path d=\"M 13 21 C 13 21, 13 21, 13 20 C 13 20, 13 20, 14 20\" stroke=\"black\" fill=\"none\"/>\n",
       "<path d=\"M 12 21\" stroke=\"black\" fill=\"none\"/>\n",
       "<path d=\"M 16 26\" stroke=\"black\" fill=\"none\"/>\n",
       "<path d=\"M 15 19 C 15 20, 15 20, 15 20\" stroke=\"black\" fill=\"none\"/>\n",
       "</g></svg></div><div style=\"display:inline-block; width: 150px; background-color: white; margin-right:10px;\"><b>Generated</b><br><svg viewBox=\"0 0 32 32\"><g stroke-width=\"0.3\">\n",
       "<path d=\"M 5 11 C 5 11, 3 7, 6 4 C 6 3, 6 3, 5 3 C 5 3, 6 3, 4 3\" stroke=\"black\" fill=\"none\"/>\n",
       "<path d=\"M 16 5 C 19 5, 20 6, 20 6\" stroke=\"black\" fill=\"none\"/>\n",
       "<path d=\"M 23 4 C 23 4, 24 7, 24 7\" stroke=\"black\" fill=\"none\"/>\n",
       "<path d=\"M 22 7\" stroke=\"black\" fill=\"none\"/>\n",
       "<path d=\"M 10 10 C 10 10, 10 9, 13 9\" stroke=\"black\" fill=\"none\"/>\n",
       "<path d=\"M 18 7 C 20 7, 20 7, 22 8 C 22 8, 22 8, 22 11\" stroke=\"black\" fill=\"none\"/>\n",
       "<path d=\"M 16 7 C 16 8, 17 7, 17 7\" stroke=\"black\" fill=\"none\"/>\n",
       "<path d=\"M 21 6\" stroke=\"black\" fill=\"none\"/>\n",
       "<path d=\"M 23 9\" stroke=\"black\" fill=\"none\"/>\n",
       "<path d=\"M 18 8\" stroke=\"black\" fill=\"none\"/>\n",
       "<path d=\"M 18 11\" stroke=\"black\" fill=\"none\"/>\n",
       "<path d=\"M 20 9\" stroke=\"black\" fill=\"none\"/>\n",
       "<path d=\"M 20 11\" stroke=\"black\" fill=\"none\"/>\n",
       "<path d=\"M 24 9 C 24 9, 24 10, 24 10 C 24 10, 24 11, 23 11\" stroke=\"black\" fill=\"none\"/>\n",
       "<path d=\"M 23 11\" stroke=\"black\" fill=\"none\"/>\n",
       "<path d=\"M 23 12\" stroke=\"black\" fill=\"none\"/>\n",
       "<path d=\"M 21 8 C 22 8, 21 8, 19 8\" stroke=\"black\" fill=\"none\"/>\n",
       "<path d=\"M 19 10\" stroke=\"black\" fill=\"none\"/>\n",
       "<path d=\"M 20 12\" stroke=\"black\" fill=\"none\"/>\n",
       "<path d=\"M 22 12\" stroke=\"black\" fill=\"none\"/>\n",
       "<path d=\"M 21 12\" stroke=\"black\" fill=\"none\"/>\n",
       "<path d=\"M 21 13\" stroke=\"black\" fill=\"none\"/>\n",
       "<path d=\"M 20 11 C 19 13, 20 14, 21 15 C 20 14, 21 14, 23 14\" stroke=\"black\" fill=\"none\"/>\n",
       "<path d=\"M 22 13 C 23 12, 24 13, 24 13\" stroke=\"black\" fill=\"none\"/>\n",
       "<path d=\"M 21 10 C 21 10, 21 10, 22 11\" stroke=\"black\" fill=\"none\"/>\n",
       "<path d=\"M 21 11 C 21 11, 21 11, 22 11\" stroke=\"black\" fill=\"none\"/>\n",
       "<path d=\"M 19 8\" stroke=\"black\" fill=\"none\"/>\n",
       "<path d=\"M 20 13 C 20 13, 20 13, 20 14 C 20 14, 21 15, 21 16\" stroke=\"black\" fill=\"none\"/>\n",
       "<path d=\"M 21 11\" stroke=\"black\" fill=\"none\"/>\n",
       "<path d=\"M 24 16 C 23 16, 25 16, 25 16\" stroke=\"black\" fill=\"none\"/>\n",
       "<path d=\"M 22 17 C 22 15, 22 15, 23 13\" stroke=\"black\" fill=\"none\"/>\n",
       "<path d=\"M 23 16\" stroke=\"black\" fill=\"none\"/>\n",
       "<path d=\"M 22 17 C 22 17, 23 17, 24 16\" stroke=\"black\" fill=\"none\"/>\n",
       "<path d=\"M 21 11 C 21 10, 20 9, 19 10\" stroke=\"black\" fill=\"none\"/>\n",
       "<path d=\"M 27 16\" stroke=\"black\" fill=\"none\"/>\n",
       "<path d=\"M 22 17\" stroke=\"black\" fill=\"none\"/>\n",
       "<path d=\"M 20 18\" stroke=\"black\" fill=\"none\"/>\n",
       "<path d=\"M 23 16 C 23 18, 23 18, 23 17\" stroke=\"black\" fill=\"none\"/>\n",
       "<path d=\"M 22 15 C 23 15, 23 14, 24 15\" stroke=\"black\" fill=\"none\"/>\n",
       "<path d=\"M 14 19 C 16 19, 15 20, 16 21\" stroke=\"black\" fill=\"none\"/>\n",
       "<path d=\"M 15 17\" stroke=\"black\" fill=\"none\"/>\n",
       "<path d=\"M 18 20\" stroke=\"black\" fill=\"none\"/>\n",
       "<path d=\"M 22 20 C 22 21, 23 20, 23 19\" stroke=\"black\" fill=\"none\"/>\n",
       "</g></svg></div><div style=\"display:inline-block; width: 150px; background-color: white; margin-right:10px;\"><b>Generated</b><br><svg viewBox=\"0 0 32 32\"><g stroke-width=\"0.3\">\n",
       "<path d=\"M 16 5 C 17 4, 17 3, 17 5 C 17 5, 17 7, 20 7 C 20 6, 22 6, 20 6 C 19 5, 24 6, 25 5\" stroke=\"black\" fill=\"none\"/>\n",
       "<path d=\"M 25 3 C 25 5, 26 4, 26 4 C 26 3, 26 5, 27 6\" stroke=\"black\" fill=\"none\"/>\n",
       "<path d=\"M 24 5 C 24 5, 26 6, 27 5\" stroke=\"black\" fill=\"none\"/>\n",
       "<path d=\"M 23 7 C 23 7, 23 9, 22 9 C 25 11, 23 11, 23 11\" stroke=\"black\" fill=\"none\"/>\n",
       "<path d=\"M 22 11\" stroke=\"black\" fill=\"none\"/>\n",
       "<path d=\"M 22 10 C 22 11, 22 11, 21 10\" stroke=\"black\" fill=\"none\"/>\n",
       "<path d=\"M 22 13 C 22 13, 21 13, 22 14\" stroke=\"black\" fill=\"none\"/>\n",
       "<path d=\"M 21 11 C 21 11, 21 11, 21 11 C 22 10, 24 10, 23 12\" stroke=\"black\" fill=\"none\"/>\n",
       "<path d=\"M 25 9\" stroke=\"black\" fill=\"none\"/>\n",
       "<path d=\"M 20 9 C 20 9, 20 8, 20 8 C 22 9, 24 9, 23 10\" stroke=\"black\" fill=\"none\"/>\n",
       "<path d=\"M 24 8 C 23 9, 23 8, 24 9 C 24 11, 24 11, 25 8 C 26 8, 24 12, 25 12 C 27 12, 28 11, 27 12 C 27 12, 26 10, 27 11\" stroke=\"black\" fill=\"none\"/>\n",
       "<path d=\"M 23 11 C 23 11, 25 11, 24 11 C 24 11, 24 11, 24 11\" stroke=\"black\" fill=\"none\"/>\n",
       "<path d=\"M 24 11 C 25 11, 24 11, 25 10 C 26 10, 26 9, 26 12 C 25 14, 27 14, 27 15\" stroke=\"black\" fill=\"none\"/>\n",
       "<path d=\"M 24 11\" stroke=\"black\" fill=\"none\"/>\n",
       "<path d=\"M 23 18\" stroke=\"black\" fill=\"none\"/>\n",
       "<path d=\"M 26 13\" stroke=\"black\" fill=\"none\"/>\n",
       "<path d=\"M 23 10\" stroke=\"black\" fill=\"none\"/>\n",
       "<path d=\"M 24 15\" stroke=\"black\" fill=\"none\"/>\n",
       "<path d=\"M 24 16\" stroke=\"black\" fill=\"none\"/>\n",
       "<path d=\"M 24 16\" stroke=\"black\" fill=\"none\"/>\n",
       "<path d=\"M 21 18\" stroke=\"black\" fill=\"none\"/>\n",
       "<path d=\"M 24 16\" stroke=\"black\" fill=\"none\"/>\n",
       "<path d=\"M 22 14\" stroke=\"black\" fill=\"none\"/>\n",
       "<path d=\"M 23 19\" stroke=\"black\" fill=\"none\"/>\n",
       "<path d=\"M 21 11 C 21 11, 21 11, 21 11 C 21 11, 23 12, 24 14\" stroke=\"black\" fill=\"none\"/>\n",
       "<path d=\"M 24 18 C 22 18, 23 18, 23 18 C 23 18, 24 20, 24 19\" stroke=\"black\" fill=\"none\"/>\n",
       "<path d=\"M 26 14 C 28 12, 27 15, 26 18 C 26 19, 27 22, 26 18 C 26 17, 27 18, 21 19 C 22 18, 22 17, 22 17\" stroke=\"black\" fill=\"none\"/>\n",
       "<path d=\"M 23 8\" stroke=\"black\" fill=\"none\"/>\n",
       "<path d=\"M 26 14 C 26 16, 25 14, 25 14 C 25 14, 24 14, 25 14\" stroke=\"black\" fill=\"none\"/>\n",
       "<path d=\"M 24 9 C 24 9, 24 9, 23 10\" stroke=\"black\" fill=\"none\"/>\n",
       "</g></svg></div><div style=\"display:inline-block; width: 150px; background-color: white; margin-right:10px;\"><b>Generated</b><br><svg viewBox=\"0 0 32 32\"><g stroke-width=\"0.3\">\n",
       "<path d=\"M 10 14 C 11 14, 11 14, 11 14 C 10 14, 10 14, 10 13 C 10 14, 9 11, 11 11 C 12 12, 11 11, 11 12\" stroke=\"black\" fill=\"none\"/>\n",
       "<path d=\"M 10 10 C 12 11, 11 13, 9 16 C 10 15, 10 14, 9 13 C 9 13, 10 13, 9 15 C 9 15, 9 15, 9 18\" stroke=\"black\" fill=\"none\"/>\n",
       "<path d=\"M 8 14\" stroke=\"black\" fill=\"none\"/>\n",
       "<path d=\"M 11 20 C 9 18, 8 16, 8 17\" stroke=\"black\" fill=\"none\"/>\n",
       "<path d=\"M 10 17 C 10 17, 10 17, 12 16 C 12 14, 12 14, 14 17 C 14 18, 14 18, 15 18 C 15 18, 16 18, 16 18\" stroke=\"black\" fill=\"none\"/>\n",
       "<path d=\"M 17 14 C 17 13, 17 13, 17 14\" stroke=\"black\" fill=\"none\"/>\n",
       "<path d=\"M 20 16\" stroke=\"black\" fill=\"none\"/>\n",
       "<path d=\"M 16 21 C 16 21, 16 21, 16 21 C 17 21, 17 21, 18 19 C 16 21, 17 21, 16 22 C 16 22, 16 22, 15 21 C 16 21, 16 22, 16 21\" stroke=\"black\" fill=\"none\"/>\n",
       "<path d=\"M 20 21 C 21 21, 20 23, 20 23 C 21 22, 21 22, 21 21\" stroke=\"black\" fill=\"none\"/>\n",
       "<path d=\"M 20 19 C 18 20, 16 21, 17 21\" stroke=\"black\" fill=\"none\"/>\n",
       "<path d=\"M 18 15\" stroke=\"black\" fill=\"none\"/>\n",
       "<path d=\"M 18 21\" stroke=\"black\" fill=\"none\"/>\n",
       "<path d=\"M 18 20\" stroke=\"black\" fill=\"none\"/>\n",
       "<path d=\"M 20 19\" stroke=\"black\" fill=\"none\"/>\n",
       "<path d=\"M 20 21 C 20 21, 20 22, 18 20\" stroke=\"black\" fill=\"none\"/>\n",
       "<path d=\"M 17 23 C 17 22, 18 22, 18 22\" stroke=\"black\" fill=\"none\"/>\n",
       "<path d=\"M 13 19 C 13 20, 13 20, 15 20\" stroke=\"black\" fill=\"none\"/>\n",
       "<path d=\"M 19 21 C 18 22, 17 23, 17 23 C 17 23, 16 24, 15 24\" stroke=\"black\" fill=\"none\"/>\n",
       "<path d=\"M 18 20\" stroke=\"black\" fill=\"none\"/>\n",
       "<path d=\"M 20 21\" stroke=\"black\" fill=\"none\"/>\n",
       "<path d=\"M 18 18\" stroke=\"black\" fill=\"none\"/>\n",
       "<path d=\"M 17 22 C 18 23, 18 23, 19 25\" stroke=\"black\" fill=\"none\"/>\n",
       "<path d=\"M 20 21\" stroke=\"black\" fill=\"none\"/>\n",
       "<path d=\"M 17 23 C 17 23, 17 23, 16 24\" stroke=\"black\" fill=\"none\"/>\n",
       "<path d=\"M 14 24 C 14 26, 15 25, 15 23 C 15 23, 15 22, 14 22 C 15 24, 16 24, 13 22\" stroke=\"black\" fill=\"none\"/>\n",
       "<path d=\"M 16 20 C 17 20, 17 20, 17 22\" stroke=\"black\" fill=\"none\"/>\n",
       "<path d=\"M 21 23 C 21 23, 21 24, 17 25 C 17 25, 17 27, 16 27 C 15 28, 17 28, 17 28\" stroke=\"black\" fill=\"none\"/>\n",
       "<path d=\"M 18 23 C 19 22, 19 22, 19 24 C 20 25, 23 21, 23 21 C 24 21, 24 21, 23 19\" stroke=\"black\" fill=\"none\"/>\n",
       "</g></svg></div><div style=\"display:inline-block; width: 150px; background-color: white; margin-right:10px;\"><b>Generated</b><br><svg viewBox=\"0 0 32 32\"><g stroke-width=\"0.3\">\n",
       "<path d=\"M 6 14 C 7 12, 6 12, 7 10\" stroke=\"black\" fill=\"none\"/>\n",
       "<path d=\"M 5 9 C 5 9, 3 11, 4 11\" stroke=\"black\" fill=\"none\"/>\n",
       "<path d=\"M 9 8\" stroke=\"black\" fill=\"none\"/>\n",
       "<path d=\"M 8 7 C 8 7, 8 8, 9 8\" stroke=\"black\" fill=\"none\"/>\n",
       "<path d=\"M 11 8 C 11 8, 11 8, 11 7 C 11 8, 12 8, 12 8 C 13 8, 13 8, 13 8\" stroke=\"black\" fill=\"none\"/>\n",
       "<path d=\"M 11 5\" stroke=\"black\" fill=\"none\"/>\n",
       "<path d=\"M 12 11\" stroke=\"black\" fill=\"none\"/>\n",
       "<path d=\"M 13 9\" stroke=\"black\" fill=\"none\"/>\n",
       "<path d=\"M 11 8\" stroke=\"black\" fill=\"none\"/>\n",
       "<path d=\"M 12 11\" stroke=\"black\" fill=\"none\"/>\n",
       "<path d=\"M 13 12\" stroke=\"black\" fill=\"none\"/>\n",
       "<path d=\"M 10 10\" stroke=\"black\" fill=\"none\"/>\n",
       "<path d=\"M 8 12\" stroke=\"black\" fill=\"none\"/>\n",
       "<path d=\"M 10 10\" stroke=\"black\" fill=\"none\"/>\n",
       "<path d=\"M 15 12\" stroke=\"black\" fill=\"none\"/>\n",
       "<path d=\"M 14 8 C 13 7, 14 6, 14 8\" stroke=\"black\" fill=\"none\"/>\n",
       "<path d=\"M 13 9\" stroke=\"black\" fill=\"none\"/>\n",
       "<path d=\"M 10 10\" stroke=\"black\" fill=\"none\"/>\n",
       "<path d=\"M 8 9\" stroke=\"black\" fill=\"none\"/>\n",
       "<path d=\"M 10 11\" stroke=\"black\" fill=\"none\"/>\n",
       "<path d=\"M 7 9 C 7 9, 7 10, 7 10 C 6 10, 5 11, 6 12\" stroke=\"black\" fill=\"none\"/>\n",
       "<path d=\"M 10 9 C 11 9, 11 10, 10 10\" stroke=\"black\" fill=\"none\"/>\n",
       "<path d=\"M 6 11 C 5 12, 5 12, 5 13 C 6 13, 6 14, 7 14\" stroke=\"black\" fill=\"none\"/>\n",
       "<path d=\"M 7 10\" stroke=\"black\" fill=\"none\"/>\n",
       "<path d=\"M 9 14\" stroke=\"black\" fill=\"none\"/>\n",
       "<path d=\"M 13 9 C 13 10, 13 9, 13 8\" stroke=\"black\" fill=\"none\"/>\n",
       "<path d=\"M 7 11\" stroke=\"black\" fill=\"none\"/>\n",
       "<path d=\"M 6 13 C 7 12, 5 12, 5 12 C 4 13, 4 13, 3 13 C 3 13, 3 13, 3 13\" stroke=\"black\" fill=\"none\"/>\n",
       "<path d=\"M 7 11 C 7 11, 7 11, 6 11 C 6 12, 6 11, 7 11\" stroke=\"black\" fill=\"none\"/>\n",
       "<path d=\"M 7 11 C 7 11, 7 12, 5 12 C 5 12, 6 13, 6 14 C 6 14, 6 14, 6 14 C 5 14, 5 14, 5 15 C 6 15, 6 18, 6 16 C 6 17, 6 18, 3 19\" stroke=\"black\" fill=\"none\"/>\n",
       "<path d=\"M 6 14 C 5 14, 4 13, 4 13\" stroke=\"black\" fill=\"none\"/>\n",
       "<path d=\"M 4 17\" stroke=\"black\" fill=\"none\"/>\n",
       "<path d=\"M 7 15 C 7 13, 8 13, 7 15\" stroke=\"black\" fill=\"none\"/>\n",
       "<path d=\"M 7 13 C 7 13, 7 13, 7 13 C 7 14, 7 13, 5 13 C 4 13, 4 14, 4 14 C 4 21, 5 23, 5 24\" stroke=\"black\" fill=\"none\"/>\n",
       "<path d=\"M 7 15\" stroke=\"black\" fill=\"none\"/>\n",
       "<path d=\"M 7 16\" stroke=\"black\" fill=\"none\"/>\n",
       "<path d=\"M 6 16 C 6 17, 7 15, 3 20 C 7 20, 6 19, 6 21\" stroke=\"black\" fill=\"none\"/>\n",
       "<path d=\"M 4 17\" stroke=\"black\" fill=\"none\"/>\n",
       "<path d=\"M 7 15\" stroke=\"black\" fill=\"none\"/>\n",
       "</g></svg></div>"
      ],
      "text/plain": [
       "<IPython.core.display.HTML object>"
      ]
     },
     "metadata": {},
     "output_type": "display_data"
    }
   ],
   "source": [
    "def top_p_filtering(logits, p=0.9):\n",
    "    sorted_logits, sorted_indices = torch.sort(logits, descending=True)\n",
    "    cumulative_probs = torch.cumsum(F.softmax(sorted_logits, dim=-1), dim=-1)\n",
    "    sorted_indices_to_remove = cumulative_probs > p\n",
    "    sorted_indices_to_remove[..., 1:] = sorted_indices_to_remove[..., :-1].clone()\n",
    "    sorted_indices_to_remove[..., 0] = False\n",
    "    indices_to_remove = sorted_indices[sorted_indices_to_remove]\n",
    "    logits[:, indices_to_remove] = -float(\"Inf\")\n",
    "    return logits\n",
    "\n",
    "def top_k_filtering(logits, k):\n",
    "    if k <= 0:\n",
    "        return logits\n",
    "    top_k = min(k, logits.size(-1))\n",
    "    values, _ = torch.topk(logits, top_k)\n",
    "    min_values = values[:, -1].unsqueeze(-1)\n",
    "    logits[logits < min_values] = -float(\"Inf\")\n",
    "    return logits\n",
    "\n",
    "\n",
    "def sample_sequence_feat(\n",
    "    model,\n",
    "    start_token,\n",
    "    max_len=200,\n",
    "    temperature=1.0,\n",
    "    top_k=60,\n",
    "    top_p=0.9,\n",
    "    greedy=False,\n",
    "    eos_id=None,\n",
    "    device=\"cuda\",\n",
    "):\n",
    "    model.eval()\n",
    "    tokens = [start_token]\n",
    "    tokens_tensor = torch.tensor([tokens], device=device)\n",
    "\n",
    "    for _ in range(max_len - 1):\n",
    "        with torch.no_grad():\n",
    "            logits = model(tokens_tensor)\n",
    "            next_logits = logits[:, -1, :] / temperature\n",
    "\n",
    "            # top-k / top-p filtering\n",
    "            next_logits = top_k_filtering(next_logits, top_k)\n",
    "            next_logits = top_p_filtering(next_logits, top_p)\n",
    "            probs = F.softmax(next_logits, dim=-1)\n",
    "\n",
    "            if greedy:\n",
    "                next_token = torch.argmax(probs, dim=-1).item()\n",
    "            else:\n",
    "                next_token = torch.multinomial(probs, num_samples=1).item()\n",
    "\n",
    "        tokens.append(next_token)\n",
    "\n",
    "        if eos_id is not None and next_token == eos_id:\n",
    "            break\n",
    "\n",
    "        next_token_tensor = torch.tensor([[next_token]], device=device)\n",
    "        tokens_tensor = torch.cat([tokens_tensor, next_token_tensor], dim=1)\n",
    "\n",
    "    return tokens\n",
    "\n",
    "\n",
    "start_token = tokenizer.vocab[\"START\"]\n",
    "eos_token = tokenizer.vocab.get(\"END\", None)\n",
    "generations_inline = \"\"\n",
    "\n",
    "for i in range(5):\n",
    "    generated = sample_sequence_feat(\n",
    "        model,\n",
    "        start_token,\n",
    "        max_len=200,\n",
    "        temperature=1.0,\n",
    "        greedy=False,\n",
    "        eos_id=eos_token,\n",
    "        device=device,\n",
    "    )\n",
    "    decoded_sketch = tokenizer.decode(generated, stroke_width=0.3)\n",
    "    \n",
    "    # print(\"Generated token sequence:\", generated)\n",
    "    # print(\"Decoded sketch:\", decoded_sketch)\n",
    "    generations_inline += f'<div style=\"display:inline-block; width: 150px; background-color: white; margin-right:10px;\"><b>Generated</b><br>{decoded_sketch}</div>'\n",
    "\n",
    "\n",
    "from IPython.display import HTML, display\n",
    "display(HTML(generations_inline))"
   ]
  }
 ],
 "metadata": {
  "kernelspec": {
   "display_name": "Python 3",
   "language": "python",
   "name": "python3"
  },
  "language_info": {
   "codemirror_mode": {
    "name": "ipython",
    "version": 3
   },
   "file_extension": ".py",
   "mimetype": "text/x-python",
   "name": "python",
   "nbconvert_exporter": "python",
   "pygments_lexer": "ipython3",
   "version": "3.13.7"
  }
 },
 "nbformat": 4,
 "nbformat_minor": 5
}
