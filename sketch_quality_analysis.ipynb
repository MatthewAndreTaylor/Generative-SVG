{
 "cells": [
  {
   "cell_type": "code",
   "execution_count": null,
   "id": "3b9bf66d",
   "metadata": {},
   "outputs": [],
   "source": [
    "from PIL import Image\n",
    "import requests\n",
    "\n",
    "from transformers import CLIPProcessor, CLIPModel\n",
    "\n",
    "# https://huggingface.co/openai/clip-vit-large-patch14\n",
    "model = CLIPModel.from_pretrained(\"openai/clip-vit-large-patch14\")\n",
    "processor = CLIPProcessor.from_pretrained(\"openai/clip-vit-large-patch14\")\n",
    "\n",
    "url = \"http://images.cocodataset.org/val2017/000000039769.jpg\"\n",
    "image = Image.open(requests.get(url, stream=True).raw)\n",
    "\n",
    "inputs = processor(text=[\"a cat sketch\", \"scribbles\"], images=image, return_tensors=\"pt\", padding=True)\n",
    "\n",
    "outputs = model(**inputs)\n",
    "logits_per_image = outputs.logits_per_image\n",
    "probs = logits_per_image.softmax(dim=1)"
   ]
  },
  {
   "cell_type": "code",
   "execution_count": 21,
   "id": "901a21c1",
   "metadata": {},
   "outputs": [
    {
     "name": "stderr",
     "output_type": "stream",
     "text": [
      "Downloading QuickDraw files: 100%|██████████| 1/1 [00:00<00:00, 2890.63it/s]\n",
      "Loading QuickDraw files: 100%|██████████| 1/1 [00:02<00:00,  2.61s/it]\n"
     ]
    },
    {
     "name": "stdout",
     "output_type": "stream",
     "text": [
      "\n",
      "Text: 'a cat sketch'\n"
     ]
    },
    {
     "data": {
      "text/html": [
       "<div style='display:inline-block; width: 150px; background-color: white; margin-right:10px;'><b>Ranking 1, Probability: 1.00</b><br><svg viewBox=\"0 0 256 256\"><g stroke-width=\"1.0\">\n",
       "<path d=\"M 45 56 L 45 97 L 51 120 L 59 136 L 82 163 L 105 176 L 132 179 L 154 179 L 190 167 L 206 157 L 214 142 L 222 106 L 219 104\" stroke=\"black\" fill=\"none\"/>\n",
       "<path d=\"M 50 61 L 48 21 L 51 16 L 55 16 L 89 45 L 99 58 L 117 49 L 135 48 L 156 60 L 180 18 L 199 0 L 199 9 L 216 53 L 218 107\" stroke=\"black\" fill=\"none\"/>\n",
       "<path d=\"M 111 119 L 85 123 L 47 137 L 9 161 L 0 170\" stroke=\"black\" fill=\"none\"/>\n",
       "<path d=\"M 104 155 L 85 165 L 61 186 L 53 197 L 52 201 L 56 201\" stroke=\"black\" fill=\"none\"/>\n",
       "<path d=\"M 137 163 L 138 182 L 148 197\" stroke=\"black\" fill=\"none\"/>\n",
       "<path d=\"M 193 112 L 234 112 L 251 119 L 254 123\" stroke=\"black\" fill=\"none\"/>\n",
       "</g></svg></div><div style='display:inline-block; width: 150px; background-color: white; margin-right:10px;'><b>Ranking 2, Probability: 1.00</b><br><svg viewBox=\"0 0 256 256\"><g stroke-width=\"1.0\">\n",
       "<path d=\"M 130 72 L 113 40 L 99 27 L 109 79 L 76 82 L 64 88 L 55 100 L 48 120 L 48 134 L 51 152 L 59 165 L 86 184 L 133 189 L 154 186 L 170 179 L 203 152 L 214 131 L 217 114 L 215 100 L 208 89 L 186 76 L 176 0 L 162 31 L 157 65 L 132 70\" stroke=\"black\" fill=\"none\"/>\n",
       "<path d=\"M 76 136 L 28 128 L 7 128\" stroke=\"black\" fill=\"none\"/>\n",
       "<path d=\"M 76 160 L 23 164 L 0 175\" stroke=\"black\" fill=\"none\"/>\n",
       "<path d=\"M 87 175 L 52 191 L 37 204\" stroke=\"black\" fill=\"none\"/>\n",
       "<path d=\"M 174 134 L 220 132 L 246 136 L 251 139\" stroke=\"black\" fill=\"none\"/>\n",
       "<path d=\"M 175 147 L 255 168\" stroke=\"black\" fill=\"none\"/>\n",
       "<path d=\"M 171 164 L 208 198 L 215 210\" stroke=\"black\" fill=\"none\"/>\n",
       "<path d=\"M 130 129 L 110 134 L 108 137 L 111 144 L 130 148 L 139 144 L 139 136 L 119 130\" stroke=\"black\" fill=\"none\"/>\n",
       "<path d=\"M 107 96 L 106 113\" stroke=\"black\" fill=\"none\"/>\n",
       "</g></svg></div><div style='display:inline-block; width: 150px; background-color: white; margin-right:10px;'><b>Ranking 3, Probability: 0.11</b><br><svg viewBox=\"0 0 256 256\"><g stroke-width=\"1.0\">\n",
       "<path d=\"M 94 58 L 94 41 L 97 37 L 128 17 L 131 29 L 136 21 L 139 21 L 146 46\" stroke=\"black\" fill=\"none\"/>\n",
       "<path d=\"M 157 40 L 161 34 L 159 31 L 147 39 L 145 50 L 150 54 L 162 48\" stroke=\"black\" fill=\"none\"/>\n",
       "<path d=\"M 172 35 L 162 45 L 160 54 L 163 60 L 169 61 L 182 54 L 190 34 L 184 30 L 179 38\" stroke=\"black\" fill=\"none\"/>\n",
       "<path d=\"M 189 39 L 189 57 L 198 58 L 201 52 L 208 60 L 219 38 L 223 20\" stroke=\"black\" fill=\"none\"/>\n",
       "<path d=\"M 86 85 L 87 91 L 88 80 L 88 86 L 92 81 L 96 90 L 106 88\" stroke=\"black\" fill=\"none\"/>\n",
       "<path d=\"M 107 88 L 111 84 L 107 90 L 113 90\" stroke=\"black\" fill=\"none\"/>\n",
       "<path d=\"M 119 85 L 118 90 L 120 86\" stroke=\"black\" fill=\"none\"/>\n",
       "<path d=\"M 126 87 L 128 92 L 130 86\" stroke=\"black\" fill=\"none\"/>\n",
       "<path d=\"M 147 84 L 124 91 L 90 107 L 73 118 L 69 124 L 70 128 L 79 135 L 95 137 L 125 137 L 167 128 L 183 118 L 188 110 L 187 101 L 179 90 L 166 83 L 142 83 L 113 91 L 96 103 L 93 115 L 100 129 L 118 134 L 137 135 L 163 126 L 172 118 L 174 106 L 170 100 L 163 99 L 131 108 L 100 121 L 79 133 L 76 139 L 80 145 L 102 149 L 128 149 L 150 144 L 171 127 L 172 118 L 163 102 L 143 94 L 115 94 L 28 115 L 6 125 L 8 132 L 13 135 L 45 143 L 117 146 L 163 134 L 183 123 L 180 112 L 159 99 L 127 89 L 53 86 L 0 95 L 0 98 L 27 108 L 104 110 L 158 101 L 178 94 L 195 86 L 202 79 L 203 73 L 200 66 L 187 55 L 151 46 L 97 41 L 19 40 L 0 42 L 1 48 L 22 54 L 82 60 L 149 61 L 212 55 L 245 45 L 255 35 L 253 30 L 236 20 L 184 15 L 64 19 L 42 23 L 47 28 L 107 32 L 156 27 L 172 22 L 181 13 L 184 5 L 174 0 L 71 6 L 29 15 L 31 20 L 53 26 L 102 29 L 119 27 L 147 17 L 154 9 L 151 3 L 116 5 L 70 16 L 43 26 L 37 35 L 43 41 L 101 49 L 149 50 L 171 47 L 202 38 L 210 29 L 209 25 L 193 16 L 166 14 L 136 19 L 83 33 L 49 48 L 45 67 L 58 73 L 169 82 L 192 77 L 226 65 L 240 52 L 242 33 L 232 26 L 201 24 L 172 29 L 121 46 L 123 50 L 140 55 L 189 57 L 209 49 L 213 39\" stroke=\"black\" fill=\"none\"/>\n",
       "</g></svg></div>"
      ],
      "text/plain": [
       "<IPython.core.display.HTML object>"
      ]
     },
     "metadata": {},
     "output_type": "display_data"
    },
    {
     "name": "stdout",
     "output_type": "stream",
     "text": [
      "\n",
      "Text: 'random scribbles'\n"
     ]
    },
    {
     "data": {
      "text/html": [
       "<div style='display:inline-block; width: 150px; background-color: white; margin-right:10px;'><b>Ranking 1, Probability: 0.89</b><br><svg viewBox=\"0 0 256 256\"><g stroke-width=\"1.0\">\n",
       "<path d=\"M 94 58 L 94 41 L 97 37 L 128 17 L 131 29 L 136 21 L 139 21 L 146 46\" stroke=\"black\" fill=\"none\"/>\n",
       "<path d=\"M 157 40 L 161 34 L 159 31 L 147 39 L 145 50 L 150 54 L 162 48\" stroke=\"black\" fill=\"none\"/>\n",
       "<path d=\"M 172 35 L 162 45 L 160 54 L 163 60 L 169 61 L 182 54 L 190 34 L 184 30 L 179 38\" stroke=\"black\" fill=\"none\"/>\n",
       "<path d=\"M 189 39 L 189 57 L 198 58 L 201 52 L 208 60 L 219 38 L 223 20\" stroke=\"black\" fill=\"none\"/>\n",
       "<path d=\"M 86 85 L 87 91 L 88 80 L 88 86 L 92 81 L 96 90 L 106 88\" stroke=\"black\" fill=\"none\"/>\n",
       "<path d=\"M 107 88 L 111 84 L 107 90 L 113 90\" stroke=\"black\" fill=\"none\"/>\n",
       "<path d=\"M 119 85 L 118 90 L 120 86\" stroke=\"black\" fill=\"none\"/>\n",
       "<path d=\"M 126 87 L 128 92 L 130 86\" stroke=\"black\" fill=\"none\"/>\n",
       "<path d=\"M 147 84 L 124 91 L 90 107 L 73 118 L 69 124 L 70 128 L 79 135 L 95 137 L 125 137 L 167 128 L 183 118 L 188 110 L 187 101 L 179 90 L 166 83 L 142 83 L 113 91 L 96 103 L 93 115 L 100 129 L 118 134 L 137 135 L 163 126 L 172 118 L 174 106 L 170 100 L 163 99 L 131 108 L 100 121 L 79 133 L 76 139 L 80 145 L 102 149 L 128 149 L 150 144 L 171 127 L 172 118 L 163 102 L 143 94 L 115 94 L 28 115 L 6 125 L 8 132 L 13 135 L 45 143 L 117 146 L 163 134 L 183 123 L 180 112 L 159 99 L 127 89 L 53 86 L 0 95 L 0 98 L 27 108 L 104 110 L 158 101 L 178 94 L 195 86 L 202 79 L 203 73 L 200 66 L 187 55 L 151 46 L 97 41 L 19 40 L 0 42 L 1 48 L 22 54 L 82 60 L 149 61 L 212 55 L 245 45 L 255 35 L 253 30 L 236 20 L 184 15 L 64 19 L 42 23 L 47 28 L 107 32 L 156 27 L 172 22 L 181 13 L 184 5 L 174 0 L 71 6 L 29 15 L 31 20 L 53 26 L 102 29 L 119 27 L 147 17 L 154 9 L 151 3 L 116 5 L 70 16 L 43 26 L 37 35 L 43 41 L 101 49 L 149 50 L 171 47 L 202 38 L 210 29 L 209 25 L 193 16 L 166 14 L 136 19 L 83 33 L 49 48 L 45 67 L 58 73 L 169 82 L 192 77 L 226 65 L 240 52 L 242 33 L 232 26 L 201 24 L 172 29 L 121 46 L 123 50 L 140 55 L 189 57 L 209 49 L 213 39\" stroke=\"black\" fill=\"none\"/>\n",
       "</g></svg></div><div style='display:inline-block; width: 150px; background-color: white; margin-right:10px;'><b>Ranking 2, Probability: 0.00</b><br><svg viewBox=\"0 0 256 256\"><g stroke-width=\"1.0\">\n",
       "<path d=\"M 130 72 L 113 40 L 99 27 L 109 79 L 76 82 L 64 88 L 55 100 L 48 120 L 48 134 L 51 152 L 59 165 L 86 184 L 133 189 L 154 186 L 170 179 L 203 152 L 214 131 L 217 114 L 215 100 L 208 89 L 186 76 L 176 0 L 162 31 L 157 65 L 132 70\" stroke=\"black\" fill=\"none\"/>\n",
       "<path d=\"M 76 136 L 28 128 L 7 128\" stroke=\"black\" fill=\"none\"/>\n",
       "<path d=\"M 76 160 L 23 164 L 0 175\" stroke=\"black\" fill=\"none\"/>\n",
       "<path d=\"M 87 175 L 52 191 L 37 204\" stroke=\"black\" fill=\"none\"/>\n",
       "<path d=\"M 174 134 L 220 132 L 246 136 L 251 139\" stroke=\"black\" fill=\"none\"/>\n",
       "<path d=\"M 175 147 L 255 168\" stroke=\"black\" fill=\"none\"/>\n",
       "<path d=\"M 171 164 L 208 198 L 215 210\" stroke=\"black\" fill=\"none\"/>\n",
       "<path d=\"M 130 129 L 110 134 L 108 137 L 111 144 L 130 148 L 139 144 L 139 136 L 119 130\" stroke=\"black\" fill=\"none\"/>\n",
       "<path d=\"M 107 96 L 106 113\" stroke=\"black\" fill=\"none\"/>\n",
       "</g></svg></div><div style='display:inline-block; width: 150px; background-color: white; margin-right:10px;'><b>Ranking 3, Probability: 0.00</b><br><svg viewBox=\"0 0 256 256\"><g stroke-width=\"1.0\">\n",
       "<path d=\"M 45 56 L 45 97 L 51 120 L 59 136 L 82 163 L 105 176 L 132 179 L 154 179 L 190 167 L 206 157 L 214 142 L 222 106 L 219 104\" stroke=\"black\" fill=\"none\"/>\n",
       "<path d=\"M 50 61 L 48 21 L 51 16 L 55 16 L 89 45 L 99 58 L 117 49 L 135 48 L 156 60 L 180 18 L 199 0 L 199 9 L 216 53 L 218 107\" stroke=\"black\" fill=\"none\"/>\n",
       "<path d=\"M 111 119 L 85 123 L 47 137 L 9 161 L 0 170\" stroke=\"black\" fill=\"none\"/>\n",
       "<path d=\"M 104 155 L 85 165 L 61 186 L 53 197 L 52 201 L 56 201\" stroke=\"black\" fill=\"none\"/>\n",
       "<path d=\"M 137 163 L 138 182 L 148 197\" stroke=\"black\" fill=\"none\"/>\n",
       "<path d=\"M 193 112 L 234 112 L 251 119 L 254 123\" stroke=\"black\" fill=\"none\"/>\n",
       "</g></svg></div>"
      ],
      "text/plain": [
       "<IPython.core.display.HTML object>"
      ]
     },
     "metadata": {},
     "output_type": "display_data"
    }
   ],
   "source": [
    "import pyvips\n",
    "from io import BytesIO\n",
    "from PIL import Image\n",
    "from IPython.display import display, HTML\n",
    "from dataset import QuickDrawDataset\n",
    "import torch\n",
    "\n",
    "def svg_rasterize(svg_string: str) -> Image.Image:\n",
    "    svg_bytes = svg_string.encode(\"utf-8\")\n",
    "    image = pyvips.Image.svgload_buffer(svg_bytes)\n",
    "    image = image.flatten(background=0xFFFFFF)\n",
    "    png_bytes = image.write_to_buffer(\".png\")\n",
    "    img = Image.open(BytesIO(png_bytes)).convert(\"L\")\n",
    "    return img\n",
    "\n",
    "labels = [\"cat\"]\n",
    "\n",
    "training_data = QuickDrawDataset(labels=labels, download=True)\n",
    "\n",
    "\n",
    "svgs = [training_data[0], training_data[8138], training_data[1234]]\n",
    "rasterized_svgs = [svg_rasterize(svg) for svg in svgs]\n",
    "\n",
    "text_inputs = [\"a cat sketch\", \"random scribbles\"]\n",
    "\n",
    "inputs = processor(text=text_inputs, images=rasterized_svgs, return_tensors=\"pt\", padding=True)\n",
    "\n",
    "outputs = model(**inputs)\n",
    "logits_per_image = outputs.logits_per_image\n",
    "probs = logits_per_image.softmax(dim=1)\n",
    "\n",
    "# Rank images for each text label\n",
    "\n",
    "for j, text in enumerate(text_inputs):\n",
    "    scores = probs[:, j]\n",
    "    ranking = torch.argsort(scores, descending=True)\n",
    "    print(f\"\\nText: '{text}'\")\n",
    "    label_ranking = \"\"\n",
    "\n",
    "    for rank, idx in enumerate(ranking):\n",
    "        label_ranking += f\"<div style='display:inline-block; width: 150px; background-color: white; margin-right:10px;'><b>Ranking {rank+1}, Probability: {scores[idx]:.2f}</b><br>{svgs[idx]}</div>\"\n",
    "\n",
    "    display(HTML(label_ranking))\n"
   ]
  }
 ],
 "metadata": {
  "kernelspec": {
   "display_name": "Python 3",
   "language": "python",
   "name": "python3"
  },
  "language_info": {
   "codemirror_mode": {
    "name": "ipython",
    "version": 3
   },
   "file_extension": ".py",
   "mimetype": "text/x-python",
   "name": "python",
   "nbconvert_exporter": "python",
   "pygments_lexer": "ipython3",
   "version": "3.13.7"
  }
 },
 "nbformat": 4,
 "nbformat_minor": 5
}
