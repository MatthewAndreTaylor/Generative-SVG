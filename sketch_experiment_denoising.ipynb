{
 "cells": [
  {
   "cell_type": "markdown",
   "id": "632aa9ac",
   "metadata": {},
   "source": [
    "# Initial experiments: Denoising"
   ]
  },
  {
   "cell_type": "code",
   "execution_count": 17,
   "id": "651fca9d",
   "metadata": {},
   "outputs": [],
   "source": [
    "import torch\n",
    "import torch.nn as nn\n",
    "import torch.nn.functional as F\n",
    "from torch.utils.data import Dataset\n",
    "from torch.utils.data import DataLoader\n",
    "\n",
    "from dataset import QuickDrawDataset\n",
    "from utils import AbsolutePenPositionTokenizer\n",
    "from tqdm import tqdm\n",
    "import pickle"
   ]
  },
  {
   "cell_type": "code",
   "execution_count": 18,
   "id": "d0c0017c",
   "metadata": {},
   "outputs": [
    {
     "name": "stdout",
     "output_type": "stream",
     "text": [
      "Using device: cuda\n"
     ]
    }
   ],
   "source": [
    "device = torch.device(\"cuda\" if torch.cuda.is_available() else \"cpu\")\n",
    "print(\"Using device:\", device)\n",
    "\n",
    "seed = 42\n",
    "torch.manual_seed(seed)\n",
    "if device == \"cuda\":\n",
    "    torch.cuda.manual_seed_all(seed)"
   ]
  },
  {
   "cell_type": "code",
   "execution_count": 19,
   "id": "2d0dd2b3",
   "metadata": {},
   "outputs": [
    {
     "name": "stderr",
     "output_type": "stream",
     "text": [
      "Loading QuickDraw files: 100%|██████████| 1/1 [00:03<00:00,  3.23s/it]\n"
     ]
    },
    {
     "name": "stdout",
     "output_type": "stream",
     "text": [
      "Loaded tokenized data from sketch_tokenized_dataset.pkl\n"
     ]
    }
   ],
   "source": [
    "labels = [\"cat\"]\n",
    "\n",
    "training_data = QuickDrawDataset(\n",
    "    labels=labels,\n",
    ")\n",
    "\n",
    "tokenizer = AbsolutePenPositionTokenizer(bins=64, additional_tokens=[\"MASK\"])\n",
    "\n",
    "\n",
    "class SketchDataset(Dataset):\n",
    "    def __init__(\n",
    "        self,\n",
    "        svg_list,\n",
    "        tokenizer,\n",
    "        max_len=200,\n",
    "        cache_file=\"sketch_tokenized_dataset.pkl\",\n",
    "    ):\n",
    "        self.data = []\n",
    "        self.tokenizer = tokenizer\n",
    "        self.max_len = max_len\n",
    "        self.pad_id = tokenizer.vocab[\"PAD\"]\n",
    "\n",
    "        # Try to load from cache\n",
    "        try:\n",
    "            with open(cache_file, \"rb\") as f:\n",
    "                self.data = pickle.load(f)\n",
    "            print(f\"Loaded tokenized data from {cache_file}\")\n",
    "        except FileNotFoundError:\n",
    "            for svg in tqdm(svg_list, desc=\"Tokenizing SVGs\"):\n",
    "                tokens = tokenizer.encode(svg)\n",
    "                # Truncate + pad\n",
    "                tokens = tokens[:max_len]\n",
    "                tokens = tokens + [self.pad_id] * (max_len - len(tokens))\n",
    "                self.data.append(tokens)\n",
    "\n",
    "            with open(cache_file, \"wb\") as f:\n",
    "                pickle.dump(self.data, f)\n",
    "            print(f\"Saved tokenized data to {cache_file}\")\n",
    "\n",
    "    def __getitem__(self, idx):\n",
    "        return torch.tensor(self.data[idx])\n",
    "\n",
    "    def __len__(self):\n",
    "        return len(self.data)\n",
    "\n",
    "\n",
    "dataset = SketchDataset(training_data, tokenizer, max_len=200)"
   ]
  },
  {
   "cell_type": "code",
   "execution_count": null,
   "id": "a5d81d15",
   "metadata": {},
   "outputs": [],
   "source": [
    "def corrupt_input(input_ids, tokenizer, mask_prob=0.2, dropout_prob=0.05):\n",
    "    mask_token = tokenizer.vocab.get(\"MASK\", None)\n",
    "    pad_token = tokenizer.vocab[\"PAD\"]\n",
    "    assert mask_token is not None, \"Tokenizer must have a [MASK] token\"\n",
    "\n",
    "    batch_size, seq_len = input_ids.shape\n",
    "    device = input_ids.device\n",
    "\n",
    "    rand = torch.rand(batch_size, seq_len, device=device)\n",
    "    mask = (rand < mask_prob) & (input_ids != pad_token)\n",
    "    dropout = (rand < dropout_prob) & (input_ids != pad_token)\n",
    "\n",
    "    # Create masked input\n",
    "    corrupted = input_ids.clone()\n",
    "    corrupted[mask] = mask_token\n",
    "    # Remove some tokens (simulate missing strokes or words)\n",
    "    corrupted[dropout] = pad_token\n",
    "    return corrupted\n",
    "\n",
    "\n",
    "class SketchAutoencoder(nn.Module):\n",
    "    def __init__(self, vocab_size, d_model=256, nhead=8, num_layers=6, max_len=200):\n",
    "        super().__init__()\n",
    "        self.vocab_size = vocab_size\n",
    "        self.d_model = d_model\n",
    "        self.max_len = max_len\n",
    "\n",
    "        self.embed = nn.Embedding(vocab_size, d_model)\n",
    "        self.pos_embed = nn.Embedding(max_len, d_model)\n",
    "\n",
    "        encoder_layer = nn.TransformerEncoderLayer(\n",
    "            d_model=d_model,\n",
    "            nhead=nhead,\n",
    "            dim_feedforward=4 * d_model,\n",
    "            activation=\"gelu\",\n",
    "            batch_first=True,  # much easier shape handling\n",
    "        )\n",
    "        self.encoder = nn.TransformerEncoder(encoder_layer, num_layers=num_layers)\n",
    "        self.norm = nn.LayerNorm(d_model)\n",
    "        self.fc_out = nn.Linear(d_model, vocab_size)\n",
    "\n",
    "    def forward(self, x):\n",
    "        seq_len = x.size(1)\n",
    "        pos = torch.arange(0, seq_len, device=x.device).unsqueeze(0)\n",
    "        x = self.embed(x) + self.pos_embed(pos)\n",
    "        h = self.encoder(x)\n",
    "        h = self.norm(h)\n",
    "        logits = self.fc_out(h)\n",
    "        return logits"
   ]
  },
  {
   "cell_type": "code",
   "execution_count": 21,
   "id": "95801f20",
   "metadata": {},
   "outputs": [
    {
     "name": "stderr",
     "output_type": "stream",
     "text": [
      "Epoch 1/20: 100%|██████████| 805/805 [01:44<00:00,  7.69it/s]\n"
     ]
    },
    {
     "name": "stdout",
     "output_type": "stream",
     "text": [
      "Epoch 1 | DAE Loss: 1.7864\n"
     ]
    },
    {
     "name": "stderr",
     "output_type": "stream",
     "text": [
      "Epoch 2/20: 100%|██████████| 805/805 [01:45<00:00,  7.64it/s]\n"
     ]
    },
    {
     "name": "stdout",
     "output_type": "stream",
     "text": [
      "Epoch 2 | DAE Loss: 1.0907\n"
     ]
    },
    {
     "name": "stderr",
     "output_type": "stream",
     "text": [
      "Epoch 3/20: 100%|██████████| 805/805 [01:45<00:00,  7.64it/s]\n"
     ]
    },
    {
     "name": "stdout",
     "output_type": "stream",
     "text": [
      "Epoch 3 | DAE Loss: 0.9326\n"
     ]
    },
    {
     "name": "stderr",
     "output_type": "stream",
     "text": [
      "Epoch 4/20: 100%|██████████| 805/805 [01:44<00:00,  7.67it/s]\n"
     ]
    },
    {
     "name": "stdout",
     "output_type": "stream",
     "text": [
      "Epoch 4 | DAE Loss: 0.8775\n"
     ]
    },
    {
     "name": "stderr",
     "output_type": "stream",
     "text": [
      "Epoch 5/20: 100%|██████████| 805/805 [01:45<00:00,  7.63it/s]\n"
     ]
    },
    {
     "name": "stdout",
     "output_type": "stream",
     "text": [
      "Epoch 5 | DAE Loss: 0.8460\n"
     ]
    },
    {
     "name": "stderr",
     "output_type": "stream",
     "text": [
      "Epoch 6/20: 100%|██████████| 805/805 [01:45<00:00,  7.62it/s]\n"
     ]
    },
    {
     "name": "stdout",
     "output_type": "stream",
     "text": [
      "Epoch 6 | DAE Loss: 0.8257\n"
     ]
    },
    {
     "name": "stderr",
     "output_type": "stream",
     "text": [
      "Epoch 7/20: 100%|██████████| 805/805 [01:45<00:00,  7.61it/s]\n"
     ]
    },
    {
     "name": "stdout",
     "output_type": "stream",
     "text": [
      "Epoch 7 | DAE Loss: 0.8086\n"
     ]
    },
    {
     "name": "stderr",
     "output_type": "stream",
     "text": [
      "Epoch 8/20: 100%|██████████| 805/805 [01:45<00:00,  7.63it/s]\n"
     ]
    },
    {
     "name": "stdout",
     "output_type": "stream",
     "text": [
      "Epoch 8 | DAE Loss: 0.7967\n"
     ]
    },
    {
     "name": "stderr",
     "output_type": "stream",
     "text": [
      "Epoch 9/20: 100%|██████████| 805/805 [01:45<00:00,  7.63it/s]\n"
     ]
    },
    {
     "name": "stdout",
     "output_type": "stream",
     "text": [
      "Epoch 9 | DAE Loss: 0.7867\n"
     ]
    },
    {
     "name": "stderr",
     "output_type": "stream",
     "text": [
      "Epoch 10/20:   6%|▋         | 51/805 [00:06<01:40,  7.48it/s]\n"
     ]
    },
    {
     "ename": "KeyboardInterrupt",
     "evalue": "",
     "output_type": "error",
     "traceback": [
      "\u001b[31m---------------------------------------------------------------------------\u001b[39m",
      "\u001b[31mKeyboardInterrupt\u001b[39m                         Traceback (most recent call last)",
      "\u001b[36mCell\u001b[39m\u001b[36m \u001b[39m\u001b[32mIn[21]\u001b[39m\u001b[32m, line 34\u001b[39m\n\u001b[32m     29\u001b[39m dataloader = DataLoader(dataset, batch_size=\u001b[32m128\u001b[39m, shuffle=\u001b[38;5;28;01mTrue\u001b[39;00m, pin_memory=\u001b[38;5;28;01mTrue\u001b[39;00m)\n\u001b[32m     30\u001b[39m model = SketchAutoencoder(\n\u001b[32m     31\u001b[39m     vocab_size=\u001b[38;5;28mlen\u001b[39m(tokenizer.vocab), d_model=\u001b[32m256\u001b[39m, nhead=\u001b[32m8\u001b[39m, num_layers=\u001b[32m6\u001b[39m\n\u001b[32m     32\u001b[39m )\n\u001b[32m---> \u001b[39m\u001b[32m34\u001b[39m \u001b[43mtrain_denoising_autoencoder\u001b[49m\u001b[43m(\u001b[49m\n\u001b[32m     35\u001b[39m \u001b[43m    \u001b[49m\u001b[43mmodel\u001b[49m\u001b[43m,\u001b[49m\u001b[43m \u001b[49m\u001b[43mdataloader\u001b[49m\u001b[43m,\u001b[49m\u001b[43m \u001b[49m\u001b[43mtokenizer\u001b[49m\u001b[43m,\u001b[49m\u001b[43m \u001b[49m\u001b[43mepochs\u001b[49m\u001b[43m=\u001b[49m\u001b[32;43m20\u001b[39;49m\u001b[43m,\u001b[49m\u001b[43m \u001b[49m\u001b[43mlr\u001b[49m\u001b[43m=\u001b[49m\u001b[32;43m1e-3\u001b[39;49m\u001b[43m,\u001b[49m\u001b[43m \u001b[49m\u001b[43mdevice\u001b[49m\u001b[43m=\u001b[49m\u001b[43mdevice\u001b[49m\n\u001b[32m     36\u001b[39m \u001b[43m)\u001b[49m\n",
      "\u001b[36mCell\u001b[39m\u001b[36m \u001b[39m\u001b[32mIn[21]\u001b[39m\u001b[32m, line 24\u001b[39m, in \u001b[36mtrain_denoising_autoencoder\u001b[39m\u001b[34m(model, dataloader, tokenizer, epochs, lr, device)\u001b[39m\n\u001b[32m     22\u001b[39m     loss.backward()\n\u001b[32m     23\u001b[39m     optimizer.step()\n\u001b[32m---> \u001b[39m\u001b[32m24\u001b[39m     total_loss += \u001b[43mloss\u001b[49m\u001b[43m.\u001b[49m\u001b[43mitem\u001b[49m\u001b[43m(\u001b[49m\u001b[43m)\u001b[49m\n\u001b[32m     26\u001b[39m \u001b[38;5;28mprint\u001b[39m(\u001b[33mf\u001b[39m\u001b[33m\"\u001b[39m\u001b[33mEpoch \u001b[39m\u001b[38;5;132;01m{\u001b[39;00mepoch+\u001b[32m1\u001b[39m\u001b[38;5;132;01m}\u001b[39;00m\u001b[33m | DAE Loss: \u001b[39m\u001b[38;5;132;01m{\u001b[39;00mtotal_loss\u001b[38;5;250m \u001b[39m/\u001b[38;5;250m \u001b[39m\u001b[38;5;28mlen\u001b[39m(dataloader)\u001b[38;5;132;01m:\u001b[39;00m\u001b[33m.4f\u001b[39m\u001b[38;5;132;01m}\u001b[39;00m\u001b[33m\"\u001b[39m)\n",
      "\u001b[31mKeyboardInterrupt\u001b[39m: "
     ]
    }
   ],
   "source": [
    "def train_denoising_autoencoder(\n",
    "    model, dataloader, tokenizer, epochs=10, lr=1e-4, device=\"cuda\"\n",
    "):\n",
    "    model = model.to(device)\n",
    "    optimizer = torch.optim.AdamW(model.parameters(), lr=lr)\n",
    "    pad_token_id = tokenizer.vocab[\"PAD\"]\n",
    "    criterion = nn.CrossEntropyLoss(ignore_index=pad_token_id)\n",
    "    vocab_size = len(tokenizer.vocab)\n",
    "\n",
    "    for epoch in range(epochs):\n",
    "        model.train()\n",
    "        total_loss = 0\n",
    "\n",
    "        for clean_ids in tqdm(dataloader, desc=f\"Epoch {epoch+1}/{epochs}\"):\n",
    "            clean_ids = clean_ids.to(device)\n",
    "            noisy_ids = corrupt_input(clean_ids, tokenizer)\n",
    "\n",
    "            logits = model(noisy_ids)\n",
    "            loss = criterion(logits.view(-1, vocab_size), clean_ids.view(-1))\n",
    "\n",
    "            optimizer.zero_grad()\n",
    "            loss.backward()\n",
    "            optimizer.step()\n",
    "            total_loss += loss.item()\n",
    "\n",
    "        print(f\"Epoch {epoch+1} | DAE Loss: {total_loss / len(dataloader):.4f}\")\n",
    "\n",
    "\n",
    "dataloader = DataLoader(dataset, batch_size=128, shuffle=True, pin_memory=True)\n",
    "model = SketchAutoencoder(\n",
    "    vocab_size=len(tokenizer.vocab), d_model=256, nhead=8, num_layers=6\n",
    ")\n",
    "\n",
    "train_denoising_autoencoder(\n",
    "    model, dataloader, tokenizer, epochs=20, lr=1e-3, device=device\n",
    ")"
   ]
  },
  {
   "cell_type": "code",
   "execution_count": 22,
   "id": "803f714f",
   "metadata": {},
   "outputs": [],
   "source": [
    "torch.save(model, \"sketch_dae_model_cat.pth\")"
   ]
  },
  {
   "cell_type": "code",
   "execution_count": 67,
   "id": "fa6ae5fc",
   "metadata": {},
   "outputs": [
    {
     "data": {
      "text/html": [
       "<div style=\"display:inline-block; width: 150px; background-color: white; margin-right:10px;\"><b>Original</b><br><svg viewBox=\"0 0 64 64\"><g stroke-width=\"0.8\">\n",
       "<path d=\"M 32 18 L 28 10 L 24 7 L 27 19 L 19 20 L 16 22 L 14 25 L 12 30 L 12 33 L 13 37 L 15 41 L 21 45 L 33 47 L 38 46 L 42 44 L 50 37 L 53 32 L 53 28 L 53 25 L 51 22 L 46 19 L 43 0 L 40 8 L 39 16 L 32 17\" stroke=\"black\" fill=\"none\"/>\n",
       "<path d=\"M 19 33 L 7 32 L 2 32\" stroke=\"black\" fill=\"none\"/>\n",
       "<path d=\"M 19 39 L 6 40 L 0 43\" stroke=\"black\" fill=\"none\"/>\n",
       "<path d=\"M 21 43 L 13 47 L 9 50\" stroke=\"black\" fill=\"none\"/>\n",
       "<path d=\"M 43 33 L 54 32 L 61 33 L 62 34\" stroke=\"black\" fill=\"none\"/>\n",
       "<path d=\"M 43 36 L 63 41\" stroke=\"black\" fill=\"none\"/>\n",
       "<path d=\"M 42 40 L 51 49 L 53 52\" stroke=\"black\" fill=\"none\"/>\n",
       "<path d=\"M 32 32 L 27 33 L 27 34 L 27 35 L 32 36 L 34 35 L 34 33 L 29 32\" stroke=\"black\" fill=\"none\"/>\n",
       "<path d=\"M 26 24 L 26 28\" stroke=\"black\" fill=\"none\"/>\n",
       "</g></svg></div><div style=\"display:inline-block; width: 150px; background-color: white; margin-right:10px;\"><b>Generated</b><br><svg viewBox=\"0 0 64 64\"><g stroke-width=\"0.8\">\n",
       "<path d=\"M 32 18 L 28 10 L 24 7 L 27 19 L 19 20 L 17 22 L 14 25 L 12 30 L 12 33 L 13 37 L 15 41 L 21 45 L 33 47 L 38 45 L 42 44 L 50 37 L 53 32 L 53 28 L 51 25 L 51 22 L 46 19 L 43 0 L 40 8 L 39 16 L 32 17\" stroke=\"black\" fill=\"none\"/>\n",
       "<path d=\"M 19 33 L 7 32 L 2 32\" stroke=\"black\" fill=\"none\"/>\n",
       "<path d=\"M 19 39 L 6 40 L 0 45\" stroke=\"black\" fill=\"none\"/>\n",
       "<path d=\"M 21 43 L 13 47 L 9 50\" stroke=\"black\" fill=\"none\"/>\n",
       "<path d=\"M 43 33 L 54 32 L 61 33 L 62 34\" stroke=\"black\" fill=\"none\"/>\n",
       "<path d=\"M 45 37 L 63 41\" stroke=\"black\" fill=\"none\"/>\n",
       "<path d=\"M 43 40 L 51 49 L 53 52\" stroke=\"black\" fill=\"none\"/>\n",
       "<path d=\"M 28 32 L 27 33 L 27 34 L 30 34\" stroke=\"black\" fill=\"none\"/>\n",
       "<path d=\"M 31 32 L 29 32\" stroke=\"black\" fill=\"none\"/>\n",
       "<path d=\"M 26 24 L 26 28\" stroke=\"black\" fill=\"none\"/>\n",
       "</g></svg></div><div style=\"display:inline-block; width: 150px; background-color: white; margin-right:10px;\"><b>Generated</b><br><svg viewBox=\"0 0 64 64\"><g stroke-width=\"0.8\">\n",
       "<path d=\"M 32 18 L 28 10 L 28 13 L 27 19 L 19 20 L 16 22 L 14 25 L 12 30 L 12 33 L 13 37 L 15 41 L 21 45 L 30 47 L 38 46 L 42 44 L 50 37 L 53 32 L 53 28 L 51 25 L 51 22 L 47 16 L 43 0 L 43 1 L 39 16 L 32 17\" stroke=\"black\" fill=\"none\"/>\n",
       "<path d=\"M 19 33 L 7 32 L 2 32\" stroke=\"black\" fill=\"none\"/>\n",
       "<path d=\"M 20 37 L 6 40 L 0 43\" stroke=\"black\" fill=\"none\"/>\n",
       "<path d=\"M 21 43 L 13 47 L 9 50\" stroke=\"black\" fill=\"none\"/>\n",
       "<path d=\"M 43 33 L 54 32 L 61 33 L 62 34\" stroke=\"black\" fill=\"none\"/>\n",
       "<path d=\"M 43 36 L 63 39\" stroke=\"black\" fill=\"none\"/>\n",
       "<path d=\"M 42 40 L 51 49 L 53 52\" stroke=\"black\" fill=\"none\"/>\n",
       "<path d=\"M 32 32 L 27 33 L 27 34 L 27 35 L 32 36 L 34 35 L 34 33 L 29 32\" stroke=\"black\" fill=\"none\"/>\n",
       "<path d=\"M 26 24 L 26 28\" stroke=\"black\" fill=\"none\"/>\n",
       "</g></svg></div><div style=\"display:inline-block; width: 150px; background-color: white; margin-right:10px;\"><b>Generated</b><br><svg viewBox=\"0 0 64 64\"><g stroke-width=\"0.8\">\n",
       "<path d=\"M 32 18 L 28 10 L 24 7 L 27 19 L 19 20 L 17 22 L 14 25 L 12 30 L 12 33 L 12 36 L 15 41 L 21 45 L 30 47 L 38 46 L 42 44 L 50 37 L 53 32 L 52 29 L 53 25 L 49 22 L 46 19 L 43 0 L 40 8 L 39 16 L 32 17\" stroke=\"black\" fill=\"none\"/>\n",
       "<path d=\"M 19 33 L 7 32 L 0 34\" stroke=\"black\" fill=\"none\"/>\n",
       "<path d=\"M 18 37 L 6 40 L 0 43\" stroke=\"black\" fill=\"none\"/>\n",
       "<path d=\"M 21 43 L 13 47 L 9 50\" stroke=\"black\" fill=\"none\"/>\n",
       "<path d=\"M 43 32 L 47 29 L 47 34 L 62 34\" stroke=\"black\" fill=\"none\"/>\n",
       "<path d=\"M 43 36 L 63 41\" stroke=\"black\" fill=\"none\"/>\n",
       "<path d=\"M 42 40 L 48 47 L 53 52\" stroke=\"black\" fill=\"none\"/>\n",
       "<path d=\"M 28 34 L 27 33 L 27 35 L 27 35 L 31 36 L 34 35 L 34 33 L 36 32\" stroke=\"black\" fill=\"none\"/>\n",
       "<path d=\"M 26 24 L 26 28\" stroke=\"black\" fill=\"none\"/>\n",
       "</g></svg></div><div style=\"display:inline-block; width: 150px; background-color: white; margin-right:10px;\"><b>Generated</b><br><svg viewBox=\"0 0 64 64\"><g stroke-width=\"0.8\">\n",
       "<path d=\"M 35 16 L 28 10 L 24 7 L 19 0 L 20 16 L 16 22 L 14 25 L 12 30 L 12 33 L 13 37 L 15 41 L 21 45 L 33 47 L 38 45 L 42 44 L 50 37 L 53 32 L 53 28 L 53 25 L 49 21 L 46 19 L 46 0 L 40 8 L 39 16 L 32 17\" stroke=\"black\" fill=\"none\"/>\n",
       "<path d=\"M 16 32 L 7 32 L 2 32\" stroke=\"black\" fill=\"none\"/>\n",
       "<path d=\"M 16 36 L 6 40 L 0 43\" stroke=\"black\" fill=\"none\"/>\n",
       "<path d=\"M 21 43 L 13 47 L 9 50\" stroke=\"black\" fill=\"none\"/>\n",
       "<path d=\"M 43 32 L 54 32 L 61 33 L 62 34\" stroke=\"black\" fill=\"none\"/>\n",
       "<path d=\"M 43 36 L 63 41\" stroke=\"black\" fill=\"none\"/>\n",
       "<path d=\"M 42 40 L 51 49 L 53 52\" stroke=\"black\" fill=\"none\"/>\n",
       "<path d=\"M 32 32 L 32 32\" stroke=\"black\" fill=\"none\"/>\n",
       "<path d=\"M 27 35 L 32 36 L 34 35 L 34 33 L 29 32\" stroke=\"black\" fill=\"none\"/>\n",
       "<path d=\"M 26 24 L 26 28\" stroke=\"black\" fill=\"none\"/>\n",
       "</g></svg></div><div style=\"display:inline-block; width: 150px; background-color: white; margin-right:10px;\"><b>Generated</b><br><svg viewBox=\"0 0 64 64\"><g stroke-width=\"0.8\">\n",
       "<path d=\"M 35 16 L 28 10 L 24 7 L 27 19 L 21 19 L 16 22 L 13 26 L 12 30 L 12 33 L 13 37 L 15 41 L 21 45 L 30 47 L 38 46 L 45 42 L 49 39 L 53 32 L 53 28 L 53 25 L 51 22 L 46 19 L 46 0 L 40 8 L 39 16 L 32 17\" stroke=\"black\" fill=\"none\"/>\n",
       "<path d=\"M 19 33 L 7 32 L 2 32\" stroke=\"black\" fill=\"none\"/>\n",
       "<path d=\"M 19 39 L 6 40 L 0 43\" stroke=\"black\" fill=\"none\"/>\n",
       "<path d=\"M 21 43 L 13 47 L 9 50\" stroke=\"black\" fill=\"none\"/>\n",
       "<path d=\"M 43 33 L 52 34 L 61 33 L 62 34\" stroke=\"black\" fill=\"none\"/>\n",
       "<path d=\"M 43 36 L 63 41\" stroke=\"black\" fill=\"none\"/>\n",
       "<path d=\"M 42 40 L 51 49 L 53 52\" stroke=\"black\" fill=\"none\"/>\n",
       "<path d=\"M 32 32 L 27 33 L 27 34 L 27 35 L 32 36 L 34 35 L 35 32 L 32 32\" stroke=\"black\" fill=\"none\"/>\n",
       "<path d=\"M 26 24 L 26 28\" stroke=\"black\" fill=\"none\"/>\n",
       "</g></svg></div>"
      ],
      "text/plain": [
       "<IPython.core.display.HTML object>"
      ]
     },
     "metadata": {},
     "output_type": "display_data"
    },
    {
     "data": {
      "text/html": [
       "<div style=\"display:inline-block; width: 150px; background-color: white; margin-right:10px;\"><b>Original</b><br><svg viewBox=\"0 0 64 64\"><g stroke-width=\"0.8\">\n",
       "<path d=\"M 55 8 L 48 8 L 43 11 L 43 15 L 44 18 L 47 19 L 57 19 L 62 17 L 63 13 L 62 9 L 57 7 L 54 7\" stroke=\"black\" fill=\"none\"/>\n",
       "<path d=\"M 43 10 L 49 0 L 50 6\" stroke=\"black\" fill=\"none\"/>\n",
       "<path d=\"M 54 7 L 59 3 L 61 1 L 62 4 L 62 11\" stroke=\"black\" fill=\"none\"/>\n",
       "<path d=\"M 47 11 L 46 11 L 47 12 L 49 13 L 50 11 L 49 10\" stroke=\"black\" fill=\"none\"/>\n",
       "<path d=\"M 57 11 L 56 12 L 57 13 L 59 13 L 60 11 L 57 11\" stroke=\"black\" fill=\"none\"/>\n",
       "<path d=\"M 50 16 L 51 17 L 52 17 L 54 15 L 56 17 L 58 15\" stroke=\"black\" fill=\"none\"/>\n",
       "<path d=\"M 41 10 L 25 12 L 18 15 L 13 20 L 13 25 L 15 27 L 17 27 L 32 27 L 44 20 L 48 16 L 49 15 L 48 15\" stroke=\"black\" fill=\"none\"/>\n",
       "<path d=\"M 14 19 L 4 25 L 0 32 L 1 34 L 6 34 L 7 25 L 10 22 L 14 21\" stroke=\"black\" fill=\"none\"/>\n",
       "<path d=\"M 18 26 L 18 34 L 19 35 L 21 36 L 23 36 L 24 34 L 24 26\" stroke=\"black\" fill=\"none\"/>\n",
       "<path d=\"M 40 23 L 42 32 L 42 33 L 44 32 L 45 30 L 45 26 L 43 23 L 43 20\" stroke=\"black\" fill=\"none\"/>\n",
       "</g></svg></div><div style=\"display:inline-block; width: 150px; background-color: white; margin-right:10px;\"><b>Generated</b><br><svg viewBox=\"0 0 64 64\"><g stroke-width=\"0.8\">\n",
       "<path d=\"M 55 8 L 51 9 L 46 10 L 43 15 L 44 18 L 47 19 L 56 20 L 62 17 L 63 13 L 62 9 L 58 10 L 54 7\" stroke=\"black\" fill=\"none\"/>\n",
       "<path d=\"M 43 10 L 49 0 L 50 6\" stroke=\"black\" fill=\"none\"/>\n",
       "<path d=\"M 54 7 L 59 3 L 61 1 L 62 4 L 62 11\" stroke=\"black\" fill=\"none\"/>\n",
       "<path d=\"M 47 11 L 46 11 L 47 12 L 49 13 L 50 11 L 49 10\" stroke=\"black\" fill=\"none\"/>\n",
       "<path d=\"M 51 13 L 53 14 L 57 13 L 59 13 L 60 11 L 57 11\" stroke=\"black\" fill=\"none\"/>\n",
       "<path d=\"M 50 16 L 51 17 L 52 17 L 54 18 L 56 17 L 58 15\" stroke=\"black\" fill=\"none\"/>\n",
       "<path d=\"M 41 10 L 32 11 L 18 15 L 13 20 L 13 25 L 16 27 L 17 27 L 28 27 L 44 20 L 48 16 L 49 15 L 48 15\" stroke=\"black\" fill=\"none\"/>\n",
       "<path d=\"M 14 19 L 4 25 L 0 32 L 0 34 L 6 34 L 7 25 L 10 22 L 13 20\" stroke=\"black\" fill=\"none\"/>\n",
       "<path d=\"M 18 28 L 18 34 L 19 35 L 21 36 L 23 36 L 24 34 L 25 27\" stroke=\"black\" fill=\"none\"/>\n",
       "<path d=\"M 40 23 L 41 28\" stroke=\"black\" fill=\"none\"/>\n",
       "<path d=\"M 45 28 L 45 30\" stroke=\"black\" fill=\"none\"/>\n",
       "<path d=\"M 43 23 L 43 20\" stroke=\"black\" fill=\"none\"/>\n",
       "</g></svg></div><div style=\"display:inline-block; width: 150px; background-color: white; margin-right:10px;\"><b>Generated</b><br><svg viewBox=\"0 0 64 64\"><g stroke-width=\"0.8\">\n",
       "<path d=\"M 55 8 L 48 8 L 44 11 L 43 15 L 44 18 L 47 19 L 57 19 L 62 17 L 63 13 L 62 9 L 57 7 L 54 7\" stroke=\"black\" fill=\"none\"/>\n",
       "<path d=\"M 43 10 L 49 0 L 50 6\" stroke=\"black\" fill=\"none\"/>\n",
       "<path d=\"M 54 7 L 59 3 L 61 1 L 62 4 L 61 9\" stroke=\"black\" fill=\"none\"/>\n",
       "<path d=\"M 51 13 L 51 13\" stroke=\"black\" fill=\"none\"/>\n",
       "<path d=\"M 49 13 L 47 12 L 51 13\" stroke=\"black\" fill=\"none\"/>\n",
       "<path d=\"M 53 14 L 56 12\" stroke=\"black\" fill=\"none\"/>\n",
       "<path d=\"M 60 11 L 57 11\" stroke=\"black\" fill=\"none\"/>\n",
       "<path d=\"M 50 16 L 51 17 L 52 17 L 54 15 L 56 17 L 58 15\" stroke=\"black\" fill=\"none\"/>\n",
       "<path d=\"M 41 10 L 25 12 L 17 15 L 14 18 L 13 25 L 15 27 L 17 27 L 32 27 L 44 20 L 48 16 L 49 15 L 48 15\" stroke=\"black\" fill=\"none\"/>\n",
       "<path d=\"M 14 19 L 4 25 L 0 32 L 1 34 L 6 34 L 7 25 L 10 22 L 14 21\" stroke=\"black\" fill=\"none\"/>\n",
       "<path d=\"M 18 26 L 18 34 L 18 35 L 21 36 L 23 36 L 24 34 L 24 26\" stroke=\"black\" fill=\"none\"/>\n",
       "<path d=\"M 40 23 L 42 32 L 42 33 L 44 32 L 45 30 L 45 26 L 43 23 L 43 20\" stroke=\"black\" fill=\"none\"/>\n",
       "</g></svg></div><div style=\"display:inline-block; width: 150px; background-color: white; margin-right:10px;\"><b>Generated</b><br><svg viewBox=\"0 0 64 64\"><g stroke-width=\"0.8\">\n",
       "<path d=\"M 52 7 L 48 8 L 43 11 L 42 15 L 44 18 L 47 19 L 57 19 L 62 18 L 63 16 L 62 9 L 57 7 L 54 7\" stroke=\"black\" fill=\"none\"/>\n",
       "<path d=\"M 43 10 L 49 0 L 50 6\" stroke=\"black\" fill=\"none\"/>\n",
       "<path d=\"M 54 7 L 57 4 L 61 1 L 62 4 L 62 11\" stroke=\"black\" fill=\"none\"/>\n",
       "<path d=\"M 47 11 L 46 11 L 47 12\" stroke=\"black\" fill=\"none\"/>\n",
       "<path d=\"M 50 11 L 51 12\" stroke=\"black\" fill=\"none\"/>\n",
       "<path d=\"M 57 11 L 56 12 L 57 13 L 59 13 L 60 11 L 57 11\" stroke=\"black\" fill=\"none\"/>\n",
       "<path d=\"M 50 16 L 48 17 L 52 17 L 54 15 L 56 17 L 58 15\" stroke=\"black\" fill=\"none\"/>\n",
       "<path d=\"M 41 10 L 25 12 L 15 16 L 13 20 L 13 25 L 17 26 L 22 28 L 32 27 L 44 20 L 48 16 L 49 15 L 48 15\" stroke=\"black\" fill=\"none\"/>\n",
       "<path d=\"M 4 25 L 0 32 L 1 34 L 6 34\" stroke=\"black\" fill=\"none\"/>\n",
       "<path d=\"M 10 22 L 13 22\" stroke=\"black\" fill=\"none\"/>\n",
       "<path d=\"M 18 26 L 17 32 L 19 35 L 21 36 L 23 36 L 24 34 L 24 26\" stroke=\"black\" fill=\"none\"/>\n",
       "<path d=\"M 41 28 L 42 32 L 42 33 L 44 32 L 45 30 L 47 25\" stroke=\"black\" fill=\"none\"/>\n",
       "<path d=\"M 43 20\" stroke=\"black\" fill=\"none\"/>\n",
       "</g></svg></div><div style=\"display:inline-block; width: 150px; background-color: white; margin-right:10px;\"><b>Generated</b><br><svg viewBox=\"0 0 64 64\"><g stroke-width=\"0.8\">\n",
       "<path d=\"M 55 8 L 48 8 L 43 11 L 43 15 L 44 18 L 47 19 L 57 19 L 62 17 L 63 13 L 62 9 L 57 7 L 54 7\" stroke=\"black\" fill=\"none\"/>\n",
       "<path d=\"M 43 10 L 49 0 L 50 6\" stroke=\"black\" fill=\"none\"/>\n",
       "<path d=\"M 54 7 L 59 3 L 61 1 L 61 3 L 62 11\" stroke=\"black\" fill=\"none\"/>\n",
       "<path d=\"M 47 11 L 46 11 L 47 12 L 49 13 L 50 11 L 51 12\" stroke=\"black\" fill=\"none\"/>\n",
       "<path d=\"M 57 11 L 56 12 L 57 13 L 59 13 L 60 11 L 57 11\" stroke=\"black\" fill=\"none\"/>\n",
       "<path d=\"M 49 16 L 51 17 L 52 17\" stroke=\"black\" fill=\"none\"/>\n",
       "<path d=\"M 56 17 L 58 15\" stroke=\"black\" fill=\"none\"/>\n",
       "<path d=\"M 41 10 L 35 12 L 18 15 L 13 20 L 13 25 L 15 27 L 17 27 L 23 27\" stroke=\"black\" fill=\"none\"/>\n",
       "<path d=\"M 16 20 L 41 20\" stroke=\"black\" fill=\"none\"/>\n",
       "<path d=\"M 8 21 L 4 25 L 0 32 L 1 34 L 6 34 L 7 25 L 10 22 L 14 21\" stroke=\"black\" fill=\"none\"/>\n",
       "<path d=\"M 18 26 L 18 34 L 19 35 L 21 36 L 23 36 L 25 32 L 24 26\" stroke=\"black\" fill=\"none\"/>\n",
       "<path d=\"M 40 23 L 42 32 L 45 33 L 45 30 L 45 30\" stroke=\"black\" fill=\"none\"/>\n",
       "<path d=\"M 43 23 L 43 20\" stroke=\"black\" fill=\"none\"/>\n",
       "</g></svg></div><div style=\"display:inline-block; width: 150px; background-color: white; margin-right:10px;\"><b>Generated</b><br><svg viewBox=\"0 0 64 64\"><g stroke-width=\"0.8\">\n",
       "<path d=\"M 52 7 L 48 8 L 43 11 L 43 15 L 43 18 L 47 19 L 57 19 L 62 17 L 63 16 L 62 9 L 57 7 L 52 7\" stroke=\"black\" fill=\"none\"/>\n",
       "<path d=\"M 43 10 L 49 0 L 50 6\" stroke=\"black\" fill=\"none\"/>\n",
       "<path d=\"M 54 7 L 59 3 L 61 1 L 62 4 L 62 11\" stroke=\"black\" fill=\"none\"/>\n",
       "<path d=\"M 49 13 L 50 11 L 49 10\" stroke=\"black\" fill=\"none\"/>\n",
       "<path d=\"M 57 11 L 56 12 L 57 13 L 59 13 L 60 11 L 57 11\" stroke=\"black\" fill=\"none\"/>\n",
       "<path d=\"M 50 16 L 48 17 L 52 17 L 54 15 L 56 17 L 58 15\" stroke=\"black\" fill=\"none\"/>\n",
       "<path d=\"M 43 16 L 41 15 L 18 15 L 13 20 L 13 24 L 15 27 L 17 27 L 32 27 L 44 20 L 48 16 L 49 15 L 48 15\" stroke=\"black\" fill=\"none\"/>\n",
       "<path d=\"M 8 22 L 4 25 L 0 32 L 1 34 L 6 34 L 7 25 L 11 23 L 14 21 L 16 22 L 18 26 L 18 34 L 19 35 L 21 36 L 23 36 L 24 34 L 24 26\" stroke=\"black\" fill=\"none\"/>\n",
       "<path d=\"M 40 23 L 41 28 L 42 33 L 44 32 L 45 30 L 45 26 L 43 23 L 43 20\" stroke=\"black\" fill=\"none\"/>\n",
       "</g></svg></div>"
      ],
      "text/plain": [
       "<IPython.core.display.HTML object>"
      ]
     },
     "metadata": {},
     "output_type": "display_data"
    },
    {
     "data": {
      "text/html": [
       "<div style=\"display:inline-block; width: 150px; background-color: white; margin-right:10px;\"><b>Original</b><br><svg viewBox=\"0 0 64 64\"><g stroke-width=\"0.8\">\n",
       "<path d=\"M 16 16 L 17 16 L 18 18 L 17 18 L 17 16 L 16 17 L 16 16\" stroke=\"black\" fill=\"none\"/>\n",
       "<path d=\"M 26 16 L 31 15 L 31 16 L 27 17 L 26 16 L 27 15 L 29 16 L 29 17 L 29 16 L 29 16\" stroke=\"black\" fill=\"none\"/>\n",
       "<path d=\"M 19 27 L 21 31 L 24 32 L 28 30 L 28 29 L 23 27 L 19 27\" stroke=\"black\" fill=\"none\"/>\n",
       "<path d=\"M 21 28 L 22 30\" stroke=\"black\" fill=\"none\"/>\n",
       "<path d=\"M 25 29 L 25 29\" stroke=\"black\" fill=\"none\"/>\n",
       "<path d=\"M 17 38 L 23 41 L 27 43 L 30 42 L 34 40\" stroke=\"black\" fill=\"none\"/>\n",
       "<path d=\"M 34 34 L 56 25 L 63 21\" stroke=\"black\" fill=\"none\"/>\n",
       "<path d=\"M 40 36 L 57 35\" stroke=\"black\" fill=\"none\"/>\n",
       "<path d=\"M 35 30 L 47 25 L 50 23 L 52 21\" stroke=\"black\" fill=\"none\"/>\n",
       "<path d=\"M 12 30 L 5 24\" stroke=\"black\" fill=\"none\"/>\n",
       "<path d=\"M 16 30 L 8 22\" stroke=\"black\" fill=\"none\"/>\n",
       "<path d=\"M 16 31 L 0 35\" stroke=\"black\" fill=\"none\"/>\n",
       "<path d=\"M 21 9 L 11 12 L 7 16 L 5 20 L 5 30 L 6 35 L 12 44 L 17 47 L 24 49 L 31 48 L 38 40 L 38 36 L 37 26 L 35 22 L 23 10 L 16 6\" stroke=\"black\" fill=\"none\"/>\n",
       "<path d=\"M 5 15 L 2 8 L 1 4 L 2 0 L 5 0 L 11 3 L 15 9\" stroke=\"black\" fill=\"none\"/>\n",
       "<path d=\"M 33 13 L 37 13 L 57 11 L 56 13\" stroke=\"black\" fill=\"none\"/>\n",
       "</g></svg></div><div style=\"display:inline-block; width: 150px; background-color: white; margin-right:10px;\"><b>Generated</b><br><svg viewBox=\"0 0 64 64\"><g stroke-width=\"0.8\">\n",
       "<path d=\"M 23 17 L 20 19 L 18 18 L 17 18 L 16 16 L 16 17 L 16 16\" stroke=\"black\" fill=\"none\"/>\n",
       "<path d=\"M 26 16 L 31 15 L 31 16 L 27 17 L 26 16 L 27 15 L 29 16 L 30 15 L 29 16 L 29 16\" stroke=\"black\" fill=\"none\"/>\n",
       "<path d=\"M 19 27 L 21 31 L 24 32 L 28 30 L 28 29 L 23 27 L 19 27\" stroke=\"black\" fill=\"none\"/>\n",
       "<path d=\"M 21 28 L 22 30\" stroke=\"black\" fill=\"none\"/>\n",
       "<path d=\"M 24 27 L 25 29\" stroke=\"black\" fill=\"none\"/>\n",
       "<path d=\"M 17 38 L 23 41 L 25 41 L 30 42 L 34 40\" stroke=\"black\" fill=\"none\"/>\n",
       "<path d=\"M 34 34 L 56 25 L 63 21\" stroke=\"black\" fill=\"none\"/>\n",
       "<path d=\"M 40 36 L 57 35\" stroke=\"black\" fill=\"none\"/>\n",
       "<path d=\"M 40 29 L 47 25 L 49 22 L 52 21\" stroke=\"black\" fill=\"none\"/>\n",
       "<path d=\"M 12 30 L 5 24\" stroke=\"black\" fill=\"none\"/>\n",
       "<path d=\"M 13 27 L 8 22\" stroke=\"black\" fill=\"none\"/>\n",
       "<path d=\"M 16 31 L 0 35\" stroke=\"black\" fill=\"none\"/>\n",
       "<path d=\"M 9 13 L 8 14 L 7 16 L 5 20 L 5 30 L 8 38 L 12 44 L 16 47 L 24 49 L 31 48 L 38 40 L 40 34 L 37 26 L 35 22 L 23 10 L 16 6\" stroke=\"black\" fill=\"none\"/>\n",
       "<path d=\"M 5 15\" stroke=\"black\" fill=\"none\"/>\n",
       "<path d=\"M 4 3 L 2 0 L 5 0 L 8 2 L 16 7\" stroke=\"black\" fill=\"none\"/>\n",
       "<path d=\"M 33 13 L 37 13 L 57 11 L 56 13\" stroke=\"black\" fill=\"none\"/>\n",
       "</g></svg></div><div style=\"display:inline-block; width: 150px; background-color: white; margin-right:10px;\"><b>Generated</b><br><svg viewBox=\"0 0 64 64\"><g stroke-width=\"0.8\">\n",
       "<path d=\"M 16 16 L 17 16 L 18 18 L 17 18\" stroke=\"black\" fill=\"none\"/>\n",
       "<path d=\"M 16 17 L 16 16\" stroke=\"black\" fill=\"none\"/>\n",
       "<path d=\"M 26 16 L 31 15 L 31 16\" stroke=\"black\" fill=\"none\"/>\n",
       "<path d=\"M 26 16 L 27 15 L 29 16 L 29 17 L 29 16 L 29 16\" stroke=\"black\" fill=\"none\"/>\n",
       "<path d=\"M 19 27 L 21 31 L 24 32 L 28 30 L 28 29 L 23 27\" stroke=\"black\" fill=\"none\"/>\n",
       "<path d=\"M 21 28 L 22 30\" stroke=\"black\" fill=\"none\"/>\n",
       "<path d=\"M 25 29 L 25 29\" stroke=\"black\" fill=\"none\"/>\n",
       "<path d=\"M 22 31 L 23 41 L 25 41 L 30 42 L 32 39\" stroke=\"black\" fill=\"none\"/>\n",
       "<path d=\"M 32 28 L 56 25 L 63 27\" stroke=\"black\" fill=\"none\"/>\n",
       "<path d=\"M 40 36 L 57 35\" stroke=\"black\" fill=\"none\"/>\n",
       "<path d=\"M 35 30 L 47 25 L 50 23 L 52 21\" stroke=\"black\" fill=\"none\"/>\n",
       "<path d=\"M 12 30 L 5 32\" stroke=\"black\" fill=\"none\"/>\n",
       "<path d=\"M 16 30 L 5 32\" stroke=\"black\" fill=\"none\"/>\n",
       "<path d=\"M 16 31 L 0 35\" stroke=\"black\" fill=\"none\"/>\n",
       "<path d=\"M 21 9 L 11 12 L 9 14 L 5 20 L 5 30 L 6 35 L 12 44 L 17 47 L 24 49 L 29 48 L 36 41 L 38 36 L 37 26 L 35 22 L 23 10 L 22 11\" stroke=\"black\" fill=\"none\"/>\n",
       "<path d=\"M 5 15 L 2 8 L 1 4 L 2 0 L 5 0 L 11 3 L 15 9\" stroke=\"black\" fill=\"none\"/>\n",
       "<path d=\"M 33 13 L 37 13 L 40 13 L 40 13\" stroke=\"black\" fill=\"none\"/>\n",
       "</g></svg></div><div style=\"display:inline-block; width: 150px; background-color: white; margin-right:10px;\"><b>Generated</b><br><svg viewBox=\"0 0 64 64\"><g stroke-width=\"0.8\">\n",
       "<path d=\"M 20 16 L 17 16 L 18 18 L 17 16 L 17 16 L 15 16 L 16 16\" stroke=\"black\" fill=\"none\"/>\n",
       "<path d=\"M 26 16\" stroke=\"black\" fill=\"none\"/>\n",
       "<path d=\"M 27 17 L 26 16 L 27 15 L 29 16 L 29 17 L 29 16 L 29 16\" stroke=\"black\" fill=\"none\"/>\n",
       "<path d=\"M 19 27 L 21 31 L 24 32 L 28 30 L 28 29 L 23 27 L 19 27\" stroke=\"black\" fill=\"none\"/>\n",
       "<path d=\"M 21 28 L 22 30\" stroke=\"black\" fill=\"none\"/>\n",
       "<path d=\"M 25 29 L 25 29\" stroke=\"black\" fill=\"none\"/>\n",
       "<path d=\"M 21 37 L 23 41 L 27 43 L 30 42 L 34 40\" stroke=\"black\" fill=\"none\"/>\n",
       "<path d=\"M 34 34 L 47 29 L 63 21\" stroke=\"black\" fill=\"none\"/>\n",
       "<path d=\"M 40 36 L 57 35\" stroke=\"black\" fill=\"none\"/>\n",
       "<path d=\"M 35 30 L 47 25 L 50 23 L 59 22\" stroke=\"black\" fill=\"none\"/>\n",
       "<path d=\"M 17 29 L 0 25\" stroke=\"black\" fill=\"none\"/>\n",
       "<path d=\"M 17 29 L 8 22\" stroke=\"black\" fill=\"none\"/>\n",
       "<path d=\"M 16 31 L 0 35\" stroke=\"black\" fill=\"none\"/>\n",
       "<path d=\"M 21 9 L 11 12 L 7 16 L 5 20 L 5 30 L 6 35 L 11 43 L 17 47 L 24 49 L 31 48 L 38 40 L 38 36 L 37 26 L 35 22\" stroke=\"black\" fill=\"none\"/>\n",
       "<path d=\"M 16 6\" stroke=\"black\" fill=\"none\"/>\n",
       "<path d=\"M 5 15 L 2 8 L 1 4 L 2 0 L 5 0 L 11 3 L 15 9\" stroke=\"black\" fill=\"none\"/>\n",
       "<path d=\"M 33 13 L 37 13 L 57 11 L 56 13\" stroke=\"black\" fill=\"none\"/>\n",
       "</g></svg></div><div style=\"display:inline-block; width: 150px; background-color: white; margin-right:10px;\"><b>Generated</b><br><svg viewBox=\"0 0 64 64\"><g stroke-width=\"0.8\">\n",
       "<path d=\"M 16 16 L 17 16 L 18 18 L 17 18 L 17 16 L 16 17 L 16 16\" stroke=\"black\" fill=\"none\"/>\n",
       "<path d=\"M 26 16 L 31 15 L 31 16 L 27 17\" stroke=\"black\" fill=\"none\"/>\n",
       "<path d=\"M 27 15 L 29 16 L 29 17 L 30 16 L 29 16\" stroke=\"black\" fill=\"none\"/>\n",
       "<path d=\"M 21 27 L 21 31 L 24 32 L 27 32 L 28 29 L 23 27 L 19 27\" stroke=\"black\" fill=\"none\"/>\n",
       "<path d=\"M 21 28 L 22 30\" stroke=\"black\" fill=\"none\"/>\n",
       "<path d=\"M 25 29 L 25 31\" stroke=\"black\" fill=\"none\"/>\n",
       "<path d=\"M 17 38 L 23 41 L 27 43 L 30 42 L 34 40\" stroke=\"black\" fill=\"none\"/>\n",
       "<path d=\"M 40 29 L 56 25 L 63 21\" stroke=\"black\" fill=\"none\"/>\n",
       "<path d=\"M 40 36 L 57 35\" stroke=\"black\" fill=\"none\"/>\n",
       "<path d=\"M 40 29 L 47 25 L 50 23 L 52 21\" stroke=\"black\" fill=\"none\"/>\n",
       "<path d=\"M 12 30 L 5 24\" stroke=\"black\" fill=\"none\"/>\n",
       "<path d=\"M 16 30 L 5 32\" stroke=\"black\" fill=\"none\"/>\n",
       "<path d=\"M 16 31 L 0 35\" stroke=\"black\" fill=\"none\"/>\n",
       "<path d=\"M 21 9 L 11 12 L 7 16 L 6 23 L 5 30 L 6 35 L 12 44 L 17 47 L 24 49 L 31 48 L 38 40 L 38 36 L 39 32\" stroke=\"black\" fill=\"none\"/>\n",
       "<path d=\"M 23 10 L 16 6\" stroke=\"black\" fill=\"none\"/>\n",
       "<path d=\"M 7 9 L 2 8 L 1 4 L 2 0 L 5 0 L 11 3 L 15 9\" stroke=\"black\" fill=\"none\"/>\n",
       "<path d=\"M 33 13 L 37 13 L 57 11 L 56 13\" stroke=\"black\" fill=\"none\"/>\n",
       "</g></svg></div><div style=\"display:inline-block; width: 150px; background-color: white; margin-right:10px;\"><b>Generated</b><br><svg viewBox=\"0 0 64 64\"><g stroke-width=\"0.8\">\n",
       "<path d=\"M 20 16 L 17 16 L 18 18 L 17 18 L 17 16 L 16 17 L 18 16\" stroke=\"black\" fill=\"none\"/>\n",
       "<path d=\"M 30 16 L 32 16 L 31 16 L 27 17 L 26 16 L 27 15 L 29 16 L 29 17 L 29 16\" stroke=\"black\" fill=\"none\"/>\n",
       "<path d=\"M 19 27 L 20 31 L 24 32 L 28 30 L 28 29 L 23 27 L 19 27\" stroke=\"black\" fill=\"none\"/>\n",
       "<path d=\"M 21 28 L 22 30\" stroke=\"black\" fill=\"none\"/>\n",
       "<path d=\"M 25 29 L 25 29\" stroke=\"black\" fill=\"none\"/>\n",
       "<path d=\"M 17 38 L 20 41 L 25 40 L 30 42 L 34 40\" stroke=\"black\" fill=\"none\"/>\n",
       "<path d=\"M 34 34 L 47 29 L 63 21\" stroke=\"black\" fill=\"none\"/>\n",
       "<path d=\"M 40 36 L 57 35\" stroke=\"black\" fill=\"none\"/>\n",
       "<path d=\"M 35 30 L 47 25 L 50 23\" stroke=\"black\" fill=\"none\"/>\n",
       "<path d=\"M 12 30 L 5 24\" stroke=\"black\" fill=\"none\"/>\n",
       "<path d=\"M 16 32 L 0 34\" stroke=\"black\" fill=\"none\"/>\n",
       "<path d=\"M 16 31 L 0 32\" stroke=\"black\" fill=\"none\"/>\n",
       "<path d=\"M 14 12 L 11 12 L 7 16 L 7 22 L 5 30 L 6 35 L 12 44 L 17 47 L 24 49 L 31 48 L 38 40 L 38 36 L 39 30 L 35 22 L 23 10 L 16 6\" stroke=\"black\" fill=\"none\"/>\n",
       "<path d=\"M 8 14 L 2 8 L 1 4 L 1 1 L 5 0 L 11 3 L 16 7\" stroke=\"black\" fill=\"none\"/>\n",
       "<path d=\"M 33 13 L 43 5\" stroke=\"black\" fill=\"none\"/>\n",
       "</g></svg></div>"
      ],
      "text/plain": [
       "<IPython.core.display.HTML object>"
      ]
     },
     "metadata": {},
     "output_type": "display_data"
    },
    {
     "data": {
      "text/html": [
       "<div style=\"display:inline-block; width: 150px; background-color: white; margin-right:10px;\"><b>Original</b><br><svg viewBox=\"0 0 64 64\"><g stroke-width=\"0.8\">\n",
       "<path d=\"M 36 11 L 31 10 L 29 11 L 20 17 L 15 23 L 13 28 L 12 33 L 12 45 L 14 50 L 16 56 L 20 59 L 23 62 L 31 62 L 41 58 L 45 55 L 51 47 L 53 43 L 53 39 L 53 32 L 49 22 L 45 16 L 40 14 L 36 13\" stroke=\"black\" fill=\"none\"/>\n",
       "<path d=\"M 17 19 L 16 18 L 15 16 L 11 0 L 12 0 L 17 2 L 23 7 L 28 12 L 31 14\" stroke=\"black\" fill=\"none\"/>\n",
       "<path d=\"M 43 15 L 55 4 L 58 3 L 54 23 L 54 31\" stroke=\"black\" fill=\"none\"/>\n",
       "<path d=\"M 27 21 L 26 28\" stroke=\"black\" fill=\"none\"/>\n",
       "<path d=\"M 41 20 L 41 29\" stroke=\"black\" fill=\"none\"/>\n",
       "<path d=\"M 18 41 L 0 40\" stroke=\"black\" fill=\"none\"/>\n",
       "<path d=\"M 17 49 L 6 50 L 3 51\" stroke=\"black\" fill=\"none\"/>\n",
       "<path d=\"M 17 52 L 6 63\" stroke=\"black\" fill=\"none\"/>\n",
       "<path d=\"M 46 44 L 59 37\" stroke=\"black\" fill=\"none\"/>\n",
       "<path d=\"M 47 49 L 54 47 L 57 47\" stroke=\"black\" fill=\"none\"/>\n",
       "<path d=\"M 49 51 L 58 53\" stroke=\"black\" fill=\"none\"/>\n",
       "<path d=\"M 27 45 L 29 47 L 32 48 L 36 48 L 39 46\" stroke=\"black\" fill=\"none\"/>\n",
       "<path d=\"M 34 34 L 30 37 L 32 37 L 34 34\" stroke=\"black\" fill=\"none\"/>\n",
       "</g></svg></div><div style=\"display:inline-block; width: 150px; background-color: white; margin-right:10px;\"><b>Generated</b><br><svg viewBox=\"0 0 64 64\"><g stroke-width=\"0.8\">\n",
       "<path d=\"M 36 11 L 31 10 L 29 11 L 20 17 L 15 23 L 13 28 L 10 36 L 12 45 L 14 50 L 16 56 L 19 60 L 23 62 L 31 62 L 41 58 L 45 55 L 51 47 L 53 43 L 53 39 L 53 32 L 49 22 L 45 18 L 40 14 L 35 12\" stroke=\"black\" fill=\"none\"/>\n",
       "<path d=\"M 17 19\" stroke=\"black\" fill=\"none\"/>\n",
       "<path d=\"M 15 16 L 13 6 L 12 0 L 17 2 L 23 7 L 28 12 L 31 13\" stroke=\"black\" fill=\"none\"/>\n",
       "<path d=\"M 43 14 L 55 4 L 58 3 L 54 23 L 54 31\" stroke=\"black\" fill=\"none\"/>\n",
       "<path d=\"M 25 27 L 26 28\" stroke=\"black\" fill=\"none\"/>\n",
       "<path d=\"M 40 28 L 41 29\" stroke=\"black\" fill=\"none\"/>\n",
       "<path d=\"M 21 43 L 0 37\" stroke=\"black\" fill=\"none\"/>\n",
       "<path d=\"M 17 49 L 6 50 L 3 51\" stroke=\"black\" fill=\"none\"/>\n",
       "<path d=\"M 17 52 L 7 63\" stroke=\"black\" fill=\"none\"/>\n",
       "<path d=\"M 46 44 L 59 37\" stroke=\"black\" fill=\"none\"/>\n",
       "<path d=\"M 47 49 L 54 47 L 63 47\" stroke=\"black\" fill=\"none\"/>\n",
       "<path d=\"M 47 50 L 58 53\" stroke=\"black\" fill=\"none\"/>\n",
       "<path d=\"M 27 45 L 29 47 L 32 48 L 36 48 L 39 48\" stroke=\"black\" fill=\"none\"/>\n",
       "<path d=\"M 34 34 L 30 37 L 32 37 L 34 34\" stroke=\"black\" fill=\"none\"/>\n",
       "</g></svg></div><div style=\"display:inline-block; width: 150px; background-color: white; margin-right:10px;\"><b>Generated</b><br><svg viewBox=\"0 0 64 64\"><g stroke-width=\"0.8\">\n",
       "<path d=\"M 36 11 L 31 10 L 29 11 L 20 16 L 15 23 L 13 28 L 12 33 L 12 45 L 14 50 L 16 56 L 19 60 L 23 62 L 31 62 L 41 58 L 46 54 L 51 47 L 53 43 L 53 39 L 53 32 L 49 22 L 46 17 L 40 14 L 36 13\" stroke=\"black\" fill=\"none\"/>\n",
       "<path d=\"M 17 19 L 16 18 L 15 16 L 11 0 L 12 0 L 17 2 L 23 7 L 28 12 L 31 13\" stroke=\"black\" fill=\"none\"/>\n",
       "<path d=\"M 43 15 L 55 4 L 58 3 L 54 23 L 54 31\" stroke=\"black\" fill=\"none\"/>\n",
       "<path d=\"M 25 27 L 26 28\" stroke=\"black\" fill=\"none\"/>\n",
       "<path d=\"M 41 20 L 40 24\" stroke=\"black\" fill=\"none\"/>\n",
       "<path d=\"M 18 41 L 0 40\" stroke=\"black\" fill=\"none\"/>\n",
       "<path d=\"M 17 49 L 6 50 L 3 51\" stroke=\"black\" fill=\"none\"/>\n",
       "<path d=\"M 17 51 L 6 63\" stroke=\"black\" fill=\"none\"/>\n",
       "<path d=\"M 47 34 L 62 31\" stroke=\"black\" fill=\"none\"/>\n",
       "<path d=\"M 47 46 L 54 47 L 57 47\" stroke=\"black\" fill=\"none\"/>\n",
       "<path d=\"M 49 51 L 52 53\" stroke=\"black\" fill=\"none\"/>\n",
       "<path d=\"M 28 42 L 29 47 L 32 48 L 36 48 L 39 46\" stroke=\"black\" fill=\"none\"/>\n",
       "<path d=\"M 34 34 L 30 37 L 32 37 L 34 34\" stroke=\"black\" fill=\"none\"/>\n",
       "</g></svg></div><div style=\"display:inline-block; width: 150px; background-color: white; margin-right:10px;\"><b>Generated</b><br><svg viewBox=\"0 0 64 64\"><g stroke-width=\"0.8\">\n",
       "<path d=\"M 39 13 L 36 11 L 29 11 L 20 17 L 15 23 L 13 28 L 10 36 L 12 45 L 14 50 L 16 56 L 20 59 L 26 61 L 31 62 L 41 58 L 45 55 L 51 47 L 53 43 L 53 39 L 53 32 L 49 22 L 45 16 L 40 14 L 36 13\" stroke=\"black\" fill=\"none\"/>\n",
       "<path d=\"M 17 19 L 16 18 L 15 16 L 15 5 L 16 0 L 17 2 L 23 7 L 28 12 L 31 13\" stroke=\"black\" fill=\"none\"/>\n",
       "<path d=\"M 43 15 L 55 4 L 58 3 L 54 23 L 54 31\" stroke=\"black\" fill=\"none\"/>\n",
       "<path d=\"M 27 21 L 26 28\" stroke=\"black\" fill=\"none\"/>\n",
       "<path d=\"M 40 26 L 41 29\" stroke=\"black\" fill=\"none\"/>\n",
       "<path d=\"M 18 41 L 0 40\" stroke=\"black\" fill=\"none\"/>\n",
       "<path d=\"M 17 49 L 6 50 L 3 51\" stroke=\"black\" fill=\"none\"/>\n",
       "<path d=\"M 17 52 L 6 63\" stroke=\"black\" fill=\"none\"/>\n",
       "<path d=\"M 46 44 L 59 37\" stroke=\"black\" fill=\"none\"/>\n",
       "<path d=\"M 47 49 L 52 48 L 57 47\" stroke=\"black\" fill=\"none\"/>\n",
       "<path d=\"M 46 48 L 58 53\" stroke=\"black\" fill=\"none\"/>\n",
       "<path d=\"M 32 36 L 29 49 L 32 48 L 36 48 L 39 46\" stroke=\"black\" fill=\"none\"/>\n",
       "<path d=\"M 34 34 L 30 37 L 32 37 L 34 34\" stroke=\"black\" fill=\"none\"/>\n",
       "</g></svg></div><div style=\"display:inline-block; width: 150px; background-color: white; margin-right:10px;\"><b>Generated</b><br><svg viewBox=\"0 0 64 64\"><g stroke-width=\"0.8\">\n",
       "<path d=\"M 36 11 L 32 11 L 29 11 L 20 17 L 15 23 L 13 28 L 12 33 L 12 45 L 14 50 L 14 54 L 20 59 L 22 61 L 31 62 L 41 58 L 45 55 L 51 47 L 52 44 L 53 39 L 53 32 L 49 22 L 45 16 L 40 14 L 36 13\" stroke=\"black\" fill=\"none\"/>\n",
       "<path d=\"M 16 20 L 16 18 L 15 16 L 13 6 L 12 0 L 17 2 L 23 7 L 28 12 L 31 14\" stroke=\"black\" fill=\"none\"/>\n",
       "<path d=\"M 43 15 L 52 7 L 58 3 L 54 23 L 54 31\" stroke=\"black\" fill=\"none\"/>\n",
       "<path d=\"M 27 21 L 26 28\" stroke=\"black\" fill=\"none\"/>\n",
       "<path d=\"M 41 20 L 41 29\" stroke=\"black\" fill=\"none\"/>\n",
       "<path d=\"M 18 41 L 0 42\" stroke=\"black\" fill=\"none\"/>\n",
       "<path d=\"M 17 49 L 6 50 L 3 51\" stroke=\"black\" fill=\"none\"/>\n",
       "<path d=\"M 17 51 L 6 63\" stroke=\"black\" fill=\"none\"/>\n",
       "<path d=\"M 46 44 L 59 37\" stroke=\"black\" fill=\"none\"/>\n",
       "<path d=\"M 47 49 L 54 47 L 57 47\" stroke=\"black\" fill=\"none\"/>\n",
       "<path d=\"M 49 51 L 52 53\" stroke=\"black\" fill=\"none\"/>\n",
       "<path d=\"M 27 45 L 29 47 L 32 48 L 36 48\" stroke=\"black\" fill=\"none\"/>\n",
       "<path d=\"M 34 34\" stroke=\"black\" fill=\"none\"/>\n",
       "<path d=\"M 35 36 L 34 34\" stroke=\"black\" fill=\"none\"/>\n",
       "</g></svg></div><div style=\"display:inline-block; width: 150px; background-color: white; margin-right:10px;\"><b>Generated</b><br><svg viewBox=\"0 0 64 64\"><g stroke-width=\"0.8\">\n",
       "<path d=\"M 36 11 L 31 10 L 29 11 L 20 17 L 16 20 L 13 28 L 12 33 L 12 45 L 14 50 L 16 56 L 19 60 L 23 62 L 31 62 L 41 58 L 45 55 L 51 47 L 53 43 L 54 38 L 53 32 L 49 22 L 45 16 L 40 14 L 36 13\" stroke=\"black\" fill=\"none\"/>\n",
       "<path d=\"M 17 19 L 16 18 L 15 16 L 11 0 L 12 0 L 17 2 L 23 7 L 28 12 L 31 13\" stroke=\"black\" fill=\"none\"/>\n",
       "<path d=\"M 43 15 L 55 4 L 58 3 L 54 23 L 54 31\" stroke=\"black\" fill=\"none\"/>\n",
       "<path d=\"M 23 22 L 21 29\" stroke=\"black\" fill=\"none\"/>\n",
       "<path d=\"M 41 20 L 41 29\" stroke=\"black\" fill=\"none\"/>\n",
       "<path d=\"M 18 41 L 0 40\" stroke=\"black\" fill=\"none\"/>\n",
       "<path d=\"M 17 49 L 6 50 L 3 51\" stroke=\"black\" fill=\"none\"/>\n",
       "<path d=\"M 17 52 L 6 63\" stroke=\"black\" fill=\"none\"/>\n",
       "<path d=\"M 46 44 L 59 37\" stroke=\"black\" fill=\"none\"/>\n",
       "<path d=\"M 45 46 L 54 47 L 57 47\" stroke=\"black\" fill=\"none\"/>\n",
       "<path d=\"M 49 51 L 58 53\" stroke=\"black\" fill=\"none\"/>\n",
       "<path d=\"M 27 45 L 29 47 L 32 48 L 36 48 L 39 46\" stroke=\"black\" fill=\"none\"/>\n",
       "<path d=\"M 34 34 L 35 36 L 32 37 L 34 34\" stroke=\"black\" fill=\"none\"/>\n",
       "</g></svg></div>"
      ],
      "text/plain": [
       "<IPython.core.display.HTML object>"
      ]
     },
     "metadata": {},
     "output_type": "display_data"
    },
    {
     "data": {
      "text/html": [
       "<div style=\"display:inline-block; width: 150px; background-color: white; margin-right:10px;\"><b>Original</b><br><svg viewBox=\"0 0 64 64\"><g stroke-width=\"0.8\">\n",
       "<path d=\"M 22 12 L 19 16 L 18 20 L 18 27 L 22 32 L 29 33 L 33 31 L 36 29 L 40 22 L 41 16 L 36 10\" stroke=\"black\" fill=\"none\"/>\n",
       "<path d=\"M 21 12 L 24 12 L 19 2 L 22 2 L 24 4 L 26 8 L 27 9 L 31 8 L 31 5 L 33 0 L 36 4 L 36 9\" stroke=\"black\" fill=\"none\"/>\n",
       "<path d=\"M 26 18 L 27 18\" stroke=\"black\" fill=\"none\"/>\n",
       "<path d=\"M 33 16 L 32 17\" stroke=\"black\" fill=\"none\"/>\n",
       "<path d=\"M 30 22 L 56 10 L 63 11 L 57 13 L 52 14\" stroke=\"black\" fill=\"none\"/>\n",
       "<path d=\"M 31 25 L 42 18 L 56 18 L 59 18 L 60 19\" stroke=\"black\" fill=\"none\"/>\n",
       "<path d=\"M 24 24 L 13 19 L 6 19 L 1 20 L 3 21\" stroke=\"black\" fill=\"none\"/>\n",
       "<path d=\"M 23 25 L 14 24 L 8 24 L 3 25 L 0 26\" stroke=\"black\" fill=\"none\"/>\n",
       "<path d=\"M 28 22 L 26 27\" stroke=\"black\" fill=\"none\"/>\n",
       "</g></svg></div><div style=\"display:inline-block; width: 150px; background-color: white; margin-right:10px;\"><b>Generated</b><br><svg viewBox=\"0 0 64 64\"><g stroke-width=\"0.8\">\n",
       "<path d=\"M 22 12 L 20 15 L 18 20 L 18 27 L 22 32 L 27 32 L 33 31 L 38 29 L 40 22 L 41 16 L 36 10\" stroke=\"black\" fill=\"none\"/>\n",
       "<path d=\"M 21 12 L 24 12 L 23 7 L 22 2 L 24 4 L 26 8 L 27 9 L 31 8 L 34 0 L 33 0 L 39 2 L 36 9\" stroke=\"black\" fill=\"none\"/>\n",
       "<path d=\"M 26 18 L 27 18\" stroke=\"black\" fill=\"none\"/>\n",
       "<path d=\"M 33 16 L 32 17\" stroke=\"black\" fill=\"none\"/>\n",
       "<path d=\"M 30 22 L 56 10 L 63 11 L 57 13 L 52 14\" stroke=\"black\" fill=\"none\"/>\n",
       "<path d=\"M 31 25 L 42 22 L 56 18\" stroke=\"black\" fill=\"none\"/>\n",
       "<path d=\"M 24 24 L 13 19 L 6 19 L 3 19 L 3 21\" stroke=\"black\" fill=\"none\"/>\n",
       "<path d=\"M 23 25 L 14 24 L 8 24 L 3 25 L 0 26\" stroke=\"black\" fill=\"none\"/>\n",
       "<path d=\"M 28 22 L 26 27\" stroke=\"black\" fill=\"none\"/>\n",
       "</g></svg></div><div style=\"display:inline-block; width: 150px; background-color: white; margin-right:10px;\"><b>Generated</b><br><svg viewBox=\"0 0 64 64\"><g stroke-width=\"0.8\">\n",
       "<path d=\"M 22 12 L 19 16 L 17 22 L 18 27 L 22 32 L 29 33 L 33 31 L 36 29 L 41 23 L 41 16 L 36 10\" stroke=\"black\" fill=\"none\"/>\n",
       "<path d=\"M 21 12\" stroke=\"black\" fill=\"none\"/>\n",
       "<path d=\"M 22 0 L 22 2 L 24 4 L 26 8 L 27 9 L 31 8 L 31 5 L 33 0 L 36 4 L 36 11\" stroke=\"black\" fill=\"none\"/>\n",
       "<path d=\"M 26 17 L 27 18\" stroke=\"black\" fill=\"none\"/>\n",
       "<path d=\"M 33 16 L 32 17\" stroke=\"black\" fill=\"none\"/>\n",
       "<path d=\"M 30 22 L 41 18 L 63 11 L 57 13 L 52 14\" stroke=\"black\" fill=\"none\"/>\n",
       "<path d=\"M 31 25 L 40 23\" stroke=\"black\" fill=\"none\"/>\n",
       "<path d=\"M 40 20 L 60 19\" stroke=\"black\" fill=\"none\"/>\n",
       "<path d=\"M 21 22 L 13 19 L 6 19 L 3 19 L 3 21\" stroke=\"black\" fill=\"none\"/>\n",
       "<path d=\"M 23 25 L 14 24 L 8 24 L 3 25 L 0 26\" stroke=\"black\" fill=\"none\"/>\n",
       "<path d=\"M 25 26 L 26 27\" stroke=\"black\" fill=\"none\"/>\n",
       "</g></svg></div><div style=\"display:inline-block; width: 150px; background-color: white; margin-right:10px;\"><b>Generated</b><br><svg viewBox=\"0 0 64 64\"><g stroke-width=\"0.8\">\n",
       "<path d=\"M 22 12 L 19 16 L 18 20 L 18 27 L 22 32 L 29 33 L 33 31 L 38 27 L 40 22 L 41 16 L 36 10\" stroke=\"black\" fill=\"none\"/>\n",
       "<path d=\"M 21 12 L 24 12 L 19 2 L 22 2 L 24 4 L 26 8 L 27 9 L 31 8 L 31 5 L 33 0 L 36 4 L 36 11\" stroke=\"black\" fill=\"none\"/>\n",
       "<path d=\"M 26 17 L 27 18\" stroke=\"black\" fill=\"none\"/>\n",
       "<path d=\"M 33 16 L 35 16\" stroke=\"black\" fill=\"none\"/>\n",
       "<path d=\"M 30 22 L 56 10 L 63 11 L 57 13 L 52 14\" stroke=\"black\" fill=\"none\"/>\n",
       "<path d=\"M 31 25 L 42 18 L 56 18 L 59 18 L 60 19\" stroke=\"black\" fill=\"none\"/>\n",
       "<path d=\"M 24 24 L 13 19 L 6 19 L 3 19 L 3 21\" stroke=\"black\" fill=\"none\"/>\n",
       "<path d=\"M 23 25 L 14 24\" stroke=\"black\" fill=\"none\"/>\n",
       "<path d=\"M 0 28 L 0 28\" stroke=\"black\" fill=\"none\"/>\n",
       "<path d=\"M 28 22 L 26 27\" stroke=\"black\" fill=\"none\"/>\n",
       "</g></svg></div><div style=\"display:inline-block; width: 150px; background-color: white; margin-right:10px;\"><b>Generated</b><br><svg viewBox=\"0 0 64 64\"><g stroke-width=\"0.8\">\n",
       "<path d=\"M 22 11 L 20 14 L 18 20 L 18 27 L 22 32 L 29 33 L 33 31 L 36 29 L 40 22 L 41 16 L 36 10\" stroke=\"black\" fill=\"none\"/>\n",
       "<path d=\"M 21 12 L 22 7 L 22 0 L 22 2 L 24 3 L 26 8\" stroke=\"black\" fill=\"none\"/>\n",
       "<path d=\"M 37 0 L 33 0 L 39 2 L 36 9\" stroke=\"black\" fill=\"none\"/>\n",
       "<path d=\"M 26 18 L 27 18\" stroke=\"black\" fill=\"none\"/>\n",
       "<path d=\"M 33 16 L 32 17\" stroke=\"black\" fill=\"none\"/>\n",
       "<path d=\"M 30 22 L 56 10 L 63 11 L 57 13 L 52 14\" stroke=\"black\" fill=\"none\"/>\n",
       "<path d=\"M 31 25 L 42 22 L 56 18 L 59 18 L 60 19\" stroke=\"black\" fill=\"none\"/>\n",
       "<path d=\"M 19 22 L 16 21 L 6 19 L 1 20 L 3 21\" stroke=\"black\" fill=\"none\"/>\n",
       "<path d=\"M 21 23 L 14 24 L 8 24 L 3 25 L 0 26\" stroke=\"black\" fill=\"none\"/>\n",
       "<path d=\"M 28 26 L 26 27\" stroke=\"black\" fill=\"none\"/>\n",
       "</g></svg></div><div style=\"display:inline-block; width: 150px; background-color: white; margin-right:10px;\"><b>Generated</b><br><svg viewBox=\"0 0 64 64\"><g stroke-width=\"0.8\">\n",
       "<path d=\"M 22 12 L 19 16 L 18 20 L 18 27 L 22 30 L 29 33 L 35 32 L 36 29 L 40 22 L 41 16 L 36 10\" stroke=\"black\" fill=\"none\"/>\n",
       "<path d=\"M 21 12 L 24 12 L 23 7 L 22 2 L 24 4 L 26 8 L 27 9\" stroke=\"black\" fill=\"none\"/>\n",
       "<path d=\"M 31 5 L 33 0 L 38 2 L 40 12\" stroke=\"black\" fill=\"none\"/>\n",
       "<path d=\"M 26 18 L 27 18\" stroke=\"black\" fill=\"none\"/>\n",
       "<path d=\"M 33 16 L 35 16\" stroke=\"black\" fill=\"none\"/>\n",
       "<path d=\"M 30 22 L 56 10 L 63 6 L 57 13 L 52 14\" stroke=\"black\" fill=\"none\"/>\n",
       "<path d=\"M 33 21 L 42 18 L 51 18 L 59 18 L 60 19\" stroke=\"black\" fill=\"none\"/>\n",
       "<path d=\"M 24 24 L 13 19 L 6 19 L 1 20 L 3 21\" stroke=\"black\" fill=\"none\"/>\n",
       "<path d=\"M 23 25 L 14 24 L 8 24 L 3 25 L 0 26\" stroke=\"black\" fill=\"none\"/>\n",
       "<path d=\"M 28 22 L 26 27\" stroke=\"black\" fill=\"none\"/>\n",
       "</g></svg></div>"
      ],
      "text/plain": [
       "<IPython.core.display.HTML object>"
      ]
     },
     "metadata": {},
     "output_type": "display_data"
    }
   ],
   "source": [
    "\n",
    "from IPython.display import HTML, display\n",
    "\n",
    "model.eval()\n",
    "device = torch.device(device)\n",
    "model = model.to(device)\n",
    "\n",
    "for i in range(5):\n",
    "    clean_seq = dataset[i].unsqueeze(0).to(device)  # (1, seq_len)\n",
    "    svg_inline = f'<div style=\"display:inline-block; width: 150px; background-color: white; margin-right:10px;\"><b>Original</b><br>{tokenizer.decode(clean_seq.squeeze(0).cpu().tolist())}</div>'\n",
    "\n",
    "    for _ in range(5):\n",
    "        noisy_seq = corrupt_input(clean_seq, tokenizer, mask_prob=0.2, dropout_prob=0.0)\n",
    "\n",
    "        with torch.no_grad():\n",
    "            logits = model(noisy_seq)\n",
    "            preds = torch.argmax(logits, dim=-1)  # (1, seq_len)\n",
    "\n",
    "        denoised_seq = preds.squeeze(0).cpu().tolist()\n",
    "        denoised_svg = tokenizer.decode(denoised_seq)\n",
    "        svg_inline += f'<div style=\"display:inline-block; width: 150px; background-color: white; margin-right:10px;\"><b>Generated</b><br>{denoised_svg}</div>'\n",
    "\n",
    "    display(HTML(svg_inline))"
   ]
  },
  {
   "cell_type": "code",
   "execution_count": null,
   "id": "661cfa22",
   "metadata": {},
   "outputs": [],
   "source": [
    "# TODO create a model with latent space and a model to sample from it"
   ]
  }
 ],
 "metadata": {
  "kernelspec": {
   "display_name": "Python 3",
   "language": "python",
   "name": "python3"
  },
  "language_info": {
   "codemirror_mode": {
    "name": "ipython",
    "version": 3
   },
   "file_extension": ".py",
   "mimetype": "text/x-python",
   "name": "python",
   "nbconvert_exporter": "python",
   "pygments_lexer": "ipython3",
   "version": "3.13.7"
  }
 },
 "nbformat": 4,
 "nbformat_minor": 5
}
