{
 "cells": [
  {
   "cell_type": "markdown",
   "id": "632aa9ac",
   "metadata": {},
   "source": [
    "# Initial experiments Part 2"
   ]
  },
  {
   "cell_type": "code",
   "execution_count": 9,
   "id": "651fca9d",
   "metadata": {},
   "outputs": [],
   "source": [
    "import torch\n",
    "import torch.nn as nn\n",
    "import torch.nn.functional as F\n",
    "from torch.utils.data import Dataset\n",
    "from torch.utils.data import DataLoader\n",
    "\n",
    "from dataset import QuickDrawDataset\n",
    "from utils import AbsolutePenPositionTokenizer\n",
    "from tqdm import tqdm\n",
    "import pickle"
   ]
  },
  {
   "cell_type": "code",
   "execution_count": 10,
   "id": "d0c0017c",
   "metadata": {},
   "outputs": [
    {
     "name": "stdout",
     "output_type": "stream",
     "text": [
      "Using device: cuda\n"
     ]
    }
   ],
   "source": [
    "device = torch.device(\"cuda\" if torch.cuda.is_available() else \"cpu\")\n",
    "print(\"Using device:\", device)\n",
    "\n",
    "seed = 42\n",
    "torch.manual_seed(seed)\n",
    "if device == \"cuda\":\n",
    "    torch.cuda.manual_seed_all(seed)"
   ]
  },
  {
   "cell_type": "code",
   "execution_count": 11,
   "id": "2d0dd2b3",
   "metadata": {},
   "outputs": [
    {
     "name": "stderr",
     "output_type": "stream",
     "text": [
      "Loading QuickDraw files: 100%|██████████| 1/1 [00:03<00:00,  3.32s/it]\n"
     ]
    },
    {
     "name": "stdout",
     "output_type": "stream",
     "text": [
      "Loaded tokenized data from sketch_tokenized_dataset.pkl\n"
     ]
    }
   ],
   "source": [
    "labels = [\"cat\"]\n",
    "\n",
    "training_data = QuickDrawDataset(\n",
    "    labels=labels,\n",
    ")\n",
    "\n",
    "tokenizer = AbsolutePenPositionTokenizer(bins=64)\n",
    "\n",
    "class SketchDataset(Dataset):\n",
    "    def __init__(self, svg_list, tokenizer, max_len=200, cache_file=\"sketch_tokenized_dataset.pkl\"):\n",
    "        self.data = []\n",
    "        self.tokenizer = tokenizer\n",
    "        self.max_len = max_len\n",
    "        self.pad_id = tokenizer.vocab[\"PAD\"]\n",
    "        \n",
    "        # Try to load from cache\n",
    "        try:\n",
    "            with open(cache_file, \"rb\") as f:\n",
    "                self.data = pickle.load(f)\n",
    "            print(f\"Loaded tokenized data from {cache_file}\")\n",
    "        except FileNotFoundError:\n",
    "            for svg in tqdm(svg_list, desc=\"Tokenizing SVGs\"):\n",
    "                tokens = tokenizer.encode(svg)\n",
    "                # Truncate + Pad\n",
    "                tokens = tokens[:max_len]\n",
    "                tokens = tokens + [self.pad_id] * (max_len - len(tokens))\n",
    "                self.data.append(tokens)\n",
    "                \n",
    "            # Save to cache\n",
    "            with open(cache_file, \"wb\") as f:\n",
    "                pickle.dump(self.data, f)\n",
    "            print(f\"Saved tokenized data to {cache_file}\")\n",
    "\n",
    "    def __getitem__(self, idx):\n",
    "        seq = self.data[idx]\n",
    "        input_ids = torch.tensor(seq[:-1])\n",
    "        target_ids = torch.tensor(seq[1:])\n",
    "        return input_ids, target_ids\n",
    "    \n",
    "    def __len__(self):\n",
    "        return len(self.data)\n",
    "    \n",
    "dataset = SketchDataset(training_data, tokenizer, max_len=200)"
   ]
  },
  {
   "cell_type": "code",
   "execution_count": null,
   "id": "a5d81d15",
   "metadata": {},
   "outputs": [
    {
     "name": "stderr",
     "output_type": "stream",
     "text": [
      "Epoch 1/40: 100%|██████████| 403/403 [01:33<00:00,  4.33it/s]\n"
     ]
    },
    {
     "name": "stdout",
     "output_type": "stream",
     "text": [
      "Epoch 1 Loss: 2.4070\n"
     ]
    },
    {
     "name": "stderr",
     "output_type": "stream",
     "text": [
      "Epoch 2/40: 100%|██████████| 403/403 [01:32<00:00,  4.34it/s]\n"
     ]
    },
    {
     "name": "stdout",
     "output_type": "stream",
     "text": [
      "Epoch 2 Loss: 1.7705\n"
     ]
    },
    {
     "name": "stderr",
     "output_type": "stream",
     "text": [
      "Epoch 3/40: 100%|██████████| 403/403 [01:33<00:00,  4.32it/s]\n"
     ]
    },
    {
     "name": "stdout",
     "output_type": "stream",
     "text": [
      "Epoch 3 Loss: 1.6398\n"
     ]
    },
    {
     "name": "stderr",
     "output_type": "stream",
     "text": [
      "Epoch 4/40: 100%|██████████| 403/403 [01:32<00:00,  4.34it/s]\n"
     ]
    },
    {
     "name": "stdout",
     "output_type": "stream",
     "text": [
      "Epoch 4 Loss: 1.5869\n"
     ]
    },
    {
     "name": "stderr",
     "output_type": "stream",
     "text": [
      "Epoch 5/40:  58%|█████▊    | 235/403 [00:54<00:38,  4.34it/s]"
     ]
    }
   ],
   "source": [
    "def generate_square_subsequent_mask(sz: int):\n",
    "    \"\"\"Causal mask to stop attention to future positions\"\"\"\n",
    "    return torch.triu(torch.ones(sz, sz), diagonal=1).bool()\n",
    "\n",
    "class SketchTransformer(nn.Module):\n",
    "    def __init__(self, vocab_size, d_model=256, nhead=8, num_layers=6, max_len=200):\n",
    "        super().__init__()\n",
    "        self.vocab_size = vocab_size\n",
    "        self.d_model = d_model\n",
    "        self.max_len = max_len\n",
    "\n",
    "        self.embed = nn.Embedding(vocab_size, d_model)\n",
    "        self.pos_embed = nn.Embedding(max_len, d_model)\n",
    "\n",
    "        encoder_layer = nn.TransformerEncoderLayer(\n",
    "            d_model=d_model, nhead=nhead, dim_feedforward=4*d_model, activation='gelu'\n",
    "        )\n",
    "        self.transformer = nn.TransformerEncoder(encoder_layer, num_layers=num_layers)\n",
    "        \n",
    "        self.norm = nn.LayerNorm(d_model)\n",
    "        self.fc_out = nn.Linear(d_model, vocab_size)\n",
    "\n",
    "    def forward(self, x):\n",
    "        \"\"\"\n",
    "        x: (batch, seq_len) input tokens\n",
    "        Returns: (batch, seq_len, vocab_size) logits\n",
    "        \"\"\"\n",
    "        batch_size, seq_len = x.shape\n",
    "        positions = torch.arange(0, seq_len, device=x.device).unsqueeze(0)\n",
    "\n",
    "        x = self.embed(x) + self.pos_embed(positions)  # (batch, seq_len, d_model)\n",
    "        x = x.transpose(0, 1)  # -> (seq_len, batch, d_model)\n",
    "\n",
    "        # causal mask (seq_len, seq_len)\n",
    "        mask = generate_square_subsequent_mask(seq_len).to(x.device)\n",
    "\n",
    "        x = self.transformer(x, mask=mask)  # (seq_len, batch, d_model)\n",
    "        x = x.transpose(0, 1)  # back to (batch, seq_len, d_model)\n",
    "        x = self.norm(x)\n",
    "\n",
    "        logits = self.fc_out(x)  # (batch, seq_len, vocab_size)\n",
    "        return logits\n",
    "    \n",
    "def train_model(model, dataloader, vocab_size, epochs=10, lr=1e-4, device=\"cuda\"):\n",
    "    model = model.to(device)\n",
    "    optimizer = torch.optim.AdamW(model.parameters(), lr=lr)\n",
    "    criterion = nn.CrossEntropyLoss(ignore_index=tokenizer.vocab[\"PAD\"]) # updated\n",
    "\n",
    "    for epoch in range(epochs):\n",
    "        model.train()\n",
    "        total_loss = 0\n",
    "        for input_ids, target_ids in tqdm(dataloader, desc=f\"Epoch {epoch+1}/{epochs}\"):\n",
    "            input_ids, target_ids = input_ids.to(device), target_ids.to(device)\n",
    "\n",
    "            # Transformer expects shape (seq_len, batch, d_model)\n",
    "            logits = model(input_ids)  # (seq_len, batch, vocab_size)\n",
    "            loss = criterion(logits.view(-1, vocab_size), target_ids.view(-1))\n",
    "\n",
    "            optimizer.zero_grad()\n",
    "            loss.backward()\n",
    "            optimizer.step()\n",
    "\n",
    "            total_loss += loss.item()\n",
    "\n",
    "        print(f\"Epoch {epoch+1} Loss: {total_loss/len(dataloader):.4f}\")\n",
    "\n",
    "\n",
    "dataloader = DataLoader(dataset, batch_size=256, shuffle=True, pin_memory=True)\n",
    "model = SketchTransformer(vocab_size=len(tokenizer.vocab), d_model=256, nhead=8, num_layers=6)\n",
    "\n",
    "train_model(model, dataloader, vocab_size=len(tokenizer.vocab), epochs=40, lr=1e-3, device=device)"
   ]
  },
  {
   "cell_type": "code",
   "execution_count": null,
   "id": "46a32060",
   "metadata": {},
   "outputs": [],
   "source": [
    "# save the model\n",
    "# torch.save(model, \"sketch_transformer_cat_decoder_checkpoint.pth\")"
   ]
  },
  {
   "cell_type": "code",
   "execution_count": null,
   "id": "97b7ba66",
   "metadata": {},
   "outputs": [],
   "source": [
    "# model = torch.load(\"sketch_transformer_cat_decoder_checkpoint.pth\", map_location=device, weights_only=False)\n",
    "\n",
    "def sample_sequence(model, start_token, max_len=200, temperature=1.0, greedy=False, eos_id=None, device=\"cuda\"):\n",
    "    model.eval()\n",
    "    \n",
    "    tokens = [start_token]\n",
    "    tokens_tensor = torch.tensor([tokens], device=device)  # (1, 1)\n",
    "\n",
    "    for _ in range(max_len - 1):\n",
    "        with torch.no_grad():\n",
    "            logits = model(tokens_tensor)  # (batch=1, seq_len, vocab_size)\n",
    "            next_logits = logits[:, -1, :] / temperature  # take last step\n",
    "            probs = F.softmax(next_logits, dim=-1)\n",
    "\n",
    "            if greedy:\n",
    "                next_token = torch.argmax(probs, dim=-1).item()\n",
    "            else:\n",
    "                next_token = torch.multinomial(probs, num_samples=1).item()\n",
    "\n",
    "        tokens.append(next_token)\n",
    "\n",
    "        # stop if EOS reached\n",
    "        if eos_id is not None and next_token == eos_id:\n",
    "            break\n",
    "\n",
    "        next_token_tensor = torch.tensor([[next_token]], device=device)\n",
    "        tokens_tensor = torch.cat([tokens_tensor, next_token_tensor], dim=1)\n",
    "\n",
    "    return tokens\n",
    "\n",
    "# TODO Top-k filtering, Top-p filtering (nucleus)\n",
    "\n",
    "start_token = tokenizer.vocab[\"START\"]\n",
    "eos_token = tokenizer.vocab.get(\"END\", None)\n",
    "\n",
    "generated = sample_sequence(\n",
    "    model, \n",
    "    start_token, \n",
    "    max_len=200, \n",
    "    temperature=0.5, \n",
    "    greedy=False, \n",
    "    eos_id=eos_token, \n",
    "    device=device\n",
    ")\n",
    "\n",
    "print(\"Generated token sequence:\", generated)\n",
    "decoded_sketch = tokenizer.decode(generated, stroke_width=0.4)\n",
    "print(\"Decoded sketch:\", decoded_sketch)\n",
    "\n",
    "from IPython.display import HTML, display\n",
    "\n",
    "display(HTML(f'<div style=\"display:inline-block; width: 150px; background-color: white; margin-right:10px;\"><b>Generated</b><br>{decoded_sketch}</div>'))"
   ]
  },
  {
   "cell_type": "code",
   "execution_count": null,
   "id": "c1502569",
   "metadata": {},
   "outputs": [],
   "source": [
    "def top_p_filtering(logits, p=0.9):\n",
    "    sorted_logits, sorted_indices = torch.sort(logits, descending=True)\n",
    "    cumulative_probs = torch.cumsum(F.softmax(sorted_logits, dim=-1), dim=-1)\n",
    "\n",
    "    sorted_indices_to_remove = cumulative_probs > p\n",
    "    sorted_indices_to_remove[..., 1:] = sorted_indices_to_remove[..., :-1].clone()\n",
    "    sorted_indices_to_remove[..., 0] = False\n",
    "\n",
    "    indices_to_remove = sorted_indices[sorted_indices_to_remove]\n",
    "    logits[:, indices_to_remove] = -float(\"Inf\")\n",
    "    return logits\n",
    "\n",
    "def top_k_filtering(logits, k):\n",
    "    if k <= 0:\n",
    "        return logits\n",
    "    top_k = min(k, logits.size(-1))\n",
    "    values, _ = torch.topk(logits, top_k)\n",
    "    min_values = values[:, -1].unsqueeze(-1)\n",
    "    logits[logits < min_values] = -float(\"Inf\")\n",
    "    return logits\n",
    "\n",
    "def sample_sequence_feat(\n",
    "    model, start_token, max_len=200, temperature=1.0,\n",
    "    top_k=60, top_p=0.9,\n",
    "    greedy=False, eos_id=None, device=\"cuda\"\n",
    "):\n",
    "    model.eval()\n",
    "    tokens = [start_token]\n",
    "    tokens_tensor = torch.tensor([tokens], device=device)\n",
    "\n",
    "    for _ in range(max_len - 1):\n",
    "        with torch.no_grad():\n",
    "            logits = model(tokens_tensor)\n",
    "            next_logits = logits[:, -1, :] / temperature\n",
    "\n",
    "            # top-k / top-p filtering\n",
    "            next_logits = top_k_filtering(next_logits, top_k)\n",
    "            next_logits = top_p_filtering(next_logits, top_p)\n",
    "\n",
    "            probs = F.softmax(next_logits, dim=-1)\n",
    "\n",
    "            if greedy:\n",
    "                next_token = torch.argmax(probs, dim=-1).item()\n",
    "            else:\n",
    "                next_token = torch.multinomial(probs, num_samples=1).item()\n",
    "\n",
    "        tokens.append(next_token)\n",
    "\n",
    "        if eos_id is not None and next_token == eos_id:\n",
    "            break\n",
    "\n",
    "        next_token_tensor = torch.tensor([[next_token]], device=device)\n",
    "        tokens_tensor = torch.cat([tokens_tensor, next_token_tensor], dim=1)\n",
    "\n",
    "    return tokens\n",
    "\n",
    "\n",
    "start_token = tokenizer.vocab[\"START\"]\n",
    "eos_token = tokenizer.vocab.get(\"END\", None)\n",
    "\n",
    "generated = sample_sequence_feat(\n",
    "    model, \n",
    "    start_token, \n",
    "    max_len=200, \n",
    "    temperature=1.0, \n",
    "    greedy=False, \n",
    "    eos_id=eos_token, \n",
    "    device=device\n",
    ")\n",
    "\n",
    "print(\"Generated token sequence:\", generated)\n",
    "decoded_sketch = tokenizer.decode(generated, stroke_width=0.4)\n",
    "print(\"Decoded sketch:\", decoded_sketch)\n",
    "\n",
    "from IPython.display import HTML, display\n",
    "\n",
    "display(HTML(f'<div style=\"display:inline-block; width: 150px; background-color: white; margin-right:10px;\"><b>Generated</b><br>{decoded_sketch}</div>'))"
   ]
  }
 ],
 "metadata": {
  "kernelspec": {
   "display_name": "Python 3",
   "language": "python",
   "name": "python3"
  },
  "language_info": {
   "codemirror_mode": {
    "name": "ipython",
    "version": 3
   },
   "file_extension": ".py",
   "mimetype": "text/x-python",
   "name": "python",
   "nbconvert_exporter": "python",
   "pygments_lexer": "ipython3",
   "version": "3.13.7"
  }
 },
 "nbformat": 4,
 "nbformat_minor": 5
}
