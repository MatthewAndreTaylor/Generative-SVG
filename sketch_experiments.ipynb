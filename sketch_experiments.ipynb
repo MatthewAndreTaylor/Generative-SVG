{
 "cells": [
  {
   "cell_type": "code",
   "execution_count": 2,
   "id": "651fca9d",
   "metadata": {},
   "outputs": [],
   "source": [
    "import numpy as np\n",
    "import torch\n",
    "import torch.nn as nn\n",
    "import torch.nn.functional as F\n",
    "from torch.utils.data import Dataset\n",
    "from torch.utils.data import DataLoader\n",
    "\n",
    "from dataset import QuickDrawDataset\n",
    "from utils import AbsolutePenPositionTokenizer\n",
    "from tqdm import tqdm"
   ]
  },
  {
   "cell_type": "code",
   "execution_count": 5,
   "id": "d0c0017c",
   "metadata": {},
   "outputs": [
    {
     "name": "stdout",
     "output_type": "stream",
     "text": [
      "Using device: cuda\n"
     ]
    }
   ],
   "source": [
    "device = torch.device(\"cuda\" if torch.cuda.is_available() else \"cpu\")\n",
    "print(\"Using device:\", device)\n",
    "\n",
    "seed = 42\n",
    "torch.manual_seed(seed)\n",
    "np.random.seed(seed)\n",
    "if device == \"cuda\":\n",
    "    torch.cuda.manual_seed_all(seed)"
   ]
  },
  {
   "cell_type": "code",
   "execution_count": 11,
   "id": "2d0dd2b3",
   "metadata": {},
   "outputs": [
    {
     "name": "stderr",
     "output_type": "stream",
     "text": [
      "Loading QuickDraw files: 100%|██████████| 1/1 [00:03<00:00,  3.21s/it]\n",
      "Tokenizing SVGs:   6%|▌         | 6415/103031 [00:02<00:35, 2753.61it/s]\n"
     ]
    },
    {
     "ename": "KeyboardInterrupt",
     "evalue": "",
     "output_type": "error",
     "traceback": [
      "\u001b[31m---------------------------------------------------------------------------\u001b[39m",
      "\u001b[31mKeyboardInterrupt\u001b[39m                         Traceback (most recent call last)",
      "\u001b[36mCell\u001b[39m\u001b[36m \u001b[39m\u001b[32mIn[11]\u001b[39m\u001b[32m, line 32\u001b[39m\n\u001b[32m     29\u001b[39m     \u001b[38;5;28;01mdef\u001b[39;00m\u001b[38;5;250m \u001b[39m\u001b[34m__len__\u001b[39m(\u001b[38;5;28mself\u001b[39m):\n\u001b[32m     30\u001b[39m         \u001b[38;5;28;01mreturn\u001b[39;00m \u001b[38;5;28mlen\u001b[39m(\u001b[38;5;28mself\u001b[39m.data)\n\u001b[32m---> \u001b[39m\u001b[32m32\u001b[39m dataset = \u001b[43mSketchDataset\u001b[49m\u001b[43m(\u001b[49m\u001b[43mtraining_data\u001b[49m\u001b[43m,\u001b[49m\u001b[43m \u001b[49m\u001b[43mtokenizer\u001b[49m\u001b[43m,\u001b[49m\u001b[43m \u001b[49m\u001b[43mmax_len\u001b[49m\u001b[43m=\u001b[49m\u001b[32;43m200\u001b[39;49m\u001b[43m)\u001b[49m\n",
      "\u001b[36mCell\u001b[39m\u001b[36m \u001b[39m\u001b[32mIn[11]\u001b[39m\u001b[32m, line 17\u001b[39m, in \u001b[36mSketchDataset.__init__\u001b[39m\u001b[34m(self, svg_list, tokenizer, max_len)\u001b[39m\n\u001b[32m     14\u001b[39m \u001b[38;5;28mself\u001b[39m.pad_id = tokenizer.vocab[\u001b[33m\"\u001b[39m\u001b[33mPAD\u001b[39m\u001b[33m\"\u001b[39m]\n\u001b[32m     16\u001b[39m \u001b[38;5;28;01mfor\u001b[39;00m svg \u001b[38;5;129;01min\u001b[39;00m tqdm(svg_list, desc=\u001b[33m\"\u001b[39m\u001b[33mTokenizing SVGs\u001b[39m\u001b[33m\"\u001b[39m):\n\u001b[32m---> \u001b[39m\u001b[32m17\u001b[39m     tokens = \u001b[43mtokenizer\u001b[49m\u001b[43m.\u001b[49m\u001b[43mencode\u001b[49m\u001b[43m(\u001b[49m\u001b[43msvg\u001b[49m\u001b[43m)\u001b[49m\n\u001b[32m     18\u001b[39m     \u001b[38;5;66;03m# Truncate + Pad\u001b[39;00m\n\u001b[32m     19\u001b[39m     tokens = tokens[:max_len]\n",
      "\u001b[36mFile \u001b[39m\u001b[32mc:\\Code\\Generative-SVG\\utils.py:39\u001b[39m, in \u001b[36mAbsolutePenPositionTokenizer.encode\u001b[39m\u001b[34m(self, svg_content)\u001b[39m\n\u001b[32m     38\u001b[39m \u001b[38;5;28;01mdef\u001b[39;00m\u001b[38;5;250m \u001b[39m\u001b[34mencode\u001b[39m(\u001b[38;5;28mself\u001b[39m, svg_content):\n\u001b[32m---> \u001b[39m\u001b[32m39\u001b[39m     paths, _ = \u001b[43msvgstr2paths\u001b[49m\u001b[43m(\u001b[49m\u001b[43msvg_content\u001b[49m\u001b[43m)\u001b[49m\n\u001b[32m     40\u001b[39m     min_x, max_x, min_y, max_y = parse_viewbox(svg_content)\n\u001b[32m     41\u001b[39m     quantize_point = make_quantizer(min_x, max_x, min_y, max_y, \u001b[38;5;28mself\u001b[39m.bins)\n",
      "\u001b[36mFile \u001b[39m\u001b[32mc:\\Users\\matth\\AppData\\Local\\Programs\\Python\\Python313\\Lib\\site-packages\\svgpathtools\\svg_to_paths.py:302\u001b[39m, in \u001b[36msvgstr2paths\u001b[39m\u001b[34m(svg_string, return_svg_attributes, convert_circles_to_paths, convert_ellipses_to_paths, convert_lines_to_paths, convert_polylines_to_paths, convert_polygons_to_paths, convert_rectangles_to_paths)\u001b[39m\n\u001b[32m    300\u001b[39m \u001b[38;5;66;03m# wrap string into StringIO object\u001b[39;00m\n\u001b[32m    301\u001b[39m svg_file_obj = StringIO(svg_string)\n\u001b[32m--> \u001b[39m\u001b[32m302\u001b[39m \u001b[38;5;28;01mreturn\u001b[39;00m \u001b[43msvg2paths\u001b[49m\u001b[43m(\u001b[49m\u001b[43msvg_file_location\u001b[49m\u001b[43m=\u001b[49m\u001b[43msvg_file_obj\u001b[49m\u001b[43m,\u001b[49m\n\u001b[32m    303\u001b[39m \u001b[43m                 \u001b[49m\u001b[43mreturn_svg_attributes\u001b[49m\u001b[43m=\u001b[49m\u001b[43mreturn_svg_attributes\u001b[49m\u001b[43m,\u001b[49m\n\u001b[32m    304\u001b[39m \u001b[43m                 \u001b[49m\u001b[43mconvert_circles_to_paths\u001b[49m\u001b[43m=\u001b[49m\u001b[43mconvert_circles_to_paths\u001b[49m\u001b[43m,\u001b[49m\n\u001b[32m    305\u001b[39m \u001b[43m                 \u001b[49m\u001b[43mconvert_ellipses_to_paths\u001b[49m\u001b[43m=\u001b[49m\u001b[43mconvert_ellipses_to_paths\u001b[49m\u001b[43m,\u001b[49m\n\u001b[32m    306\u001b[39m \u001b[43m                 \u001b[49m\u001b[43mconvert_lines_to_paths\u001b[49m\u001b[43m=\u001b[49m\u001b[43mconvert_lines_to_paths\u001b[49m\u001b[43m,\u001b[49m\n\u001b[32m    307\u001b[39m \u001b[43m                 \u001b[49m\u001b[43mconvert_polylines_to_paths\u001b[49m\u001b[43m=\u001b[49m\u001b[43mconvert_polylines_to_paths\u001b[49m\u001b[43m,\u001b[49m\n\u001b[32m    308\u001b[39m \u001b[43m                 \u001b[49m\u001b[43mconvert_polygons_to_paths\u001b[49m\u001b[43m=\u001b[49m\u001b[43mconvert_polygons_to_paths\u001b[49m\u001b[43m,\u001b[49m\n\u001b[32m    309\u001b[39m \u001b[43m                 \u001b[49m\u001b[43mconvert_rectangles_to_paths\u001b[49m\u001b[43m=\u001b[49m\u001b[43mconvert_rectangles_to_paths\u001b[49m\u001b[43m)\u001b[49m\n",
      "\u001b[36mFile \u001b[39m\u001b[32mc:\\Users\\matth\\AppData\\Local\\Programs\\Python\\Python313\\Lib\\site-packages\\svgpathtools\\svg_to_paths.py:218\u001b[39m, in \u001b[36msvg2paths\u001b[39m\u001b[34m(svg_file_location, return_svg_attributes, convert_circles_to_paths, convert_ellipses_to_paths, convert_lines_to_paths, convert_polylines_to_paths, convert_polygons_to_paths, convert_rectangles_to_paths)\u001b[39m\n\u001b[32m    215\u001b[39m     \u001b[38;5;28;01mreturn\u001b[39;00m \u001b[38;5;28mdict\u001b[39m(\u001b[38;5;28mlist\u001b[39m(\u001b[38;5;28mzip\u001b[39m(keys, values)))\n\u001b[32m    217\u001b[39m \u001b[38;5;66;03m# Use minidom to extract path strings from input SVG\u001b[39;00m\n\u001b[32m--> \u001b[39m\u001b[32m218\u001b[39m paths = [\u001b[43mdom2dict\u001b[49m\u001b[43m(\u001b[49m\u001b[43mel\u001b[49m\u001b[43m)\u001b[49m \u001b[38;5;28;01mfor\u001b[39;00m el \u001b[38;5;129;01min\u001b[39;00m doc.getElementsByTagName(\u001b[33m'\u001b[39m\u001b[33mpath\u001b[39m\u001b[33m'\u001b[39m)]\n\u001b[32m    219\u001b[39m d_strings = [el[\u001b[33m'\u001b[39m\u001b[33md\u001b[39m\u001b[33m'\u001b[39m] \u001b[38;5;28;01mfor\u001b[39;00m el \u001b[38;5;129;01min\u001b[39;00m paths]\n\u001b[32m    220\u001b[39m attribute_dictionary_list = paths\n",
      "\u001b[36mFile \u001b[39m\u001b[32mc:\\Users\\matth\\AppData\\Local\\Programs\\Python\\Python313\\Lib\\site-packages\\svgpathtools\\svg_to_paths.py:213\u001b[39m, in \u001b[36msvg2paths.<locals>.dom2dict\u001b[39m\u001b[34m(element)\u001b[39m\n\u001b[32m    211\u001b[39m \u001b[38;5;28;01mdef\u001b[39;00m\u001b[38;5;250m \u001b[39m\u001b[34mdom2dict\u001b[39m(element):\n\u001b[32m    212\u001b[39m \u001b[38;5;250m    \u001b[39m\u001b[33;03m\"\"\"Converts DOM elements to dictionaries of attributes.\"\"\"\u001b[39;00m\n\u001b[32m--> \u001b[39m\u001b[32m213\u001b[39m     keys = \u001b[38;5;28mlist\u001b[39m(\u001b[43melement\u001b[49m\u001b[43m.\u001b[49m\u001b[43mattributes\u001b[49m.keys())\n\u001b[32m    214\u001b[39m     values = [val.value \u001b[38;5;28;01mfor\u001b[39;00m val \u001b[38;5;129;01min\u001b[39;00m \u001b[38;5;28mlist\u001b[39m(element.attributes.values())]\n\u001b[32m    215\u001b[39m     \u001b[38;5;28;01mreturn\u001b[39;00m \u001b[38;5;28mdict\u001b[39m(\u001b[38;5;28mlist\u001b[39m(\u001b[38;5;28mzip\u001b[39m(keys, values)))\n",
      "\u001b[36mFile \u001b[39m\u001b[32mc:\\Users\\matth\\AppData\\Local\\Programs\\Python\\Python313\\Lib\\xml\\dom\\minidom.py:921\u001b[39m, in \u001b[36mElement._get_attributes\u001b[39m\u001b[34m(self)\u001b[39m\n\u001b[32m    919\u001b[39m \u001b[38;5;28;01mdef\u001b[39;00m\u001b[38;5;250m \u001b[39m\u001b[34m_get_attributes\u001b[39m(\u001b[38;5;28mself\u001b[39m):\n\u001b[32m    920\u001b[39m     \u001b[38;5;28mself\u001b[39m._ensure_attributes()\n\u001b[32m--> \u001b[39m\u001b[32m921\u001b[39m     \u001b[38;5;28;01mreturn\u001b[39;00m \u001b[43mNamedNodeMap\u001b[49m\u001b[43m(\u001b[49m\u001b[38;5;28;43mself\u001b[39;49m\u001b[43m.\u001b[49m\u001b[43m_attrs\u001b[49m\u001b[43m,\u001b[49m\u001b[43m \u001b[49m\u001b[38;5;28;43mself\u001b[39;49m\u001b[43m.\u001b[49m\u001b[43m_attrsNS\u001b[49m\u001b[43m,\u001b[49m\u001b[43m \u001b[49m\u001b[38;5;28;43mself\u001b[39;49m\u001b[43m)\u001b[49m\n",
      "\u001b[31mKeyboardInterrupt\u001b[39m: "
     ]
    }
   ],
   "source": [
    "labels = [\"cat\"]\n",
    "\n",
    "training_data = QuickDrawDataset(\n",
    "    labels=labels,\n",
    ")\n",
    "\n",
    "tokenizer = AbsolutePenPositionTokenizer(bins=64)\n",
    "\n",
    "class SketchDataset(Dataset):\n",
    "    def __init__(self, svg_list, tokenizer, max_len=200):\n",
    "        self.data = []\n",
    "        self.tokenizer = tokenizer\n",
    "        self.max_len = max_len\n",
    "        self.pad_id = tokenizer.vocab[\"PAD\"]\n",
    "\n",
    "        for svg in tqdm(svg_list, desc=\"Tokenizing SVGs\"):\n",
    "            tokens = tokenizer.encode(svg)\n",
    "            # Truncate + Pad\n",
    "            tokens = tokens[:max_len]\n",
    "            tokens = tokens + [self.pad_id] * (max_len - len(tokens))\n",
    "            self.data.append(tokens)\n",
    "\n",
    "    def __getitem__(self, idx):\n",
    "        seq = self.data[idx]\n",
    "        input_ids = torch.tensor(seq[:-1])\n",
    "        target_ids = torch.tensor(seq[1:])\n",
    "        return input_ids, target_ids\n",
    "    \n",
    "    def __len__(self):\n",
    "        return len(self.data)\n",
    "    \n",
    "dataset = SketchDataset(training_data, tokenizer, max_len=200)"
   ]
  },
  {
   "cell_type": "code",
   "execution_count": 9,
   "id": "a5d81d15",
   "metadata": {},
   "outputs": [
    {
     "ename": "NameError",
     "evalue": "name 'dataset' is not defined",
     "output_type": "error",
     "traceback": [
      "\u001b[31m---------------------------------------------------------------------------\u001b[39m",
      "\u001b[31mNameError\u001b[39m                                 Traceback (most recent call last)",
      "\u001b[36mCell\u001b[39m\u001b[36m \u001b[39m\u001b[32mIn[9]\u001b[39m\u001b[32m, line 66\u001b[39m\n\u001b[32m     61\u001b[39m             total_loss += loss.item()\n\u001b[32m     63\u001b[39m         \u001b[38;5;28mprint\u001b[39m(\u001b[33mf\u001b[39m\u001b[33m\"\u001b[39m\u001b[33mEpoch \u001b[39m\u001b[38;5;132;01m{\u001b[39;00mepoch+\u001b[32m1\u001b[39m\u001b[38;5;132;01m}\u001b[39;00m\u001b[33m Loss: \u001b[39m\u001b[38;5;132;01m{\u001b[39;00mtotal_loss/\u001b[38;5;28mlen\u001b[39m(dataloader)\u001b[38;5;132;01m:\u001b[39;00m\u001b[33m.4f\u001b[39m\u001b[38;5;132;01m}\u001b[39;00m\u001b[33m\"\u001b[39m)\n\u001b[32m---> \u001b[39m\u001b[32m66\u001b[39m dataloader = DataLoader(\u001b[43mdataset\u001b[49m, batch_size=\u001b[32m128\u001b[39m, shuffle=\u001b[38;5;28;01mTrue\u001b[39;00m, pin_memory=\u001b[38;5;28;01mTrue\u001b[39;00m)\n\u001b[32m     67\u001b[39m model = SketchTransformer(vocab_size=\u001b[38;5;28mlen\u001b[39m(tokenizer.vocab), d_model=\u001b[32m256\u001b[39m, nhead=\u001b[32m8\u001b[39m, num_layers=\u001b[32m6\u001b[39m)\n\u001b[32m     68\u001b[39m train_model(model, dataloader, vocab_size=\u001b[38;5;28mlen\u001b[39m(tokenizer.vocab), epochs=\u001b[32m40\u001b[39m, lr=\u001b[32m1e-4\u001b[39m, device=device)\n",
      "\u001b[31mNameError\u001b[39m: name 'dataset' is not defined"
     ]
    }
   ],
   "source": [
    "def generate_square_subsequent_mask(sz: int):\n",
    "    \"\"\"Causal mask to stop attention to future positions\"\"\"\n",
    "    return torch.triu(torch.ones(sz, sz), diagonal=1).bool()\n",
    "\n",
    "class SketchTransformer(nn.Module):\n",
    "    def __init__(self, vocab_size, d_model=256, nhead=8, num_layers=6, max_len=200):\n",
    "        super().__init__()\n",
    "        self.vocab_size = vocab_size\n",
    "        self.d_model = d_model\n",
    "        self.max_len = max_len\n",
    "\n",
    "        self.embed = nn.Embedding(vocab_size, d_model)\n",
    "        self.pos_embed = nn.Embedding(max_len, d_model)\n",
    "\n",
    "        encoder_layer = nn.TransformerEncoderLayer(\n",
    "            d_model=d_model, nhead=nhead, dim_feedforward=4*d_model\n",
    "        )\n",
    "        self.transformer = nn.TransformerEncoder(encoder_layer, num_layers=num_layers)\n",
    "\n",
    "        self.fc_out = nn.Linear(d_model, vocab_size)\n",
    "\n",
    "    def forward(self, x):\n",
    "        \"\"\"\n",
    "        x: (batch, seq_len) input tokens\n",
    "        Returns: (batch, seq_len, vocab_size) logits\n",
    "        \"\"\"\n",
    "        batch_size, seq_len = x.shape\n",
    "        positions = torch.arange(0, seq_len, device=x.device).unsqueeze(0)\n",
    "\n",
    "        x = self.embed(x) + self.pos_embed(positions)  # (batch, seq_len, d_model)\n",
    "        x = x.transpose(0, 1)  # -> (seq_len, batch, d_model)\n",
    "\n",
    "        # causal mask (seq_len, seq_len)\n",
    "        mask = generate_square_subsequent_mask(seq_len).to(x.device)\n",
    "\n",
    "        x = self.transformer(x, mask=mask)  # (seq_len, batch, d_model)\n",
    "        x = x.transpose(0, 1)  # back to (batch, seq_len, d_model)\n",
    "\n",
    "        logits = self.fc_out(x)  # (batch, seq_len, vocab_size)\n",
    "        return logits\n",
    "    \n",
    "def train_model(model, dataloader, vocab_size, epochs=10, lr=1e-4, device=\"cuda\"):\n",
    "    model = model.to(device)\n",
    "    optimizer = torch.optim.AdamW(model.parameters(), lr=lr)\n",
    "    criterion = nn.CrossEntropyLoss(ignore_index=0)  # ignore pad token\n",
    "\n",
    "    for epoch in range(epochs):\n",
    "        model.train()\n",
    "        total_loss = 0\n",
    "        for input_ids, target_ids in tqdm(dataloader, desc=f\"Epoch {epoch+1}/{epochs}\"):\n",
    "            input_ids, target_ids = input_ids.to(device), target_ids.to(device)\n",
    "\n",
    "            # Transformer expects shape (seq_len, batch, d_model)\n",
    "            logits = model(input_ids)  # (seq_len, batch, vocab_size)\n",
    "            loss = criterion(logits.view(-1, vocab_size), target_ids.view(-1))\n",
    "\n",
    "            optimizer.zero_grad()\n",
    "            loss.backward()\n",
    "            optimizer.step()\n",
    "\n",
    "            total_loss += loss.item()\n",
    "\n",
    "        print(f\"Epoch {epoch+1} Loss: {total_loss/len(dataloader):.4f}\")\n",
    "\n",
    "\n",
    "dataloader = DataLoader(dataset, batch_size=128, shuffle=True, pin_memory=True)\n",
    "model = SketchTransformer(vocab_size=len(tokenizer.vocab), d_model=256, nhead=8, num_layers=6)\n",
    "train_model(model, dataloader, vocab_size=len(tokenizer.vocab), epochs=40, lr=1e-4, device=device)"
   ]
  },
  {
   "cell_type": "code",
   "execution_count": 13,
   "id": "46a32060",
   "metadata": {},
   "outputs": [],
   "source": [
    "# save the model\n",
    "torch.save(model, \"sketch_transformer.pth\")"
   ]
  },
  {
   "cell_type": "code",
   "execution_count": null,
   "id": "97b7ba66",
   "metadata": {},
   "outputs": [
    {
     "name": "stdout",
     "output_type": "stream",
     "text": [
      "Generated token sequence: [4098, 4096, 910, 843, 897, 960, 1088, 1152, 1153, 1354, 4096, 1418, 1610, 2056, 2440, 2569, 4096, 2894, 3209, 3461, 3846, 3717, 3786, 3856, 4096, 845, 657, 790, 796, 868, 1063, 1324, 1647, 2225, 2670, 3050, 3236, 3359, 3414, 4096, 1489, 1364, 1497, 4096, 2450, 2456, 4096, 2012, 1950, 1824, 1824, 2016, 2080, 2079, 4096, 2014, 1825, 1635, 1636, 4096, 2015, 2019, 2148, 2469, 4096, 2080, 2082, 2149, 2277, 4096, 2783, 4061, 4096, 2784, 3747, 4096, 2788, 2987, 4096, 992, 477, 26, 4096, 1188, 677, 4096, 1190, 811, 361, 4096, 1257, 942, 4099]\n",
      "Decoded sketch: <svg viewBox=\"0 0 64 64\"><g stroke-width=\"0.8\">\n",
      "<path d=\"M 14 14 L 13 11 L 14 1 L 15 0 L 17 0 L 18 0 L 18 1 L 21 10\" stroke=\"black\" fill=\"none\"/>\n",
      "<path d=\"M 22 10 L 25 10 L 32 8 L 38 8 L 40 9\" stroke=\"black\" fill=\"none\"/>\n",
      "<path d=\"M 45 14 L 50 9 L 54 5 L 60 6 L 58 5 L 59 10 L 60 16\" stroke=\"black\" fill=\"none\"/>\n",
      "<path d=\"M 13 13 L 10 17 L 12 22 L 12 28 L 13 36 L 16 39 L 20 44 L 25 47 L 34 49 L 41 46 L 47 42 L 50 36 L 52 31 L 53 22\" stroke=\"black\" fill=\"none\"/>\n",
      "<path d=\"M 23 17 L 21 20 L 23 25\" stroke=\"black\" fill=\"none\"/>\n",
      "<path d=\"M 38 18 L 38 24\" stroke=\"black\" fill=\"none\"/>\n",
      "<path d=\"M 31 28 L 30 30 L 28 32 L 28 32 L 31 32 L 32 32 L 32 31\" stroke=\"black\" fill=\"none\"/>\n",
      "<path d=\"M 31 30 L 28 33 L 25 35 L 25 36\" stroke=\"black\" fill=\"none\"/>\n",
      "<path d=\"M 31 31 L 31 35 L 33 36 L 38 37\" stroke=\"black\" fill=\"none\"/>\n",
      "<path d=\"M 32 32 L 32 34 L 33 37 L 35 37\" stroke=\"black\" fill=\"none\"/>\n",
      "<path d=\"M 43 31 L 63 29\" stroke=\"black\" fill=\"none\"/>\n",
      "<path d=\"M 43 32 L 58 35\" stroke=\"black\" fill=\"none\"/>\n",
      "<path d=\"M 43 36 L 46 43\" stroke=\"black\" fill=\"none\"/>\n",
      "<path d=\"M 15 32 L 7 29 L 0 26\" stroke=\"black\" fill=\"none\"/>\n",
      "<path d=\"M 18 36 L 10 37\" stroke=\"black\" fill=\"none\"/>\n",
      "<path d=\"M 18 38 L 12 43 L 5 41\" stroke=\"black\" fill=\"none\"/>\n",
      "<path d=\"M 19 41 L 14 46\" stroke=\"black\" fill=\"none\"/>\n",
      "</g></svg>\n"
     ]
    },
    {
     "data": {
      "text/html": [
       "<div style=\"display:inline-block; width: 150px; background-color: white; margin-right:10px;\"><b>Generated</b><br><svg viewBox=\"0 0 64 64\"><g stroke-width=\"0.8\">\n",
       "<path d=\"M 14 14 L 13 11 L 14 1 L 15 0 L 17 0 L 18 0 L 18 1 L 21 10\" stroke=\"black\" fill=\"none\"/>\n",
       "<path d=\"M 22 10 L 25 10 L 32 8 L 38 8 L 40 9\" stroke=\"black\" fill=\"none\"/>\n",
       "<path d=\"M 45 14 L 50 9 L 54 5 L 60 6 L 58 5 L 59 10 L 60 16\" stroke=\"black\" fill=\"none\"/>\n",
       "<path d=\"M 13 13 L 10 17 L 12 22 L 12 28 L 13 36 L 16 39 L 20 44 L 25 47 L 34 49 L 41 46 L 47 42 L 50 36 L 52 31 L 53 22\" stroke=\"black\" fill=\"none\"/>\n",
       "<path d=\"M 23 17 L 21 20 L 23 25\" stroke=\"black\" fill=\"none\"/>\n",
       "<path d=\"M 38 18 L 38 24\" stroke=\"black\" fill=\"none\"/>\n",
       "<path d=\"M 31 28 L 30 30 L 28 32 L 28 32 L 31 32 L 32 32 L 32 31\" stroke=\"black\" fill=\"none\"/>\n",
       "<path d=\"M 31 30 L 28 33 L 25 35 L 25 36\" stroke=\"black\" fill=\"none\"/>\n",
       "<path d=\"M 31 31 L 31 35 L 33 36 L 38 37\" stroke=\"black\" fill=\"none\"/>\n",
       "<path d=\"M 32 32 L 32 34 L 33 37 L 35 37\" stroke=\"black\" fill=\"none\"/>\n",
       "<path d=\"M 43 31 L 63 29\" stroke=\"black\" fill=\"none\"/>\n",
       "<path d=\"M 43 32 L 58 35\" stroke=\"black\" fill=\"none\"/>\n",
       "<path d=\"M 43 36 L 46 43\" stroke=\"black\" fill=\"none\"/>\n",
       "<path d=\"M 15 32 L 7 29 L 0 26\" stroke=\"black\" fill=\"none\"/>\n",
       "<path d=\"M 18 36 L 10 37\" stroke=\"black\" fill=\"none\"/>\n",
       "<path d=\"M 18 38 L 12 43 L 5 41\" stroke=\"black\" fill=\"none\"/>\n",
       "<path d=\"M 19 41 L 14 46\" stroke=\"black\" fill=\"none\"/>\n",
       "</g></svg></div>"
      ],
      "text/plain": [
       "<IPython.core.display.HTML object>"
      ]
     },
     "metadata": {},
     "output_type": "display_data"
    }
   ],
   "source": [
    "# model = torch.load(\"sketch_transformer.pth\", map_location=device, weights_only=False)\n",
    "\n",
    "def sample_sequence(model, start_token, max_len=200, temperature=1.0, greedy=False, eos_id=None, device=\"cuda\"):\n",
    "    model.eval()\n",
    "    \n",
    "    tokens = [start_token]\n",
    "    tokens_tensor = torch.tensor([tokens], device=device)  # (1, 1)\n",
    "\n",
    "    for _ in range(max_len - 1):\n",
    "        with torch.no_grad():\n",
    "            logits = model(tokens_tensor)  # (batch=1, seq_len, vocab_size)\n",
    "            next_logits = logits[:, -1, :] / temperature  # take last step\n",
    "            probs = F.softmax(next_logits, dim=-1)\n",
    "\n",
    "            if greedy:\n",
    "                next_token = torch.argmax(probs, dim=-1).item()\n",
    "            else:\n",
    "                next_token = torch.multinomial(probs, num_samples=1).item()\n",
    "\n",
    "        tokens.append(next_token)\n",
    "\n",
    "        # stop if EOS reached\n",
    "        if eos_id is not None and next_token == eos_id:\n",
    "            break\n",
    "\n",
    "        next_token_tensor = torch.tensor([[next_token]], device=device)\n",
    "        tokens_tensor = torch.cat([tokens_tensor, next_token_tensor], dim=1)\n",
    "\n",
    "    return tokens\n",
    "\n",
    "\n",
    "start_token = tokenizer.vocab[\"START\"]\n",
    "eos_token = tokenizer.vocab.get(\"END\", None)\n",
    "\n",
    "generated = sample_sequence(\n",
    "    model, \n",
    "    start_token, \n",
    "    max_len=200, \n",
    "    temperature=0.5, \n",
    "    greedy=False, \n",
    "    eos_id=eos_token, \n",
    "    device=device\n",
    ")\n",
    "\n",
    "print(\"Generated token sequence:\", generated)\n",
    "decoded_sketch = tokenizer.decode(generated)\n",
    "print(\"Decoded sketch:\", decoded_sketch)\n",
    "\n",
    "from IPython.display import HTML, display\n",
    "\n",
    "display(HTML(f'<div style=\"display:inline-block; width: 150px; background-color: white; margin-right:10px;\"><b>Generated</b><br>{decoded_sketch}</div>'))"
   ]
  }
 ],
 "metadata": {
  "kernelspec": {
   "display_name": "Python 3",
   "language": "python",
   "name": "python3"
  },
  "language_info": {
   "codemirror_mode": {
    "name": "ipython",
    "version": 3
   },
   "file_extension": ".py",
   "mimetype": "text/x-python",
   "name": "python",
   "nbconvert_exporter": "python",
   "pygments_lexer": "ipython3",
   "version": "3.13.7"
  }
 },
 "nbformat": 4,
 "nbformat_minor": 5
}
