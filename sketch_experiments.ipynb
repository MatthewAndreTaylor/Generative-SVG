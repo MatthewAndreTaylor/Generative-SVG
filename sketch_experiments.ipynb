{
 "cells": [
  {
   "cell_type": "code",
   "execution_count": null,
   "id": "651fca9d",
   "metadata": {},
   "outputs": [],
   "source": [
    "import torch\n",
    "import torch.nn as nn\n",
    "import torch.nn.functional as F\n",
    "from torch.utils.data import Dataset\n",
    "from torch.utils.data import DataLoader\n",
    "\n",
    "from dataset import QuickDrawDataset\n",
    "from utils import AbsolutePenPositionTokenizer\n",
    "from tqdm import tqdm\n",
    "import pickle"
   ]
  },
  {
   "cell_type": "code",
   "execution_count": null,
   "id": "d0c0017c",
   "metadata": {},
   "outputs": [
    {
     "name": "stdout",
     "output_type": "stream",
     "text": [
      "Using device: cuda\n"
     ]
    }
   ],
   "source": [
    "device = torch.device(\"cuda\" if torch.cuda.is_available() else \"cpu\")\n",
    "print(\"Using device:\", device)\n",
    "\n",
    "seed = 42\n",
    "torch.manual_seed(seed)\n",
    "if device == \"cuda\":\n",
    "    torch.cuda.manual_seed_all(seed)"
   ]
  },
  {
   "cell_type": "code",
   "execution_count": 3,
   "id": "2d0dd2b3",
   "metadata": {},
   "outputs": [
    {
     "name": "stderr",
     "output_type": "stream",
     "text": [
      "Loading QuickDraw files: 100%|██████████| 1/1 [00:03<00:00,  3.18s/it]\n"
     ]
    },
    {
     "name": "stdout",
     "output_type": "stream",
     "text": [
      "Loaded tokenized data from sketch_tokenized_dataset.pkl\n"
     ]
    }
   ],
   "source": [
    "labels = [\"cat\"]\n",
    "\n",
    "training_data = QuickDrawDataset(\n",
    "    labels=labels,\n",
    ")\n",
    "\n",
    "tokenizer = AbsolutePenPositionTokenizer(bins=64)\n",
    "\n",
    "class SketchDataset(Dataset):\n",
    "    def __init__(self, svg_list, tokenizer, max_len=200, cache_file=\"sketch_tokenized_dataset.pkl\"):\n",
    "        self.data = []\n",
    "        self.tokenizer = tokenizer\n",
    "        self.max_len = max_len\n",
    "        self.pad_id = tokenizer.vocab[\"PAD\"]\n",
    "        \n",
    "        # Try to load from cache\n",
    "        try:\n",
    "            with open(cache_file, \"rb\") as f:\n",
    "                self.data = pickle.load(f)\n",
    "            print(f\"Loaded tokenized data from {cache_file}\")\n",
    "        except FileNotFoundError:\n",
    "            for svg in tqdm(svg_list, desc=\"Tokenizing SVGs\"):\n",
    "                tokens = tokenizer.encode(svg)\n",
    "                # Truncate + Pad\n",
    "                tokens = tokens[:max_len]\n",
    "                tokens = tokens + [self.pad_id] * (max_len - len(tokens))\n",
    "                self.data.append(tokens)\n",
    "                \n",
    "            # Save to cache\n",
    "            with open(cache_file, \"wb\") as f:\n",
    "                pickle.dump(self.data, f)\n",
    "            print(f\"Saved tokenized data to {cache_file}\")\n",
    "\n",
    "    def __getitem__(self, idx):\n",
    "        seq = self.data[idx]\n",
    "        input_ids = torch.tensor(seq[:-1])\n",
    "        target_ids = torch.tensor(seq[1:])\n",
    "        return input_ids, target_ids\n",
    "    \n",
    "    def __len__(self):\n",
    "        return len(self.data)\n",
    "    \n",
    "dataset = SketchDataset(training_data, tokenizer, max_len=200)"
   ]
  },
  {
   "cell_type": "code",
   "execution_count": 4,
   "id": "a5d81d15",
   "metadata": {},
   "outputs": [
    {
     "name": "stderr",
     "output_type": "stream",
     "text": [
      "c:\\Users\\matth\\AppData\\Local\\Programs\\Python\\Python313\\Lib\\site-packages\\torch\\nn\\modules\\transformer.py:392: UserWarning: enable_nested_tensor is True, but self.use_nested_tensor is False because encoder_layer.self_attn.batch_first was not True(use batch_first for better inference performance)\n",
      "  warnings.warn(\n",
      "Epoch 1/40: 100%|██████████| 403/403 [01:32<00:00,  4.35it/s]\n"
     ]
    },
    {
     "name": "stdout",
     "output_type": "stream",
     "text": [
      "Epoch 1 Loss: 1.5214\n"
     ]
    },
    {
     "name": "stderr",
     "output_type": "stream",
     "text": [
      "Epoch 2/40: 100%|██████████| 403/403 [01:32<00:00,  4.34it/s]\n"
     ]
    },
    {
     "name": "stdout",
     "output_type": "stream",
     "text": [
      "Epoch 2 Loss: 1.5168\n"
     ]
    },
    {
     "name": "stderr",
     "output_type": "stream",
     "text": [
      "Epoch 3/40: 100%|██████████| 403/403 [01:33<00:00,  4.33it/s]\n"
     ]
    },
    {
     "name": "stdout",
     "output_type": "stream",
     "text": [
      "Epoch 3 Loss: 1.5133\n"
     ]
    },
    {
     "name": "stderr",
     "output_type": "stream",
     "text": [
      "Epoch 4/40: 100%|██████████| 403/403 [01:33<00:00,  4.33it/s]\n"
     ]
    },
    {
     "name": "stdout",
     "output_type": "stream",
     "text": [
      "Epoch 4 Loss: 1.5097\n"
     ]
    },
    {
     "name": "stderr",
     "output_type": "stream",
     "text": [
      "Epoch 5/40: 100%|██████████| 403/403 [01:33<00:00,  4.32it/s]\n"
     ]
    },
    {
     "name": "stdout",
     "output_type": "stream",
     "text": [
      "Epoch 5 Loss: 1.5065\n"
     ]
    },
    {
     "name": "stderr",
     "output_type": "stream",
     "text": [
      "Epoch 6/40: 100%|██████████| 403/403 [01:33<00:00,  4.31it/s]\n"
     ]
    },
    {
     "name": "stdout",
     "output_type": "stream",
     "text": [
      "Epoch 6 Loss: 1.5036\n"
     ]
    },
    {
     "name": "stderr",
     "output_type": "stream",
     "text": [
      "Epoch 7/40:   3%|▎         | 14/403 [00:03<01:36,  4.01it/s]\n"
     ]
    },
    {
     "ename": "KeyboardInterrupt",
     "evalue": "",
     "output_type": "error",
     "traceback": [
      "\u001b[31m---------------------------------------------------------------------------\u001b[39m",
      "\u001b[31mKeyboardInterrupt\u001b[39m                         Traceback (most recent call last)",
      "\u001b[36mCell\u001b[39m\u001b[36m \u001b[39m\u001b[32mIn[4]\u001b[39m\u001b[32m, line 70\u001b[39m\n\u001b[32m     67\u001b[39m model = SketchTransformer(vocab_size=\u001b[38;5;28mlen\u001b[39m(tokenizer.vocab), d_model=\u001b[32m256\u001b[39m, nhead=\u001b[32m8\u001b[39m, num_layers=\u001b[32m6\u001b[39m)\n\u001b[32m     68\u001b[39m model = torch.load(\u001b[33m\"\u001b[39m\u001b[33msketch_transformer_cat_checkpoint0.pth\u001b[39m\u001b[33m\"\u001b[39m, weights_only=\u001b[38;5;28;01mFalse\u001b[39;00m)\n\u001b[32m---> \u001b[39m\u001b[32m70\u001b[39m \u001b[43mtrain_model\u001b[49m\u001b[43m(\u001b[49m\u001b[43mmodel\u001b[49m\u001b[43m,\u001b[49m\u001b[43m \u001b[49m\u001b[43mdataloader\u001b[49m\u001b[43m,\u001b[49m\u001b[43m \u001b[49m\u001b[43mvocab_size\u001b[49m\u001b[43m=\u001b[49m\u001b[38;5;28;43mlen\u001b[39;49m\u001b[43m(\u001b[49m\u001b[43mtokenizer\u001b[49m\u001b[43m.\u001b[49m\u001b[43mvocab\u001b[49m\u001b[43m)\u001b[49m\u001b[43m,\u001b[49m\u001b[43m \u001b[49m\u001b[43mepochs\u001b[49m\u001b[43m=\u001b[49m\u001b[32;43m40\u001b[39;49m\u001b[43m,\u001b[49m\u001b[43m \u001b[49m\u001b[43mlr\u001b[49m\u001b[43m=\u001b[49m\u001b[32;43m1e-4\u001b[39;49m\u001b[43m,\u001b[49m\u001b[43m \u001b[49m\u001b[43mdevice\u001b[49m\u001b[43m=\u001b[49m\u001b[43mdevice\u001b[49m\u001b[43m)\u001b[49m\n",
      "\u001b[36mCell\u001b[39m\u001b[36m \u001b[39m\u001b[32mIn[4]\u001b[39m\u001b[32m, line 61\u001b[39m, in \u001b[36mtrain_model\u001b[39m\u001b[34m(model, dataloader, vocab_size, epochs, lr, device)\u001b[39m\n\u001b[32m     58\u001b[39m     loss.backward()\n\u001b[32m     59\u001b[39m     optimizer.step()\n\u001b[32m---> \u001b[39m\u001b[32m61\u001b[39m     total_loss += \u001b[43mloss\u001b[49m\u001b[43m.\u001b[49m\u001b[43mitem\u001b[49m\u001b[43m(\u001b[49m\u001b[43m)\u001b[49m\n\u001b[32m     63\u001b[39m \u001b[38;5;28mprint\u001b[39m(\u001b[33mf\u001b[39m\u001b[33m\"\u001b[39m\u001b[33mEpoch \u001b[39m\u001b[38;5;132;01m{\u001b[39;00mepoch+\u001b[32m1\u001b[39m\u001b[38;5;132;01m}\u001b[39;00m\u001b[33m Loss: \u001b[39m\u001b[38;5;132;01m{\u001b[39;00mtotal_loss/\u001b[38;5;28mlen\u001b[39m(dataloader)\u001b[38;5;132;01m:\u001b[39;00m\u001b[33m.4f\u001b[39m\u001b[38;5;132;01m}\u001b[39;00m\u001b[33m\"\u001b[39m)\n",
      "\u001b[31mKeyboardInterrupt\u001b[39m: "
     ]
    }
   ],
   "source": [
    "def generate_square_subsequent_mask(sz: int):\n",
    "    \"\"\"Causal mask to stop attention to future positions\"\"\"\n",
    "    return torch.triu(torch.ones(sz, sz), diagonal=1).bool()\n",
    "\n",
    "class SketchTransformer(nn.Module):\n",
    "    def __init__(self, vocab_size, d_model=256, nhead=8, num_layers=6, max_len=200):\n",
    "        super().__init__()\n",
    "        self.vocab_size = vocab_size\n",
    "        self.d_model = d_model\n",
    "        self.max_len = max_len\n",
    "\n",
    "        self.embed = nn.Embedding(vocab_size, d_model)\n",
    "        self.pos_embed = nn.Embedding(max_len, d_model)\n",
    "\n",
    "        encoder_layer = nn.TransformerEncoderLayer(\n",
    "            d_model=d_model, nhead=nhead, dim_feedforward=4*d_model\n",
    "        )\n",
    "        self.transformer = nn.TransformerEncoder(encoder_layer, num_layers=num_layers)\n",
    "\n",
    "        self.fc_out = nn.Linear(d_model, vocab_size)\n",
    "\n",
    "    def forward(self, x):\n",
    "        \"\"\"\n",
    "        x: (batch, seq_len) input tokens\n",
    "        Returns: (batch, seq_len, vocab_size) logits\n",
    "        \"\"\"\n",
    "        batch_size, seq_len = x.shape\n",
    "        positions = torch.arange(0, seq_len, device=x.device).unsqueeze(0)\n",
    "\n",
    "        x = self.embed(x) + self.pos_embed(positions)  # (batch, seq_len, d_model)\n",
    "        x = x.transpose(0, 1)  # -> (seq_len, batch, d_model)\n",
    "\n",
    "        # causal mask (seq_len, seq_len)\n",
    "        mask = generate_square_subsequent_mask(seq_len).to(x.device)\n",
    "\n",
    "        x = self.transformer(x, mask=mask)  # (seq_len, batch, d_model)\n",
    "        x = x.transpose(0, 1)  # back to (batch, seq_len, d_model)\n",
    "\n",
    "        logits = self.fc_out(x)  # (batch, seq_len, vocab_size)\n",
    "        return logits\n",
    "    \n",
    "def train_model(model, dataloader, vocab_size, epochs=10, lr=1e-4, device=\"cuda\"):\n",
    "    model = model.to(device)\n",
    "    optimizer = torch.optim.AdamW(model.parameters(), lr=lr)\n",
    "    criterion = nn.CrossEntropyLoss(ignore_index=0)  # ignore pad token\n",
    "\n",
    "    for epoch in range(epochs):\n",
    "        model.train()\n",
    "        total_loss = 0\n",
    "        for input_ids, target_ids in tqdm(dataloader, desc=f\"Epoch {epoch+1}/{epochs}\"):\n",
    "            input_ids, target_ids = input_ids.to(device), target_ids.to(device)\n",
    "\n",
    "            # Transformer expects shape (seq_len, batch, d_model)\n",
    "            logits = model(input_ids)  # (seq_len, batch, vocab_size)\n",
    "            loss = criterion(logits.view(-1, vocab_size), target_ids.view(-1))\n",
    "\n",
    "            optimizer.zero_grad()\n",
    "            loss.backward()\n",
    "            optimizer.step()\n",
    "\n",
    "            total_loss += loss.item()\n",
    "\n",
    "        print(f\"Epoch {epoch+1} Loss: {total_loss/len(dataloader):.4f}\")\n",
    "\n",
    "\n",
    "dataloader = DataLoader(dataset, batch_size=256, shuffle=True, pin_memory=True)\n",
    "model = SketchTransformer(vocab_size=len(tokenizer.vocab), d_model=256, nhead=8, num_layers=6)\n",
    "model = torch.load(\"sketch_transformer_cat_checkpoint0.pth\", weights_only=False)\n",
    "\n",
    "train_model(model, dataloader, vocab_size=len(tokenizer.vocab), epochs=40, lr=1e-4, device=device)"
   ]
  },
  {
   "cell_type": "code",
   "execution_count": null,
   "id": "46a32060",
   "metadata": {},
   "outputs": [],
   "source": [
    "# save the model\n",
    "torch.save(model, \"sketch_transformer_cat_checkpoint1.pth\")"
   ]
  },
  {
   "cell_type": "code",
   "execution_count": null,
   "id": "97b7ba66",
   "metadata": {},
   "outputs": [
    {
     "name": "stdout",
     "output_type": "stream",
     "text": [
      "Generated token sequence: [4098, 4096, 907, 1344, 1411, 1548, 4096, 1354, 2250, 4096, 2314, 2437, 2624, 2951, 4096, 780, 527, 404, 537, 861, 1312, 1632, 2079, 2333, 2650, 2902, 3088, 3020, 2887, 4096, 1360, 1297, 4096, 2000, 2065, 4096, 1429, 1558, 1749, 1879, 1942, 4096, 1365, 18, 4096, 1111, 793, 29, 4096, 1306, 1114, 735, 4096, 2582, 4050, 4096, 2584, 3929, 4096, 2393, 3614, 4099]\n",
      "Decoded sketch: <svg viewBox=\"0 0 64 64\"><g stroke-width=\"0.8\">\n",
      "<path d=\"M 14 11 L 21 0 L 22 3 L 24 12\" stroke=\"black\" fill=\"none\"/>\n",
      "<path d=\"M 21 10 L 35 10\" stroke=\"black\" fill=\"none\"/>\n",
      "<path d=\"M 36 10 L 38 5 L 41 0 L 46 7\" stroke=\"black\" fill=\"none\"/>\n",
      "<path d=\"M 12 12 L 8 15 L 6 20 L 8 25 L 13 29 L 20 32 L 25 32 L 32 31 L 36 29 L 41 26 L 45 22 L 48 16 L 47 12 L 45 7\" stroke=\"black\" fill=\"none\"/>\n",
      "<path d=\"M 21 16 L 20 17\" stroke=\"black\" fill=\"none\"/>\n",
      "<path d=\"M 31 16 L 32 17\" stroke=\"black\" fill=\"none\"/>\n",
      "<path d=\"M 22 21 L 24 22 L 27 21 L 29 23 L 30 22\" stroke=\"black\" fill=\"none\"/>\n",
      "<path d=\"M 21 21 L 0 18\" stroke=\"black\" fill=\"none\"/>\n",
      "<path d=\"M 17 23 L 12 25 L 0 29\" stroke=\"black\" fill=\"none\"/>\n",
      "<path d=\"M 20 26 L 17 26 L 11 31\" stroke=\"black\" fill=\"none\"/>\n",
      "<path d=\"M 40 22 L 63 18\" stroke=\"black\" fill=\"none\"/>\n",
      "<path d=\"M 40 24 L 61 25\" stroke=\"black\" fill=\"none\"/>\n",
      "<path d=\"M 37 25 L 56 30\" stroke=\"black\" fill=\"none\"/>\n",
      "</g></svg>\n"
     ]
    },
    {
     "data": {
      "text/html": [
       "<div style=\"display:inline-block; width: 150px; background-color: white; margin-right:10px;\"><b>Generated</b><br><svg viewBox=\"0 0 64 64\"><g stroke-width=\"0.8\">\n",
       "<path d=\"M 14 11 L 21 0 L 22 3 L 24 12\" stroke=\"black\" fill=\"none\"/>\n",
       "<path d=\"M 21 10 L 35 10\" stroke=\"black\" fill=\"none\"/>\n",
       "<path d=\"M 36 10 L 38 5 L 41 0 L 46 7\" stroke=\"black\" fill=\"none\"/>\n",
       "<path d=\"M 12 12 L 8 15 L 6 20 L 8 25 L 13 29 L 20 32 L 25 32 L 32 31 L 36 29 L 41 26 L 45 22 L 48 16 L 47 12 L 45 7\" stroke=\"black\" fill=\"none\"/>\n",
       "<path d=\"M 21 16 L 20 17\" stroke=\"black\" fill=\"none\"/>\n",
       "<path d=\"M 31 16 L 32 17\" stroke=\"black\" fill=\"none\"/>\n",
       "<path d=\"M 22 21 L 24 22 L 27 21 L 29 23 L 30 22\" stroke=\"black\" fill=\"none\"/>\n",
       "<path d=\"M 21 21 L 0 18\" stroke=\"black\" fill=\"none\"/>\n",
       "<path d=\"M 17 23 L 12 25 L 0 29\" stroke=\"black\" fill=\"none\"/>\n",
       "<path d=\"M 20 26 L 17 26 L 11 31\" stroke=\"black\" fill=\"none\"/>\n",
       "<path d=\"M 40 22 L 63 18\" stroke=\"black\" fill=\"none\"/>\n",
       "<path d=\"M 40 24 L 61 25\" stroke=\"black\" fill=\"none\"/>\n",
       "<path d=\"M 37 25 L 56 30\" stroke=\"black\" fill=\"none\"/>\n",
       "</g></svg></div>"
      ],
      "text/plain": [
       "<IPython.core.display.HTML object>"
      ]
     },
     "metadata": {},
     "output_type": "display_data"
    }
   ],
   "source": [
    "# model = torch.load(\"sketch_transformer.pth\", map_location=device, weights_only=False)\n",
    "\n",
    "def sample_sequence(model, start_token, max_len=200, temperature=1.0, greedy=False, eos_id=None, device=\"cuda\"):\n",
    "    model.eval()\n",
    "    \n",
    "    tokens = [start_token]\n",
    "    tokens_tensor = torch.tensor([tokens], device=device)  # (1, 1)\n",
    "\n",
    "    for _ in range(max_len - 1):\n",
    "        with torch.no_grad():\n",
    "            logits = model(tokens_tensor)  # (batch=1, seq_len, vocab_size)\n",
    "            next_logits = logits[:, -1, :] / temperature  # take last step\n",
    "            probs = F.softmax(next_logits, dim=-1)\n",
    "\n",
    "            if greedy:\n",
    "                next_token = torch.argmax(probs, dim=-1).item()\n",
    "            else:\n",
    "                next_token = torch.multinomial(probs, num_samples=1).item()\n",
    "\n",
    "        tokens.append(next_token)\n",
    "\n",
    "        # stop if EOS reached\n",
    "        if eos_id is not None and next_token == eos_id:\n",
    "            break\n",
    "\n",
    "        next_token_tensor = torch.tensor([[next_token]], device=device)\n",
    "        tokens_tensor = torch.cat([tokens_tensor, next_token_tensor], dim=1)\n",
    "\n",
    "    return tokens\n",
    "\n",
    "# TODO Top-k filtering, Top-p filtering (nucleus)\n",
    "\n",
    "start_token = tokenizer.vocab[\"START\"]\n",
    "eos_token = tokenizer.vocab.get(\"END\", None)\n",
    "\n",
    "generated = sample_sequence(\n",
    "    model, \n",
    "    start_token, \n",
    "    max_len=200, \n",
    "    temperature=0.5, \n",
    "    greedy=False, \n",
    "    eos_id=eos_token, \n",
    "    device=device\n",
    ")\n",
    "\n",
    "print(\"Generated token sequence:\", generated)\n",
    "decoded_sketch = tokenizer.decode(generated)\n",
    "print(\"Decoded sketch:\", decoded_sketch)\n",
    "\n",
    "from IPython.display import HTML, display\n",
    "\n",
    "display(HTML(f'<div style=\"display:inline-block; width: 150px; background-color: white; margin-right:10px;\"><b>Generated</b><br>{decoded_sketch}</div>'))"
   ]
  }
 ],
 "metadata": {
  "kernelspec": {
   "display_name": "Python 3",
   "language": "python",
   "name": "python3"
  },
  "language_info": {
   "codemirror_mode": {
    "name": "ipython",
    "version": 3
   },
   "file_extension": ".py",
   "mimetype": "text/x-python",
   "name": "python",
   "nbconvert_exporter": "python",
   "pygments_lexer": "ipython3",
   "version": "3.13.7"
  }
 },
 "nbformat": 4,
 "nbformat_minor": 5
}
