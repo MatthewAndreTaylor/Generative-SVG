{
 "cells": [
  {
   "cell_type": "markdown",
   "id": "632aa9ac",
   "metadata": {},
   "source": [
    "# Sketch feature prediction"
   ]
  },
  {
   "cell_type": "code",
   "execution_count": 1,
   "id": "651fca9d",
   "metadata": {},
   "outputs": [],
   "source": [
    "import torch\n",
    "import torch.nn as nn\n",
    "import torch.nn.functional as F\n",
    "from torch.utils.data import Dataset\n",
    "from torch.utils.data import DataLoader\n",
    "\n",
    "from dataset import QuickDrawDataset\n",
    "from utils import DeltaPenPositionTokenizer\n",
    "from prepare_data import stroke_to_rdp\n",
    "from tqdm import tqdm\n",
    "import pickle\n",
    "import pandas as pd"
   ]
  },
  {
   "cell_type": "code",
   "execution_count": 2,
   "id": "d0c0017c",
   "metadata": {},
   "outputs": [
    {
     "name": "stdout",
     "output_type": "stream",
     "text": [
      "Using device: cuda\n"
     ]
    }
   ],
   "source": [
    "device = torch.device(\"cuda\" if torch.cuda.is_available() else \"cpu\")\n",
    "print(\"Using device:\", device)\n",
    "\n",
    "seed = 42\n",
    "torch.manual_seed(seed)\n",
    "if device == \"cuda\":\n",
    "    torch.cuda.manual_seed_all(seed)"
   ]
  },
  {
   "cell_type": "code",
   "execution_count": 3,
   "id": "2d0dd2b3",
   "metadata": {},
   "outputs": [
    {
     "name": "stderr",
     "output_type": "stream",
     "text": [
      "Downloading QuickDraw files: 100%|██████████| 1/1 [00:00<00:00, 5592.41it/s]\n",
      "Loading QuickDraw files: 100%|██████████| 1/1 [00:03<00:00,  3.23s/it]\n",
      "Tokenizing SVGs: 100%|██████████| 103031/103031 [02:04<00:00, 827.17it/s]\n"
     ]
    },
    {
     "name": "stdout",
     "output_type": "stream",
     "text": [
      "Saved tokenized data to sketch_new.pkl\n"
     ]
    }
   ],
   "source": [
    "labels = [\"cat\"]\n",
    "training_data = QuickDrawDataset(labels=labels, download=True)\n",
    "tokenizer = DeltaPenPositionTokenizer(bins=64)\n",
    "\n",
    "\n",
    "class SketchDataset(Dataset):\n",
    "    def __init__(\n",
    "        self,\n",
    "        svg_list,\n",
    "        tokenizer,\n",
    "        max_len=200,\n",
    "        cache_file=\"sketch_new.pkl\",\n",
    "        csv_path=\"dataset_splitter/quickdrawdataset_marked.csv\",\n",
    "    ):\n",
    "        self.data = []\n",
    "        self.tokenizer = tokenizer\n",
    "        self.max_len = max_len\n",
    "        self.pad_id = tokenizer.vocab[\"PAD\"]\n",
    "\n",
    "        # Try to load from cache\n",
    "        try:\n",
    "            with open(cache_file, \"rb\") as f:\n",
    "                self.data = pickle.load(f)\n",
    "            print(f\"Loaded tokenized data from {cache_file}\")\n",
    "        except FileNotFoundError:\n",
    "            for svg in tqdm(svg_list, desc=\"Tokenizing SVGs\"):\n",
    "                svg = stroke_to_rdp(svg, epsilon=2.0)  # tuning\n",
    "                tokens = tokenizer.encode(svg)\n",
    "                tokens = tokens[:max_len]\n",
    "                tokens = tokens + [self.pad_id] * (max_len - len(tokens))\n",
    "                self.data.append(tokens)\n",
    "\n",
    "            with open(cache_file, \"wb\") as f:\n",
    "                pickle.dump(self.data, f)\n",
    "            print(f\"Saved tokenized data to {cache_file}\")\n",
    "\n",
    "        # load labels\n",
    "        df = pd.read_csv(csv_path)\n",
    "        self.recognizable = df[\"recognizable\"].astype(int).tolist()\n",
    "        self.feature_complete = df[\"feature_complete\"].astype(int).tolist()\n",
    "        self.data_cp = self.data[:len(self.recognizable)]\n",
    "\n",
    "    def __getitem__(self, idx):\n",
    "        seq = torch.tensor(self.data_cp[idx], dtype=torch.long)\n",
    "        labels = torch.tensor(\n",
    "            [self.recognizable[idx], self.feature_complete[idx]], dtype=torch.float\n",
    "        )\n",
    "        return seq, labels\n",
    "\n",
    "    def __len__(self):\n",
    "        return len(self.data_cp)\n",
    "\n",
    "dataset = SketchDataset(training_data, tokenizer)"
   ]
  },
  {
   "cell_type": "code",
   "execution_count": 4,
   "id": "a5d81d15",
   "metadata": {},
   "outputs": [
    {
     "name": "stderr",
     "output_type": "stream",
     "text": [
      "c:\\Users\\matth\\AppData\\Local\\Programs\\Python\\Python313\\Lib\\site-packages\\torch\\nn\\modules\\transformer.py:392: UserWarning: enable_nested_tensor is True, but self.use_nested_tensor is False because encoder_layer.self_attn.batch_first was not True(use batch_first for better inference performance)\n",
      "  warnings.warn(\n",
      "Epoch 1: 100%|██████████| 8/8 [00:00<00:00,  8.57it/s]\n"
     ]
    },
    {
     "name": "stdout",
     "output_type": "stream",
     "text": [
      "Epoch 1 loss: 0.6199\n"
     ]
    },
    {
     "name": "stderr",
     "output_type": "stream",
     "text": [
      "Epoch 2: 100%|██████████| 8/8 [00:00<00:00, 11.62it/s]\n"
     ]
    },
    {
     "name": "stdout",
     "output_type": "stream",
     "text": [
      "Epoch 2 loss: 0.5980\n"
     ]
    },
    {
     "name": "stderr",
     "output_type": "stream",
     "text": [
      "Epoch 3: 100%|██████████| 8/8 [00:00<00:00, 11.56it/s]\n"
     ]
    },
    {
     "name": "stdout",
     "output_type": "stream",
     "text": [
      "Epoch 3 loss: 0.5965\n"
     ]
    },
    {
     "name": "stderr",
     "output_type": "stream",
     "text": [
      "Epoch 4: 100%|██████████| 8/8 [00:00<00:00, 11.59it/s]\n"
     ]
    },
    {
     "name": "stdout",
     "output_type": "stream",
     "text": [
      "Epoch 4 loss: 0.5873\n"
     ]
    },
    {
     "name": "stderr",
     "output_type": "stream",
     "text": [
      "Epoch 5: 100%|██████████| 8/8 [00:00<00:00, 11.58it/s]\n"
     ]
    },
    {
     "name": "stdout",
     "output_type": "stream",
     "text": [
      "Epoch 5 loss: 0.5939\n"
     ]
    },
    {
     "name": "stderr",
     "output_type": "stream",
     "text": [
      "Epoch 6: 100%|██████████| 8/8 [00:00<00:00, 11.58it/s]\n"
     ]
    },
    {
     "name": "stdout",
     "output_type": "stream",
     "text": [
      "Epoch 6 loss: 0.5839\n"
     ]
    },
    {
     "name": "stderr",
     "output_type": "stream",
     "text": [
      "Epoch 7: 100%|██████████| 8/8 [00:00<00:00, 11.57it/s]\n"
     ]
    },
    {
     "name": "stdout",
     "output_type": "stream",
     "text": [
      "Epoch 7 loss: 0.5929\n"
     ]
    },
    {
     "name": "stderr",
     "output_type": "stream",
     "text": [
      "Epoch 8: 100%|██████████| 8/8 [00:00<00:00, 11.57it/s]\n"
     ]
    },
    {
     "name": "stdout",
     "output_type": "stream",
     "text": [
      "Epoch 8 loss: 0.5908\n"
     ]
    },
    {
     "name": "stderr",
     "output_type": "stream",
     "text": [
      "Epoch 9: 100%|██████████| 8/8 [00:00<00:00, 11.54it/s]\n"
     ]
    },
    {
     "name": "stdout",
     "output_type": "stream",
     "text": [
      "Epoch 9 loss: 0.5863\n"
     ]
    },
    {
     "name": "stderr",
     "output_type": "stream",
     "text": [
      "Epoch 10: 100%|██████████| 8/8 [00:00<00:00, 11.57it/s]\n"
     ]
    },
    {
     "name": "stdout",
     "output_type": "stream",
     "text": [
      "Epoch 10 loss: 0.5790\n"
     ]
    },
    {
     "name": "stderr",
     "output_type": "stream",
     "text": [
      "Epoch 11: 100%|██████████| 8/8 [00:00<00:00, 11.58it/s]\n"
     ]
    },
    {
     "name": "stdout",
     "output_type": "stream",
     "text": [
      "Epoch 11 loss: 0.5840\n"
     ]
    },
    {
     "name": "stderr",
     "output_type": "stream",
     "text": [
      "Epoch 12: 100%|██████████| 8/8 [00:00<00:00, 11.59it/s]\n"
     ]
    },
    {
     "name": "stdout",
     "output_type": "stream",
     "text": [
      "Epoch 12 loss: 0.5949\n"
     ]
    },
    {
     "name": "stderr",
     "output_type": "stream",
     "text": [
      "Epoch 13: 100%|██████████| 8/8 [00:00<00:00, 11.57it/s]\n"
     ]
    },
    {
     "name": "stdout",
     "output_type": "stream",
     "text": [
      "Epoch 13 loss: 0.5757\n"
     ]
    },
    {
     "name": "stderr",
     "output_type": "stream",
     "text": [
      "Epoch 14: 100%|██████████| 8/8 [00:00<00:00, 11.57it/s]\n"
     ]
    },
    {
     "name": "stdout",
     "output_type": "stream",
     "text": [
      "Epoch 14 loss: 0.5827\n"
     ]
    },
    {
     "name": "stderr",
     "output_type": "stream",
     "text": [
      "Epoch 15: 100%|██████████| 8/8 [00:00<00:00, 11.56it/s]\n"
     ]
    },
    {
     "name": "stdout",
     "output_type": "stream",
     "text": [
      "Epoch 15 loss: 0.5798\n"
     ]
    },
    {
     "name": "stderr",
     "output_type": "stream",
     "text": [
      "Epoch 16: 100%|██████████| 8/8 [00:00<00:00, 11.56it/s]\n"
     ]
    },
    {
     "name": "stdout",
     "output_type": "stream",
     "text": [
      "Epoch 16 loss: 0.5997\n"
     ]
    },
    {
     "name": "stderr",
     "output_type": "stream",
     "text": [
      "Epoch 17: 100%|██████████| 8/8 [00:00<00:00, 11.57it/s]\n"
     ]
    },
    {
     "name": "stdout",
     "output_type": "stream",
     "text": [
      "Epoch 17 loss: 0.5864\n"
     ]
    },
    {
     "name": "stderr",
     "output_type": "stream",
     "text": [
      "Epoch 18: 100%|██████████| 8/8 [00:00<00:00, 11.55it/s]\n"
     ]
    },
    {
     "name": "stdout",
     "output_type": "stream",
     "text": [
      "Epoch 18 loss: 0.5875\n"
     ]
    },
    {
     "name": "stderr",
     "output_type": "stream",
     "text": [
      "Epoch 19: 100%|██████████| 8/8 [00:00<00:00, 11.58it/s]\n"
     ]
    },
    {
     "name": "stdout",
     "output_type": "stream",
     "text": [
      "Epoch 19 loss: 0.5756\n"
     ]
    },
    {
     "name": "stderr",
     "output_type": "stream",
     "text": [
      "Epoch 20: 100%|██████████| 8/8 [00:00<00:00, 11.58it/s]\n"
     ]
    },
    {
     "name": "stdout",
     "output_type": "stream",
     "text": [
      "Epoch 20 loss: 0.5927\n"
     ]
    },
    {
     "name": "stderr",
     "output_type": "stream",
     "text": [
      "Epoch 21: 100%|██████████| 8/8 [00:00<00:00, 11.53it/s]\n"
     ]
    },
    {
     "name": "stdout",
     "output_type": "stream",
     "text": [
      "Epoch 21 loss: 0.5845\n"
     ]
    },
    {
     "name": "stderr",
     "output_type": "stream",
     "text": [
      "Epoch 22: 100%|██████████| 8/8 [00:00<00:00, 11.52it/s]\n"
     ]
    },
    {
     "name": "stdout",
     "output_type": "stream",
     "text": [
      "Epoch 22 loss: 0.5844\n"
     ]
    },
    {
     "name": "stderr",
     "output_type": "stream",
     "text": [
      "Epoch 23: 100%|██████████| 8/8 [00:00<00:00, 11.52it/s]\n"
     ]
    },
    {
     "name": "stdout",
     "output_type": "stream",
     "text": [
      "Epoch 23 loss: 0.5863\n"
     ]
    },
    {
     "name": "stderr",
     "output_type": "stream",
     "text": [
      "Epoch 24: 100%|██████████| 8/8 [00:00<00:00, 11.53it/s]\n"
     ]
    },
    {
     "name": "stdout",
     "output_type": "stream",
     "text": [
      "Epoch 24 loss: 0.6010\n"
     ]
    },
    {
     "name": "stderr",
     "output_type": "stream",
     "text": [
      "Epoch 25: 100%|██████████| 8/8 [00:00<00:00, 11.53it/s]\n"
     ]
    },
    {
     "name": "stdout",
     "output_type": "stream",
     "text": [
      "Epoch 25 loss: 0.5855\n"
     ]
    },
    {
     "name": "stderr",
     "output_type": "stream",
     "text": [
      "Epoch 26: 100%|██████████| 8/8 [00:00<00:00, 11.52it/s]\n"
     ]
    },
    {
     "name": "stdout",
     "output_type": "stream",
     "text": [
      "Epoch 26 loss: 0.5799\n"
     ]
    },
    {
     "name": "stderr",
     "output_type": "stream",
     "text": [
      "Epoch 27: 100%|██████████| 8/8 [00:00<00:00, 11.51it/s]\n"
     ]
    },
    {
     "name": "stdout",
     "output_type": "stream",
     "text": [
      "Epoch 27 loss: 0.5714\n"
     ]
    },
    {
     "name": "stderr",
     "output_type": "stream",
     "text": [
      "Epoch 28: 100%|██████████| 8/8 [00:00<00:00, 11.52it/s]\n"
     ]
    },
    {
     "name": "stdout",
     "output_type": "stream",
     "text": [
      "Epoch 28 loss: 0.5871\n"
     ]
    },
    {
     "name": "stderr",
     "output_type": "stream",
     "text": [
      "Epoch 29: 100%|██████████| 8/8 [00:00<00:00, 11.55it/s]\n"
     ]
    },
    {
     "name": "stdout",
     "output_type": "stream",
     "text": [
      "Epoch 29 loss: 0.5865\n"
     ]
    },
    {
     "name": "stderr",
     "output_type": "stream",
     "text": [
      "Epoch 30: 100%|██████████| 8/8 [00:00<00:00, 11.54it/s]\n"
     ]
    },
    {
     "name": "stdout",
     "output_type": "stream",
     "text": [
      "Epoch 30 loss: 0.5903\n"
     ]
    },
    {
     "name": "stderr",
     "output_type": "stream",
     "text": [
      "Epoch 31: 100%|██████████| 8/8 [00:00<00:00, 11.53it/s]\n"
     ]
    },
    {
     "name": "stdout",
     "output_type": "stream",
     "text": [
      "Epoch 31 loss: 0.5746\n"
     ]
    },
    {
     "name": "stderr",
     "output_type": "stream",
     "text": [
      "Epoch 32: 100%|██████████| 8/8 [00:00<00:00, 11.53it/s]\n"
     ]
    },
    {
     "name": "stdout",
     "output_type": "stream",
     "text": [
      "Epoch 32 loss: 0.5826\n"
     ]
    },
    {
     "name": "stderr",
     "output_type": "stream",
     "text": [
      "Epoch 33: 100%|██████████| 8/8 [00:00<00:00, 11.52it/s]\n"
     ]
    },
    {
     "name": "stdout",
     "output_type": "stream",
     "text": [
      "Epoch 33 loss: 0.5803\n"
     ]
    },
    {
     "name": "stderr",
     "output_type": "stream",
     "text": [
      "Epoch 34: 100%|██████████| 8/8 [00:00<00:00, 11.53it/s]\n"
     ]
    },
    {
     "name": "stdout",
     "output_type": "stream",
     "text": [
      "Epoch 34 loss: 0.5703\n"
     ]
    },
    {
     "name": "stderr",
     "output_type": "stream",
     "text": [
      "Epoch 35: 100%|██████████| 8/8 [00:00<00:00, 11.54it/s]\n"
     ]
    },
    {
     "name": "stdout",
     "output_type": "stream",
     "text": [
      "Epoch 35 loss: 0.5756\n"
     ]
    },
    {
     "name": "stderr",
     "output_type": "stream",
     "text": [
      "Epoch 36: 100%|██████████| 8/8 [00:00<00:00, 11.50it/s]\n"
     ]
    },
    {
     "name": "stdout",
     "output_type": "stream",
     "text": [
      "Epoch 36 loss: 0.5533\n"
     ]
    },
    {
     "name": "stderr",
     "output_type": "stream",
     "text": [
      "Epoch 37: 100%|██████████| 8/8 [00:00<00:00, 11.50it/s]\n"
     ]
    },
    {
     "name": "stdout",
     "output_type": "stream",
     "text": [
      "Epoch 37 loss: 0.5568\n"
     ]
    },
    {
     "name": "stderr",
     "output_type": "stream",
     "text": [
      "Epoch 38: 100%|██████████| 8/8 [00:00<00:00, 11.49it/s]\n"
     ]
    },
    {
     "name": "stdout",
     "output_type": "stream",
     "text": [
      "Epoch 38 loss: 0.5575\n"
     ]
    },
    {
     "name": "stderr",
     "output_type": "stream",
     "text": [
      "Epoch 39: 100%|██████████| 8/8 [00:00<00:00, 11.52it/s]\n"
     ]
    },
    {
     "name": "stdout",
     "output_type": "stream",
     "text": [
      "Epoch 39 loss: 0.6034\n"
     ]
    },
    {
     "name": "stderr",
     "output_type": "stream",
     "text": [
      "Epoch 40: 100%|██████████| 8/8 [00:00<00:00, 11.53it/s]\n"
     ]
    },
    {
     "name": "stdout",
     "output_type": "stream",
     "text": [
      "Epoch 40 loss: 0.5634\n"
     ]
    },
    {
     "name": "stderr",
     "output_type": "stream",
     "text": [
      "Epoch 41: 100%|██████████| 8/8 [00:00<00:00, 11.52it/s]\n"
     ]
    },
    {
     "name": "stdout",
     "output_type": "stream",
     "text": [
      "Epoch 41 loss: 0.5581\n"
     ]
    },
    {
     "name": "stderr",
     "output_type": "stream",
     "text": [
      "Epoch 42: 100%|██████████| 8/8 [00:00<00:00, 11.52it/s]\n"
     ]
    },
    {
     "name": "stdout",
     "output_type": "stream",
     "text": [
      "Epoch 42 loss: 0.5693\n"
     ]
    },
    {
     "name": "stderr",
     "output_type": "stream",
     "text": [
      "Epoch 43: 100%|██████████| 8/8 [00:00<00:00, 11.53it/s]\n"
     ]
    },
    {
     "name": "stdout",
     "output_type": "stream",
     "text": [
      "Epoch 43 loss: 0.5511\n"
     ]
    },
    {
     "name": "stderr",
     "output_type": "stream",
     "text": [
      "Epoch 44: 100%|██████████| 8/8 [00:00<00:00, 11.51it/s]\n"
     ]
    },
    {
     "name": "stdout",
     "output_type": "stream",
     "text": [
      "Epoch 44 loss: 0.5554\n"
     ]
    },
    {
     "name": "stderr",
     "output_type": "stream",
     "text": [
      "Epoch 45: 100%|██████████| 8/8 [00:00<00:00, 11.49it/s]\n"
     ]
    },
    {
     "name": "stdout",
     "output_type": "stream",
     "text": [
      "Epoch 45 loss: 0.5172\n"
     ]
    },
    {
     "name": "stderr",
     "output_type": "stream",
     "text": [
      "Epoch 46: 100%|██████████| 8/8 [00:00<00:00, 11.50it/s]\n"
     ]
    },
    {
     "name": "stdout",
     "output_type": "stream",
     "text": [
      "Epoch 46 loss: 0.4783\n"
     ]
    },
    {
     "name": "stderr",
     "output_type": "stream",
     "text": [
      "Epoch 47: 100%|██████████| 8/8 [00:00<00:00, 11.52it/s]\n"
     ]
    },
    {
     "name": "stdout",
     "output_type": "stream",
     "text": [
      "Epoch 47 loss: 0.4806\n"
     ]
    },
    {
     "name": "stderr",
     "output_type": "stream",
     "text": [
      "Epoch 48: 100%|██████████| 8/8 [00:00<00:00, 11.50it/s]\n"
     ]
    },
    {
     "name": "stdout",
     "output_type": "stream",
     "text": [
      "Epoch 48 loss: 0.4344\n"
     ]
    },
    {
     "name": "stderr",
     "output_type": "stream",
     "text": [
      "Epoch 49: 100%|██████████| 8/8 [00:00<00:00, 11.49it/s]\n"
     ]
    },
    {
     "name": "stdout",
     "output_type": "stream",
     "text": [
      "Epoch 49 loss: 0.4240\n"
     ]
    },
    {
     "name": "stderr",
     "output_type": "stream",
     "text": [
      "Epoch 50: 100%|██████████| 8/8 [00:00<00:00, 11.46it/s]\n"
     ]
    },
    {
     "name": "stdout",
     "output_type": "stream",
     "text": [
      "Epoch 50 loss: 0.3379\n"
     ]
    },
    {
     "name": "stderr",
     "output_type": "stream",
     "text": [
      "Epoch 51: 100%|██████████| 8/8 [00:00<00:00, 11.45it/s]\n"
     ]
    },
    {
     "name": "stdout",
     "output_type": "stream",
     "text": [
      "Epoch 51 loss: 0.3484\n"
     ]
    },
    {
     "name": "stderr",
     "output_type": "stream",
     "text": [
      "Epoch 52: 100%|██████████| 8/8 [00:00<00:00, 11.49it/s]\n"
     ]
    },
    {
     "name": "stdout",
     "output_type": "stream",
     "text": [
      "Epoch 52 loss: 0.2967\n"
     ]
    },
    {
     "name": "stderr",
     "output_type": "stream",
     "text": [
      "Epoch 53: 100%|██████████| 8/8 [00:00<00:00, 11.46it/s]\n"
     ]
    },
    {
     "name": "stdout",
     "output_type": "stream",
     "text": [
      "Epoch 53 loss: 0.2862\n"
     ]
    },
    {
     "name": "stderr",
     "output_type": "stream",
     "text": [
      "Epoch 54: 100%|██████████| 8/8 [00:00<00:00, 11.43it/s]\n"
     ]
    },
    {
     "name": "stdout",
     "output_type": "stream",
     "text": [
      "Epoch 54 loss: 0.2393\n"
     ]
    },
    {
     "name": "stderr",
     "output_type": "stream",
     "text": [
      "Epoch 55: 100%|██████████| 8/8 [00:00<00:00, 11.42it/s]\n"
     ]
    },
    {
     "name": "stdout",
     "output_type": "stream",
     "text": [
      "Epoch 55 loss: 0.2209\n"
     ]
    },
    {
     "name": "stderr",
     "output_type": "stream",
     "text": [
      "Epoch 56: 100%|██████████| 8/8 [00:00<00:00, 11.45it/s]\n"
     ]
    },
    {
     "name": "stdout",
     "output_type": "stream",
     "text": [
      "Epoch 56 loss: 0.1894\n"
     ]
    },
    {
     "name": "stderr",
     "output_type": "stream",
     "text": [
      "Epoch 57: 100%|██████████| 8/8 [00:00<00:00, 11.45it/s]\n"
     ]
    },
    {
     "name": "stdout",
     "output_type": "stream",
     "text": [
      "Epoch 57 loss: 0.1577\n"
     ]
    },
    {
     "name": "stderr",
     "output_type": "stream",
     "text": [
      "Epoch 58: 100%|██████████| 8/8 [00:00<00:00, 11.46it/s]\n"
     ]
    },
    {
     "name": "stdout",
     "output_type": "stream",
     "text": [
      "Epoch 58 loss: 0.1578\n"
     ]
    },
    {
     "name": "stderr",
     "output_type": "stream",
     "text": [
      "Epoch 59: 100%|██████████| 8/8 [00:00<00:00, 11.46it/s]\n"
     ]
    },
    {
     "name": "stdout",
     "output_type": "stream",
     "text": [
      "Epoch 59 loss: 0.1545\n"
     ]
    },
    {
     "name": "stderr",
     "output_type": "stream",
     "text": [
      "Epoch 60: 100%|██████████| 8/8 [00:00<00:00, 11.44it/s]"
     ]
    },
    {
     "name": "stdout",
     "output_type": "stream",
     "text": [
      "Epoch 60 loss: 0.1076\n"
     ]
    },
    {
     "name": "stderr",
     "output_type": "stream",
     "text": [
      "\n"
     ]
    }
   ],
   "source": [
    "class SketchClassifier(nn.Module):\n",
    "    def __init__(self, vocab_size, d_model=256, nhead=8, num_layers=4):\n",
    "        super().__init__()\n",
    "        self.embedding = nn.Embedding(vocab_size, d_model)\n",
    "        encoder_layer = nn.TransformerEncoderLayer(d_model=d_model, nhead=nhead)\n",
    "        self.transformer = nn.TransformerEncoder(encoder_layer, num_layers=num_layers)\n",
    "        self.pool = nn.AdaptiveAvgPool1d(1)\n",
    "        self.fc = nn.Linear(d_model, 2)  # 2 outputs: recognizable & complete\n",
    "        self.sigmoid = nn.Sigmoid()\n",
    "\n",
    "    def forward(self, x):\n",
    "        # x: [B, T]\n",
    "        x = self.embedding(x)  # [B, T, D]\n",
    "        x = x.transpose(0, 1)  # Transformer expects [T, B, D]\n",
    "        x = self.transformer(x)  # [T, B, D]\n",
    "        x = x.transpose(0, 1)  # [B, T, D]\n",
    "        x = x.mean(dim=1)      # simple average pooling\n",
    "        x = self.fc(x)\n",
    "        return self.sigmoid(x)\n",
    "\n",
    "\n",
    "dataloader = DataLoader(dataset, batch_size=128, shuffle=True, pin_memory=True)\n",
    "model = SketchClassifier(vocab_size=len(tokenizer.vocab)).to(device)\n",
    "\n",
    "criterion = nn.BCELoss()\n",
    "optimizer = torch.optim.Adam(model.parameters(), lr=1e-4)\n",
    "\n",
    "for epoch in range(60):\n",
    "    model.train()\n",
    "    total_loss = 0.0\n",
    "    for seqs, labels in tqdm(dataloader, desc=f\"Epoch {epoch+1}\"):\n",
    "        seqs, labels = seqs.to(device), labels.to(device)\n",
    "        optimizer.zero_grad()\n",
    "        outputs = model(seqs)\n",
    "        loss = criterion(outputs, labels)\n",
    "        loss.backward()\n",
    "        optimizer.step()\n",
    "\n",
    "        total_loss += loss.item()\n",
    "\n",
    "    print(f\"Epoch {epoch+1} loss: {total_loss/len(dataloader):.4f}\")"
   ]
  },
  {
   "cell_type": "code",
   "execution_count": 8,
   "id": "e85165ab",
   "metadata": {},
   "outputs": [
    {
     "name": "stdout",
     "output_type": "stream",
     "text": [
      "908\n"
     ]
    },
    {
     "name": "stderr",
     "output_type": "stream",
     "text": [
      "Evaluating on unlabeled data: 100%|██████████| 15/15 [00:00<00:00, 101.21it/s]\n"
     ]
    },
    {
     "data": {
      "text/html": [
       "<div style=\"display:inline-block; width: 150px; background-color: white; margin-right:10px;\"><b>recognizable prob: 0.9823784232139587, complete prob: 0.02166716568171978</b><br><svg viewBox=\"0 0 64 64\"><g stroke-width=\"0.4\">\n",
       "<path d=\"M 32.0 7.0 L 31.0 9.0 L 32.0 11.0 L 33.0 10.0 L 31.0 7.0\" stroke=\"black\" fill=\"none\"/>\n",
       "<path d=\"M 23.0 5.0 L 23.0 8.0 L 23.0 9.0 L 24.0 9.0 L 24.0 4.0\" stroke=\"black\" fill=\"none\"/>\n",
       "<path d=\"M 27.0 15.0 L 27.0 15.0\" stroke=\"black\" fill=\"none\"/>\n",
       "<path d=\"M 24.0 13.0 L 16.0 12.0 L 9.0 10.0\" stroke=\"black\" fill=\"none\"/>\n",
       "<path d=\"M 20.0 17.0 L 14.0 17.0 L 0.0 21.0\" stroke=\"black\" fill=\"none\"/>\n",
       "<path d=\"M 31.0 15.0 L 56.0 11.0\" stroke=\"black\" fill=\"none\"/>\n",
       "<path d=\"M 30.0 19.0 L 63.0 19.0\" stroke=\"black\" fill=\"none\"/>\n",
       "<path d=\"M 37.0 12.0 L 37.0 8.0 L 35.0 4.0 L 32.0 1.0 L 28.0 0.0 L 25.0 1.0 L 23.0 4.0 L 21.0 9.0 L 22.0 15.0\" stroke=\"black\" fill=\"none\"/>\n",
       "</g></svg></div><div style=\"display:inline-block; width: 150px; background-color: white; margin-right:10px;\"><b>recognizable prob: 0.06783150881528854, complete prob: 0.0015861447900533676</b><br><svg viewBox=\"0 0 64 64\"><g stroke-width=\"0.4\">\n",
       "<path d=\"M 9.0 3.0 L 7.0 18.0 L 9.0 21.0 L 16.0 23.0 L 23.0 24.0 L 32.0 26.0 L 37.0 26.0 L 40.0 23.0 L 42.0 11.0 L 40.0 2.0 L 39.0 3.0 L 37.0 6.0 L 33.0 10.0 L 24.0 10.0 L 19.0 5.0 L 14.0 1.0 L 12.0 0.0 L 9.0 0.0 L 7.0 5.0\" stroke=\"black\" fill=\"none\"/>\n",
       "<path d=\"M 20.0 13.0 L 19.0 14.0 L 19.0 16.0 L 23.0 16.0 L 23.0 15.0 L 20.0 14.0\" stroke=\"black\" fill=\"none\"/>\n",
       "<path d=\"M 32.0 15.0 L 31.0 16.0 L 31.0 16.0 L 33.0 16.0\" stroke=\"black\" fill=\"none\"/>\n",
       "<path d=\"M 32.0 19.0 L 48.0 17.0\" stroke=\"black\" fill=\"none\"/>\n",
       "<path d=\"M 20.0 18.0 L 4.0 15.0 L 0.0 13.0\" stroke=\"black\" fill=\"none\"/>\n",
       "<path d=\"M 36.0 21.0 L 63.0 24.0\" stroke=\"black\" fill=\"none\"/>\n",
       "<path d=\"M 18.0 20.0 L 1.0 23.0\" stroke=\"black\" fill=\"none\"/>\n",
       "<path d=\"M 22.0 20.0 L 25.0 20.0 L 26.0 19.0 L 27.0 20.0 L 30.0 20.0\" stroke=\"black\" fill=\"none\"/>\n",
       "</g></svg></div><div style=\"display:inline-block; width: 150px; background-color: white; margin-right:10px;\"><b>recognizable prob: 0.9976578950881958, complete prob: 0.03881062939763069</b><br><svg viewBox=\"0 0 64 64\"><g stroke-width=\"0.4\">\n",
       "<path d=\"M 10.0 19.0 L 16.0 12.0 L 18.0 5.0 L 19.0 6.0 L 21.0 11.0 L 22.0 20.0\" stroke=\"black\" fill=\"none\"/>\n",
       "<path d=\"M 42.0 20.0 L 45.0 16.0 L 47.0 4.0 L 48.0 1.0 L 50.0 0.0 L 53.0 13.0 L 62.0 28.0\" stroke=\"black\" fill=\"none\"/>\n",
       "<path d=\"M 31.0 46.0 L 32.0 48.0 L 32.0 47.0 L 31.0 47.0 L 31.0 46.0 L 30.0 45.0 L 31.0 47.0 L 32.0 43.0 L 29.0 43.0\" stroke=\"black\" fill=\"none\"/>\n",
       "<path d=\"M 23.0 20.0 L 14.0 20.0 L 8.0 21.0 L 4.0 23.0 L 2.0 26.0 L 1.0 31.0 L 0.0 36.0 L 1.0 40.0 L 10.0 50.0 L 19.0 55.0 L 25.0 57.0 L 37.0 57.0 L 41.0 55.0 L 56.0 49.0 L 59.0 46.0 L 61.0 44.0 L 63.0 40.0 L 63.0 33.0 L 62.0 27.0 L 60.0 25.0 L 54.0 22.0 L 46.0 20.0 L 32.0 21.0 L 12.0 24.0\" stroke=\"black\" fill=\"none\"/>\n",
       "<path d=\"M 18.0 30.0 L 17.0 31.0 L 20.0 32.0 L 20.0 30.0 L 19.0 30.0\" stroke=\"black\" fill=\"none\"/>\n",
       "<path d=\"M 41.0 28.0 L 42.0 29.0 L 41.0 30.0 L 42.0 31.0 L 43.0 29.0 L 41.0 29.0\" stroke=\"black\" fill=\"none\"/>\n",
       "<path d=\"M 45.0 39.0 L 59.0 33.0\" stroke=\"black\" fill=\"none\"/>\n",
       "<path d=\"M 47.0 43.0 L 58.0 52.0\" stroke=\"black\" fill=\"none\"/>\n",
       "<path d=\"M 42.0 49.0 L 46.0 52.0 L 50.0 60.0\" stroke=\"black\" fill=\"none\"/>\n",
       "</g></svg></div><div style=\"display:inline-block; width: 150px; background-color: white; margin-right:10px;\"><b>recognizable prob: 0.994648277759552, complete prob: 0.0036241572815924883</b><br><svg viewBox=\"0 0 64 64\"><g stroke-width=\"0.4\">\n",
       "<path d=\"M 19.0 17.0 L 10.0 21.0 L 5.0 26.0 L 1.0 32.0 L 0.0 43.0 L 2.0 48.0 L 6.0 53.0 L 14.0 60.0 L 24.0 63.0 L 29.0 63.0 L 41.0 58.0 L 49.0 54.0 L 53.0 48.0 L 54.0 46.0 L 55.0 41.0 L 54.0 36.0 L 50.0 29.0 L 31.0 21.0 L 21.0 20.0 L 21.0 20.0\" stroke=\"black\" fill=\"none\"/>\n",
       "<path d=\"M 6.0 26.0 L 6.0 15.0 L 8.0 1.0 L 10.0 0.0 L 17.0 16.0\" stroke=\"black\" fill=\"none\"/>\n",
       "<path d=\"M 48.0 26.0 L 49.0 9.0 L 53.0 1.0 L 56.0 1.0 L 59.0 4.0 L 61.0 8.0 L 62.0 17.0 L 61.0 31.0\" stroke=\"black\" fill=\"none\"/>\n",
       "</g></svg></div><div style=\"display:inline-block; width: 150px; background-color: white; margin-right:10px;\"><b>recognizable prob: 0.9308876991271973, complete prob: 0.004024847876280546</b><br><svg viewBox=\"0 0 64 64\"><g stroke-width=\"0.4\">\n",
       "<path d=\"M 28.0 36.0 L 26.0 36.0 L 23.0 39.0 L 23.0 41.0 L 24.0 43.0 L 28.0 43.0 L 31.0 41.0 L 31.0 37.0 L 27.0 35.0\" stroke=\"black\" fill=\"none\"/>\n",
       "<path d=\"M 24.0 35.0 L 14.0 31.0 L 8.0 30.0\" stroke=\"black\" fill=\"none\"/>\n",
       "<path d=\"M 24.0 38.0 L 11.0 37.0\" stroke=\"black\" fill=\"none\"/>\n",
       "<path d=\"M 21.0 41.0 L 12.0 42.0 L 7.0 43.0\" stroke=\"black\" fill=\"none\"/>\n",
       "<path d=\"M 30.0 37.0 L 39.0 36.0 L 43.0 34.0\" stroke=\"black\" fill=\"none\"/>\n",
       "<path d=\"M 32.0 41.0 L 43.0 39.0\" stroke=\"black\" fill=\"none\"/>\n",
       "<path d=\"M 30.0 43.0 L 31.0 45.0 L 34.0 47.0 L 43.0 50.0\" stroke=\"black\" fill=\"none\"/>\n",
       "<path d=\"M 22.0 24.0 L 18.0 24.0 L 15.0 23.0 L 16.0 21.0 L 19.0 20.0 L 20.0 21.0 L 21.0 22.0 L 20.0 23.0\" stroke=\"black\" fill=\"none\"/>\n",
       "<path d=\"M 34.0 24.0 L 30.0 25.0 L 32.0 24.0 L 35.0 24.0 L 35.0 26.0 L 32.0 26.0\" stroke=\"black\" fill=\"none\"/>\n",
       "<path d=\"M 9.0 20.0 L 10.0 19.0 L 13.0 7.0 L 15.0 1.0 L 25.0 14.0 L 32.0 14.0 L 34.0 14.0 L 43.0 2.0 L 46.0 0.0 L 45.0 19.0 L 54.0 24.0 L 56.0 32.0 L 57.0 44.0 L 55.0 52.0 L 51.0 57.0 L 49.0 58.0 L 41.0 61.0 L 31.0 63.0 L 19.0 62.0 L 10.0 59.0 L 3.0 55.0 L 0.0 47.0 L 0.0 36.0 L 4.0 29.0 L 8.0 25.0 L 9.0 18.0 L 11.0 17.0\" stroke=\"black\" fill=\"none\"/>\n",
       "<path d=\"M 17.0 49.0 L 35.0 51.0\" stroke=\"black\" fill=\"none\"/>\n",
       "</g></svg></div><div style=\"display:inline-block; width: 150px; background-color: white; margin-right:10px;\"><b>recognizable prob: 0.9039933681488037, complete prob: 0.002768790815025568</b><br><svg viewBox=\"0 0 64 64\"><g stroke-width=\"0.4\">\n",
       "<path d=\"M 51.0 15.0 L 44.0 14.0 L 42.0 16.0 L 42.0 19.0 L 43.0 21.0 L 45.0 24.0 L 48.0 26.0 L 55.0 25.0 L 57.0 23.0 L 57.0 20.0 L 56.0 18.0 L 47.0 13.0\" stroke=\"black\" fill=\"none\"/>\n",
       "<path d=\"M 46.0 13.0 L 43.0 14.0 L 39.0 12.0 L 40.0 4.0 L 47.0 7.0 L 50.0 11.0 L 50.0 14.0 L 55.0 10.0 L 57.0 9.0 L 62.0 9.0 L 63.0 13.0 L 53.0 20.0\" stroke=\"black\" fill=\"none\"/>\n",
       "<path d=\"M 47.0 21.0 L 39.0 23.0 L 27.0 23.0 L 25.0 25.0 L 24.0 30.0 L 27.0 35.0 L 33.0 39.0 L 41.0 39.0 L 48.0 35.0 L 49.0 33.0 L 48.0 27.0 L 42.0 24.0\" stroke=\"black\" fill=\"none\"/>\n",
       "<path d=\"M 27.0 35.0 L 22.0 45.0\" stroke=\"black\" fill=\"none\"/>\n",
       "<path d=\"M 31.0 37.0 L 35.0 46.0\" stroke=\"black\" fill=\"none\"/>\n",
       "<path d=\"M 40.0 40.0 L 47.0 46.0\" stroke=\"black\" fill=\"none\"/>\n",
       "<path d=\"M 45.0 34.0 L 48.0 38.0 L 57.0 43.0\" stroke=\"black\" fill=\"none\"/>\n",
       "<path d=\"M 23.0 28.0 L 22.0 27.0 L 22.0 22.0 L 24.0 19.0 L 15.0 19.0 L 15.0 17.0 L 18.0 16.0 L 13.0 14.0 L 15.0 12.0 L 21.0 11.0 L 19.0 12.0 L 10.0 13.0 L 3.0 13.0 L 0.0 12.0 L 0.0 10.0 L 1.0 10.0 L 11.0 6.0 L 1.0 5.0 L 17.0 0.0\" stroke=\"black\" fill=\"none\"/>\n",
       "</g></svg></div><div style=\"display:inline-block; width: 150px; background-color: white; margin-right:10px;\"><b>recognizable prob: 0.9966450333595276, complete prob: 0.06845097243785858</b><br><svg viewBox=\"0 0 64 64\"><g stroke-width=\"0.4\">\n",
       "<path d=\"M 35.0 18.0 L 34.0 16.0 L 32.0 15.0 L 19.0 15.0 L 11.0 16.0 L 8.0 16.0 L 5.0 18.0 L 1.0 23.0 L 0.0 29.0 L 4.0 37.0 L 8.0 41.0 L 13.0 43.0 L 21.0 47.0 L 43.0 46.0 L 46.0 44.0 L 47.0 32.0 L 47.0 21.0 L 44.0 12.0 L 26.0 12.0\" stroke=\"black\" fill=\"none\"/>\n",
       "<path d=\"M 9.0 16.0 L 9.0 4.0 L 10.0 0.0 L 15.0 14.0\" stroke=\"black\" fill=\"none\"/>\n",
       "<path d=\"M 28.0 10.0 L 34.0 8.0 L 37.0 6.0 L 41.0 5.0 L 42.0 3.0 L 42.0 19.0 L 43.0 21.0\" stroke=\"black\" fill=\"none\"/>\n",
       "<path d=\"M 13.0 27.0 L 9.0 25.0 L 2.0 24.0\" stroke=\"black\" fill=\"none\"/>\n",
       "<path d=\"M 9.0 28.0 L 1.0 30.0\" stroke=\"black\" fill=\"none\"/>\n",
       "<path d=\"M 10.0 30.0 L 7.0 36.0\" stroke=\"black\" fill=\"none\"/>\n",
       "<path d=\"M 36.0 28.0 L 63.0 27.0\" stroke=\"black\" fill=\"none\"/>\n",
       "<path d=\"M 37.0 33.0 L 47.0 37.0\" stroke=\"black\" fill=\"none\"/>\n",
       "<path d=\"M 35.0 39.0 L 50.0 55.0\" stroke=\"black\" fill=\"none\"/>\n",
       "<path d=\"M 17.0 22.0 L 17.0 23.0 L 18.0 23.0\" stroke=\"black\" fill=\"none\"/>\n",
       "<path d=\"M 33.0 24.0 L 32.0 26.0 L 33.0 26.0\" stroke=\"black\" fill=\"none\"/>\n",
       "<path d=\"M 20.0 31.0 L 23.0 35.0 L 27.0 32.0 L 28.0 31.0 L 20.0 30.0\" stroke=\"black\" fill=\"none\"/>\n",
       "<path d=\"M 23.0 34.0 L 22.0 40.0 L 19.0 40.0 L 17.0 37.0 L 19.0 39.0 L 22.0 39.0\" stroke=\"black\" fill=\"none\"/>\n",
       "</g></svg></div><div style=\"display:inline-block; width: 150px; background-color: white; margin-right:10px;\"><b>recognizable prob: 0.9096308946609497, complete prob: 0.002365562366321683</b><br><svg viewBox=\"0 0 64 64\"><g stroke-width=\"0.4\">\n",
       "<path d=\"M 20.0 8.0 L 19.0 6.0 L 12.0 2.0 L 6.0 2.0 L 4.0 3.0 L 10.0 11.0 L 15.0 15.0 L 16.0 17.0 L 14.0 21.0 L 14.0 30.0 L 14.0 39.0 L 15.0 42.0 L 20.0 49.0 L 24.0 51.0 L 27.0 52.0 L 36.0 52.0 L 39.0 51.0 L 43.0 50.0 L 47.0 47.0 L 51.0 39.0 L 52.0 29.0 L 47.0 17.0 L 51.0 14.0 L 52.0 12.0 L 53.0 2.0 L 50.0 0.0 L 43.0 0.0 L 41.0 9.0\" stroke=\"black\" fill=\"none\"/>\n",
       "<path d=\"M 41.0 9.0 L 25.0 8.0 L 22.0 9.0\" stroke=\"black\" fill=\"none\"/>\n",
       "<path d=\"M 28.0 30.0 L 27.0 36.0 L 29.0 37.0 L 32.0 35.0 L 33.0 31.0 L 32.0 31.0\" stroke=\"black\" fill=\"none\"/>\n",
       "<path d=\"M 25.0 17.0 L 22.0 17.0 L 21.0 20.0 L 22.0 21.0 L 24.0 21.0 L 25.0 20.0 L 26.0 17.0 L 25.0 15.0 L 24.0 15.0\" stroke=\"black\" fill=\"none\"/>\n",
       "<path d=\"M 38.0 17.0 L 39.0 17.0 L 39.0 16.0 L 38.0 16.0 L 35.0 17.0 L 34.0 20.0 L 37.0 21.0 L 39.0 19.0 L 39.0 16.0 L 38.0 15.0 L 37.0 16.0\" stroke=\"black\" fill=\"none\"/>\n",
       "<path d=\"M 28.0 34.0 L 25.0 34.0 L 12.0 31.0 L 0.0 27.0\" stroke=\"black\" fill=\"none\"/>\n",
       "<path d=\"M 22.0 37.0 L 11.0 37.0 L 8.0 38.0\" stroke=\"black\" fill=\"none\"/>\n",
       "<path d=\"M 28.0 39.0 L 26.0 41.0 L 14.0 47.0 L 11.0 49.0\" stroke=\"black\" fill=\"none\"/>\n",
       "<path d=\"M 34.0 34.0 L 63.0 37.0\" stroke=\"black\" fill=\"none\"/>\n",
       "<path d=\"M 36.0 38.0 L 40.0 40.0 L 56.0 46.0\" stroke=\"black\" fill=\"none\"/>\n",
       "<path d=\"M 32.0 44.0 L 40.0 48.0 L 49.0 51.0 L 63.0 56.0\" stroke=\"black\" fill=\"none\"/>\n",
       "</g></svg></div><div style=\"display:inline-block; width: 150px; background-color: white; margin-right:10px;\"><b>recognizable prob: 0.9972021579742432, complete prob: 0.08076983690261841</b><br><svg viewBox=\"0 0 64 64\"><g stroke-width=\"0.4\">\n",
       "<path d=\"M 15.0 22.0 L 12.0 18.0 L 6.0 16.0 L 1.0 11.0 L 0.0 9.0 L 0.0 5.0 L 2.0 4.0 L 6.0 4.0 L 10.0 7.0 L 18.0 15.0\" stroke=\"black\" fill=\"none\"/>\n",
       "<path d=\"M 9.0 28.0 L 15.0 17.0 L 18.0 14.0 L 27.0 10.0 L 34.0 10.0 L 42.0 14.0 L 49.0 22.0 L 51.0 27.0 L 52.0 32.0 L 52.0 35.0 L 50.0 39.0 L 47.0 42.0 L 45.0 43.0 L 30.0 45.0 L 23.0 45.0 L 15.0 42.0 L 14.0 40.0 L 13.0 27.0 L 15.0 19.0 L 17.0 16.0\" stroke=\"black\" fill=\"none\"/>\n",
       "<path d=\"M 43.0 13.0 L 43.0 9.0 L 45.0 4.0 L 48.0 1.0 L 51.0 0.0 L 54.0 8.0 L 54.0 13.0 L 51.0 19.0\" stroke=\"black\" fill=\"none\"/>\n",
       "<path d=\"M 25.0 32.0 L 22.0 31.0 L 17.0 31.0 L 14.0 34.0\" stroke=\"black\" fill=\"none\"/>\n",
       "<path d=\"M 25.0 38.0 L 23.0 37.0 L 19.0 37.0 L 16.0 37.0 L 14.0 38.0\" stroke=\"black\" fill=\"none\"/>\n",
       "<path d=\"M 28.0 40.0 L 17.0 44.0\" stroke=\"black\" fill=\"none\"/>\n",
       "<path d=\"M 41.0 32.0 L 55.0 30.0\" stroke=\"black\" fill=\"none\"/>\n",
       "<path d=\"M 44.0 39.0 L 52.0 35.0 L 60.0 34.0\" stroke=\"black\" fill=\"none\"/>\n",
       "<path d=\"M 46.0 40.0 L 63.0 39.0\" stroke=\"black\" fill=\"none\"/>\n",
       "<path d=\"M 33.0 32.0 L 32.0 31.0 L 31.0 33.0 L 32.0 33.0 L 32.0 31.0\" stroke=\"black\" fill=\"none\"/>\n",
       "</g></svg></div><div style=\"display:inline-block; width: 150px; background-color: white; margin-right:10px;\"><b>recognizable prob: 0.9934983253479004, complete prob: 0.005062132608145475</b><br><svg viewBox=\"0 0 64 64\"><g stroke-width=\"0.4\">\n",
       "<path d=\"M 3.0 18.0 L 3.0 27.0 L 4.0 29.0 L 8.0 32.0 L 14.0 34.0 L 20.0 34.0 L 21.0 35.0 L 28.0 33.0 L 32.0 29.0 L 33.0 26.0 L 34.0 26.0 L 38.0 11.0 L 42.0 3.0 L 42.0 1.0 L 42.0 3.0 L 40.0 3.0 L 40.0 4.0 L 34.0 7.0 L 31.0 10.0 L 21.0 9.0 L 18.0 7.0 L 11.0 7.0 L 7.0 8.0 L 3.0 5.0 L 3.0 3.0 L 2.0 3.0 L 1.0 0.0 L 0.0 2.0 L 1.0 14.0 L 3.0 15.0 L 3.0 16.0\" stroke=\"black\" fill=\"none\"/>\n",
       "<path d=\"M 12.0 16.0 L 12.0 16.0\" stroke=\"black\" fill=\"none\"/>\n",
       "<path d=\"M 12.0 16.0 L 15.0 16.0\" stroke=\"black\" fill=\"none\"/>\n",
       "<path d=\"M 23.0 17.0 L 26.0 17.0\" stroke=\"black\" fill=\"none\"/>\n",
       "<path d=\"M 18.0 21.0 L 20.0 25.0 L 20.0 22.0\" stroke=\"black\" fill=\"none\"/>\n",
       "<path d=\"M 20.0 20.0 L 20.0 20.0\" stroke=\"black\" fill=\"none\"/>\n",
       "<path d=\"M 20.0 20.0 L 20.0 20.0\" stroke=\"black\" fill=\"none\"/>\n",
       "<path d=\"M 20.0 26.0 L 17.0 28.0 L 14.0 27.0 L 13.0 26.0\" stroke=\"black\" fill=\"none\"/>\n",
       "<path d=\"M 20.0 27.0 L 23.0 28.0 L 25.0 27.0\" stroke=\"black\" fill=\"none\"/>\n",
       "<path d=\"M 33.0 31.0 L 36.0 32.0 L 38.0 34.0 L 44.0 37.0 L 46.0 39.0 L 47.0 45.0 L 51.0 52.0 L 59.0 56.0 L 63.0 56.0\" stroke=\"black\" fill=\"none\"/>\n",
       "</g></svg></div><div style=\"display:inline-block; width: 150px; background-color: white; margin-right:10px;\"><b>recognizable prob: 0.9967791438102722, complete prob: 0.46290960907936096</b><br><svg viewBox=\"0 0 64 64\"><g stroke-width=\"0.4\">\n",
       "<path d=\"M 45.0 15.0 L 37.0 15.0 L 27.0 18.0 L 18.0 23.0 L 12.0 30.0 L 10.0 34.0 L 10.0 38.0 L 12.0 41.0 L 18.0 46.0 L 24.0 48.0 L 34.0 48.0 L 36.0 46.0 L 42.0 36.0 L 46.0 23.0 L 46.0 20.0 L 43.0 15.0\" stroke=\"black\" fill=\"none\"/>\n",
       "<path d=\"M 34.0 36.0 L 45.0 37.0 L 47.0 37.0\" stroke=\"black\" fill=\"none\"/>\n",
       "<path d=\"M 26.0 24.0 L 26.0 26.0\" stroke=\"black\" fill=\"none\"/>\n",
       "<path d=\"M 37.0 23.0 L 37.0 23.0\" stroke=\"black\" fill=\"none\"/>\n",
       "<path d=\"M 37.0 23.0 L 36.0 24.0\" stroke=\"black\" fill=\"none\"/>\n",
       "<path d=\"M 22.0 35.0 L 24.0 32.0 L 27.0 31.0 L 29.0 32.0 L 29.0 34.0 L 31.0 32.0 L 32.0 33.0 L 32.0 35.0 L 31.0 37.0\" stroke=\"black\" fill=\"none\"/>\n",
       "<path d=\"M 15.0 35.0 L 13.0 33.0 L 8.0 31.0 L 0.0 30.0\" stroke=\"black\" fill=\"none\"/>\n",
       "<path d=\"M 11.0 34.0 L 1.0 39.0\" stroke=\"black\" fill=\"none\"/>\n",
       "<path d=\"M 16.0 34.0 L 14.0 38.0 L 5.0 43.0\" stroke=\"black\" fill=\"none\"/>\n",
       "<path d=\"M 20.0 16.0 L 20.0 0.0 L 21.0 0.0 L 22.0 2.0 L 23.0 16.0\" stroke=\"black\" fill=\"none\"/>\n",
       "<path d=\"M 43.0 13.0 L 57.0 9.0 L 62.0 9.0 L 63.0 10.0 L 62.0 12.0 L 52.0 19.0 L 51.0 21.0\" stroke=\"black\" fill=\"none\"/>\n",
       "<path d=\"M 43.0 31.0 L 46.0 33.0 L 52.0 34.0\" stroke=\"black\" fill=\"none\"/>\n",
       "</g></svg></div><div style=\"display:inline-block; width: 150px; background-color: white; margin-right:10px;\"><b>recognizable prob: 0.9967883825302124, complete prob: 0.023415548726916313</b><br><svg viewBox=\"0 0 64 64\"><g stroke-width=\"0.4\">\n",
       "<path d=\"M 53.0 8.0 L 50.0 8.0 L 47.0 10.0 L 46.0 16.0 L 47.0 19.0 L 50.0 20.0 L 53.0 19.0 L 56.0 17.0 L 58.0 15.0 L 58.0 13.0 L 56.0 10.0 L 50.0 6.0\" stroke=\"black\" fill=\"none\"/>\n",
       "<path d=\"M 48.0 11.0 L 47.0 9.0 L 46.0 3.0 L 51.0 9.0\" stroke=\"black\" fill=\"none\"/>\n",
       "<path d=\"M 52.0 9.0 L 56.0 4.0 L 59.0 2.0 L 56.0 13.0\" stroke=\"black\" fill=\"none\"/>\n",
       "<path d=\"M 46.0 17.0 L 43.0 16.0 L 33.0 15.0 L 19.0 16.0 L 13.0 19.0 L 11.0 21.0 L 10.0 24.0 L 10.0 30.0 L 14.0 34.0 L 21.0 37.0 L 32.0 36.0 L 41.0 33.0 L 46.0 28.0 L 50.0 17.0\" stroke=\"black\" fill=\"none\"/>\n",
       "<path d=\"M 11.0 23.0 L 9.0 23.0 L 5.0 22.0 L 2.0 17.0 L 0.0 11.0 L 0.0 6.0 L 1.0 2.0 L 4.0 0.0 L 5.0 1.0 L 5.0 12.0 L 8.0 18.0 L 12.0 20.0\" stroke=\"black\" fill=\"none\"/>\n",
       "<path d=\"M 50.0 12.0 L 50.0 13.0\" stroke=\"black\" fill=\"none\"/>\n",
       "<path d=\"M 54.0 12.0 L 54.0 13.0\" stroke=\"black\" fill=\"none\"/>\n",
       "<path d=\"M 51.0 16.0 L 43.0 13.0\" stroke=\"black\" fill=\"none\"/>\n",
       "<path d=\"M 50.0 16.0 L 42.0 15.0\" stroke=\"black\" fill=\"none\"/>\n",
       "<path d=\"M 50.0 16.0 L 54.0 16.0 L 63.0 15.0\" stroke=\"black\" fill=\"none\"/>\n",
       "<path d=\"M 52.0 16.0 L 60.0 16.0\" stroke=\"black\" fill=\"none\"/>\n",
       "<path d=\"M 19.0 33.0 L 20.0 43.0\" stroke=\"black\" fill=\"none\"/>\n",
       "<path d=\"M 20.0 43.0 L 20.0 43.0\" stroke=\"black\" fill=\"none\"/>\n",
       "</g></svg></div><div style=\"display:inline-block; width: 150px; background-color: white; margin-right:10px;\"><b>recognizable prob: 0.9905847907066345, complete prob: 0.027946501970291138</b><br><svg viewBox=\"0 0 64 64\"><g stroke-width=\"0.4\">\n",
       "<path d=\"M 13.0 17.0 L 5.0 8.0 L 2.0 1.0 L 3.0 9.0 L 7.0 24.0\" stroke=\"black\" fill=\"none\"/>\n",
       "<path d=\"M 34.0 14.0 L 36.0 13.0 L 39.0 11.0 L 47.0 0.0 L 49.0 1.0 L 50.0 9.0 L 51.0 22.0\" stroke=\"black\" fill=\"none\"/>\n",
       "<path d=\"M 24.0 36.0 L 32.0 36.0 L 37.0 35.0 L 34.0 36.0 L 30.0 42.0 L 26.0 39.0 L 24.0 36.0 L 29.0 41.0 L 30.0 41.0 L 31.0 39.0 L 31.0 36.0 L 31.0 39.0 L 30.0 38.0 L 29.0 38.0 L 29.0 37.0 L 28.0 38.0\" stroke=\"black\" fill=\"none\"/>\n",
       "<path d=\"M 23.0 47.0 L 17.0 48.0 L 9.0 52.0\" stroke=\"black\" fill=\"none\"/>\n",
       "<path d=\"M 17.0 39.0 L 7.0 41.0 L 0.0 40.0\" stroke=\"black\" fill=\"none\"/>\n",
       "<path d=\"M 17.0 35.0 L 8.0 34.0\" stroke=\"black\" fill=\"none\"/>\n",
       "<path d=\"M 41.0 40.0 L 62.0 49.0\" stroke=\"black\" fill=\"none\"/>\n",
       "<path d=\"M 43.0 37.0 L 51.0 36.0 L 63.0 32.0\" stroke=\"black\" fill=\"none\"/>\n",
       "<path d=\"M 43.0 29.0 L 48.0 29.0 L 55.0 26.0\" stroke=\"black\" fill=\"none\"/>\n",
       "<path d=\"M 34.0 20.0 L 33.0 28.0 L 34.0 32.0 L 35.0 32.0 L 38.0 29.0 L 39.0 26.0 L 39.0 20.0 L 38.0 18.0 L 36.0 17.0 L 33.0 19.0\" stroke=\"black\" fill=\"none\"/>\n",
       "<path d=\"M 16.0 21.0 L 16.0 26.0 L 18.0 32.0 L 21.0 31.0 L 23.0 29.0 L 23.0 25.0 L 22.0 23.0 L 17.0 19.0\" stroke=\"black\" fill=\"none\"/>\n",
       "</g></svg></div><div style=\"display:inline-block; width: 150px; background-color: white; margin-right:10px;\"><b>recognizable prob: 0.9972206354141235, complete prob: 0.1370997130870819</b><br><svg viewBox=\"0 0 64 64\"><g stroke-width=\"0.4\">\n",
       "<path d=\"M 34.0 8.0 L 32.0 6.0 L 29.0 2.0 L 26.0 0.0 L 18.0 1.0\" stroke=\"black\" fill=\"none\"/>\n",
       "<path d=\"M 36.0 12.0 L 36.0 13.0 L 35.0 13.0 L 27.0 13.0 L 22.0 9.0 L 19.0 4.0\" stroke=\"black\" fill=\"none\"/>\n",
       "<path d=\"M 44.0 10.0 L 45.0 7.0 L 56.0 0.0\" stroke=\"black\" fill=\"none\"/>\n",
       "<path d=\"M 60.0 4.0 L 57.0 9.0 L 54.0 12.0 L 48.0 14.0 L 46.0 14.0 L 44.0 13.0\" stroke=\"black\" fill=\"none\"/>\n",
       "<path d=\"M 34.0 11.0 L 34.0 16.0 L 40.0 17.0 L 41.0 16.0 L 41.0 15.0 L 38.0 15.0\" stroke=\"black\" fill=\"none\"/>\n",
       "<path d=\"M 37.0 19.0 L 37.0 26.0\" stroke=\"black\" fill=\"none\"/>\n",
       "<path d=\"M 48.0 29.0 L 35.0 30.0 L 29.0 29.0\" stroke=\"black\" fill=\"none\"/>\n",
       "<path d=\"M 24.0 19.0 L 9.0 16.0 L 0.0 12.0\" stroke=\"black\" fill=\"none\"/>\n",
       "<path d=\"M 21.0 27.0 L 3.0 27.0\" stroke=\"black\" fill=\"none\"/>\n",
       "<path d=\"M 19.0 32.0 L 17.0 32.0 L 9.0 38.0\" stroke=\"black\" fill=\"none\"/>\n",
       "<path d=\"M 55.0 19.0 L 63.0 18.0\" stroke=\"black\" fill=\"none\"/>\n",
       "<path d=\"M 47.0 26.0 L 49.0 25.0 L 51.0 26.0 L 62.0 31.0\" stroke=\"black\" fill=\"none\"/>\n",
       "<path d=\"M 50.0 38.0 L 57.0 39.0\" stroke=\"black\" fill=\"none\"/>\n",
       "<path d=\"M 26.0 9.0 L 26.0 8.0\" stroke=\"black\" fill=\"none\"/>\n",
       "</g></svg></div><div style=\"display:inline-block; width: 150px; background-color: white; margin-right:10px;\"><b>recognizable prob: 0.1611015498638153, complete prob: 0.005488894414156675</b><br><svg viewBox=\"0 0 64 64\"><g stroke-width=\"0.4\">\n",
       "<path d=\"M 38.0 20.0 L 45.0 0.0 L 47.0 0.0 L 51.0 7.0 L 58.0 21.0\" stroke=\"black\" fill=\"none\"/>\n",
       "<path d=\"M 47.0 22.0 L 45.0 20.0 L 45.0 17.0 L 46.0 15.0 L 48.0 15.0 L 53.0 21.0\" stroke=\"black\" fill=\"none\"/>\n",
       "<path d=\"M 15.0 21.0 L 14.0 17.0 L 6.0 8.0 L 0.0 22.0 L 0.0 27.0\" stroke=\"black\" fill=\"none\"/>\n",
       "<path d=\"M 13.0 24.0 L 7.0 18.0 L 7.0 27.0\" stroke=\"black\" fill=\"none\"/>\n",
       "<path d=\"M 61.0 27.0 L 39.0 24.0 L 22.0 24.0 L 19.0 24.0 L 11.0 28.0 L 4.0 35.0 L 2.0 40.0 L 2.0 45.0 L 3.0 47.0 L 8.0 51.0 L 16.0 54.0 L 25.0 55.0 L 38.0 55.0 L 42.0 54.0 L 53.0 49.0 L 57.0 45.0 L 62.0 37.0 L 63.0 29.0 L 61.0 26.0 L 57.0 24.0 L 50.0 24.0\" stroke=\"black\" fill=\"none\"/>\n",
       "<path d=\"M 28.0 43.0 L 29.0 39.0 L 34.0 39.0 L 40.0 37.0\" stroke=\"black\" fill=\"none\"/>\n",
       "<path d=\"M 48.0 37.0 L 54.0 35.0\" stroke=\"black\" fill=\"none\"/>\n",
       "<path d=\"M 50.0 38.0 L 54.0 38.0\" stroke=\"black\" fill=\"none\"/>\n",
       "<path d=\"M 17.0 42.0 L 15.0 40.0 L 13.0 40.0 L 11.0 41.0\" stroke=\"black\" fill=\"none\"/>\n",
       "<path d=\"M 22.0 45.0 L 22.0 45.0\" stroke=\"black\" fill=\"none\"/>\n",
       "<path d=\"M 18.0 43.0 L 13.0 44.0\" stroke=\"black\" fill=\"none\"/>\n",
       "</g></svg></div>"
      ],
      "text/plain": [
       "<IPython.core.display.HTML object>"
      ]
     },
     "metadata": {},
     "output_type": "display_data"
    }
   ],
   "source": [
    "# torch.save(model, \"sketch_transformer_model_cat_v2_deep.pth\")\n",
    "# model = torch.load(\"sketch_transformer_model_cat_v2_init.pth\", map_location=device, weights_only=False)\n",
    "from IPython.display import HTML, display\n",
    "svgs_inline = \"\"\n",
    "\n",
    "print(len(dataset.recognizable))\n",
    "\n",
    "model.eval()\n",
    "\n",
    "with torch.no_grad():\n",
    "    for svg_tokens in tqdm(dataset.data[len(dataset.recognizable): len(dataset.recognizable)+15], desc=\"Evaluating on unlabeled data\"):\n",
    "\n",
    "        decoded_svg = tokenizer.decode(svg_tokens)\n",
    "        x = torch.tensor(svg_tokens, dtype=torch.long).unsqueeze(0).to(device)\n",
    "        output = model(x)\n",
    "        output = output.squeeze(0).cpu().numpy()\n",
    "        svgs_inline += f'<div style=\"display:inline-block; width: 150px; background-color: white; margin-right:10px;\"><b>recognizable prob: {float(output[0])}, complete prob: {float(output[1])}</b><br>{decoded_svg}</div>'\n",
    "        \n",
    "display(HTML(svgs_inline))\n"
   ]
  }
 ],
 "metadata": {
  "kernelspec": {
   "display_name": "Python 3",
   "language": "python",
   "name": "python3"
  },
  "language_info": {
   "codemirror_mode": {
    "name": "ipython",
    "version": 3
   },
   "file_extension": ".py",
   "mimetype": "text/x-python",
   "name": "python",
   "nbconvert_exporter": "python",
   "pygments_lexer": "ipython3",
   "version": "3.13.7"
  }
 },
 "nbformat": 4,
 "nbformat_minor": 5
}
